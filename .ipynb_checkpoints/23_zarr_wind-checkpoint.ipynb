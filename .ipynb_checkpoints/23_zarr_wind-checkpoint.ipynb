{
 "cells": [
  {
   "cell_type": "markdown",
   "id": "33eaeaf7-0fbb-4d52-b9fc-d7dc3c07b8c8",
   "metadata": {},
   "source": [
    "# Wind data in zarr"
   ]
  },
  {
   "cell_type": "code",
   "execution_count": 1,
   "id": "7906bae9-b50c-4f83-b9d2-5a391175078e",
   "metadata": {},
   "outputs": [],
   "source": [
    "import numpy as np\n",
    "import pandas as pd\n",
    "import xarray as xr\n",
    "import pyproj\n",
    "from rasterio.transform import Affine\n",
    "\n",
    "import matplotlib.pyplot as plt\n",
    "import matplotlib.colors as cl\n",
    "from matplotlib.ticker import FormatStrFormatter\n",
    "\n",
    "import cartopy.crs as ccrs\n",
    "import cartopy.feature as cfeature\n",
    "import cartopy.geodesic as cgeo\n",
    "crs = ccrs.PlateCarree()\n",
    "import cmocean.cm as cm\n",
    "\n",
    "from xgcm import Grid\n",
    "from xhistogram.xarray import histogram\n",
    "import warnings\n",
    "warnings.filterwarnings(\"ignore\")\n",
    "\n",
    "import os\n",
    "from glob import glob\n",
    "\n",
    "import m2lib22.box as box\n",
    "import m2lib22.aviso as aviso\n",
    "import m2lib22.cstes as cstes\n",
    "import m2lib22.diagnosis as diag\n",
    "import m2lib22.erastar as eras\n",
    "import m2lib22.stress_to_windterm as stw\n",
    "\n",
    "from m2lib22.cstes import labels, zarr_dir"
   ]
  },
  {
   "cell_type": "code",
   "execution_count": 2,
   "id": "1b182c6c-52b2-490d-9d0c-9798c47bd8f3",
   "metadata": {
    "tags": []
   },
   "outputs": [
    {
     "data": {
      "text/html": [
       "<div>\n",
       "    <div style=\"width: 24px; height: 24px; background-color: #e1e1e1; border: 3px solid #9D9D9D; border-radius: 5px; position: absolute;\"> </div>\n",
       "    <div style=\"margin-left: 48px;\">\n",
       "        <h3 style=\"margin-bottom: 0px;\">Client</h3>\n",
       "        <p style=\"color: #9D9D9D; margin-bottom: 0px;\">Client-3734d8d6-0f1b-11ed-9ddc-0cc47a3f79bb</p>\n",
       "        <table style=\"width: 100%; text-align: left;\">\n",
       "\n",
       "        <tr>\n",
       "        \n",
       "            <td style=\"text-align: left;\"><strong>Connection method:</strong> Cluster object</td>\n",
       "            <td style=\"text-align: left;\"><strong>Cluster type:</strong> dask_jobqueue.PBSCluster</td>\n",
       "        \n",
       "        </tr>\n",
       "\n",
       "        \n",
       "            <tr>\n",
       "                <td style=\"text-align: left;\">\n",
       "                    <strong>Dashboard: </strong> <a href=\"http://10.148.0.243:8787/status\" target=\"_blank\">http://10.148.0.243:8787/status</a>\n",
       "                </td>\n",
       "                <td style=\"text-align: left;\"></td>\n",
       "            </tr>\n",
       "        \n",
       "\n",
       "        </table>\n",
       "\n",
       "        \n",
       "            <details>\n",
       "            <summary style=\"margin-bottom: 20px;\"><h3 style=\"display: inline;\">Cluster Info</h3></summary>\n",
       "            <div class=\"jp-RenderedHTMLCommon jp-RenderedHTML jp-mod-trusted jp-OutputArea-output\">\n",
       "    <div style=\"width: 24px; height: 24px; background-color: #e1e1e1; border: 3px solid #9D9D9D; border-radius: 5px; position: absolute;\">\n",
       "    </div>\n",
       "    <div style=\"margin-left: 48px;\">\n",
       "        <h3 style=\"margin-bottom: 0px; margin-top: 0px;\">PBSCluster</h3>\n",
       "        <p style=\"color: #9D9D9D; margin-bottom: 0px;\">69990408</p>\n",
       "        <table style=\"width: 100%; text-align: left;\">\n",
       "            <tr>\n",
       "                <td style=\"text-align: left;\">\n",
       "                    <strong>Dashboard:</strong> <a href=\"http://10.148.0.243:8787/status\" target=\"_blank\">http://10.148.0.243:8787/status</a>\n",
       "                </td>\n",
       "                <td style=\"text-align: left;\">\n",
       "                    <strong>Workers:</strong> 0\n",
       "                </td>\n",
       "            </tr>\n",
       "            <tr>\n",
       "                <td style=\"text-align: left;\">\n",
       "                    <strong>Total threads:</strong> 0\n",
       "                </td>\n",
       "                <td style=\"text-align: left;\">\n",
       "                    <strong>Total memory:</strong> 0 B\n",
       "                </td>\n",
       "            </tr>\n",
       "            \n",
       "        </table>\n",
       "\n",
       "        <details>\n",
       "            <summary style=\"margin-bottom: 20px;\">\n",
       "                <h3 style=\"display: inline;\">Scheduler Info</h3>\n",
       "            </summary>\n",
       "\n",
       "            <div style=\"\">\n",
       "    <div>\n",
       "        <div style=\"width: 24px; height: 24px; background-color: #FFF7E5; border: 3px solid #FF6132; border-radius: 5px; position: absolute;\"> </div>\n",
       "        <div style=\"margin-left: 48px;\">\n",
       "            <h3 style=\"margin-bottom: 0px;\">Scheduler</h3>\n",
       "            <p style=\"color: #9D9D9D; margin-bottom: 0px;\">Scheduler-b59dbb77-8646-4880-a9ff-0022e4c3f81b</p>\n",
       "            <table style=\"width: 100%; text-align: left;\">\n",
       "                <tr>\n",
       "                    <td style=\"text-align: left;\">\n",
       "                        <strong>Comm:</strong> tcp://10.148.0.243:54791\n",
       "                    </td>\n",
       "                    <td style=\"text-align: left;\">\n",
       "                        <strong>Workers:</strong> 0\n",
       "                    </td>\n",
       "                </tr>\n",
       "                <tr>\n",
       "                    <td style=\"text-align: left;\">\n",
       "                        <strong>Dashboard:</strong> <a href=\"http://10.148.0.243:8787/status\" target=\"_blank\">http://10.148.0.243:8787/status</a>\n",
       "                    </td>\n",
       "                    <td style=\"text-align: left;\">\n",
       "                        <strong>Total threads:</strong> 0\n",
       "                    </td>\n",
       "                </tr>\n",
       "                <tr>\n",
       "                    <td style=\"text-align: left;\">\n",
       "                        <strong>Started:</strong> Just now\n",
       "                    </td>\n",
       "                    <td style=\"text-align: left;\">\n",
       "                        <strong>Total memory:</strong> 0 B\n",
       "                    </td>\n",
       "                </tr>\n",
       "            </table>\n",
       "        </div>\n",
       "    </div>\n",
       "\n",
       "    <details style=\"margin-left: 48px;\">\n",
       "        <summary style=\"margin-bottom: 20px;\">\n",
       "            <h3 style=\"display: inline;\">Workers</h3>\n",
       "        </summary>\n",
       "\n",
       "        \n",
       "\n",
       "    </details>\n",
       "</div>\n",
       "\n",
       "        </details>\n",
       "    </div>\n",
       "</div>\n",
       "            </details>\n",
       "        \n",
       "\n",
       "    </div>\n",
       "</div>"
      ],
      "text/plain": [
       "<Client: 'tcp://10.148.0.243:54791' processes=0 threads=0, memory=0 B>"
      ]
     },
     "execution_count": 2,
     "metadata": {},
     "output_type": "execute_result"
    }
   ],
   "source": [
    "if True:\n",
    "    from dask.distributed import Client\n",
    "    from dask_jobqueue import PBSCluster\n",
    "    #cluster = PBSCluster(cores=56, processes=28, walltime='04:00:00')\n",
    "    #cluster = PBSCluster(cores=7, processes=7, walltime='04:00:00')\n",
    "    cluster = PBSCluster(cores=7, processes=7, walltime='04:00:00')\n",
    "    w = cluster.scale(jobs=1)\n",
    "else:\n",
    "    from dask.distributed import Client, LocalCluster\n",
    "    cluster = LocalCluster()\n",
    "\n",
    "client = Client(cluster)\n",
    "client"
   ]
  },
  {
   "cell_type": "code",
   "execution_count": 3,
   "id": "f576381d-b392-423f-b479-537d2e387d73",
   "metadata": {},
   "outputs": [
    {
     "name": "stdout",
     "output_type": "stream",
     "text": [
      "wind gps_SASSA_SARAL_2018 storred in /home1/datawork/mdemol/m2/wind_gps_SASSA_SARAL_2018.zarr\n",
      "wind gps_SASSA_Sentinel_2018 storred in /home1/datawork/mdemol/m2/wind_gps_SASSA_Sentinel_2018.zarr\n",
      "wind argos_SASSA_SARAL_2018 storred in /home1/datawork/mdemol/m2/wind_argos_SASSA_SARAL_2018.zarr\n",
      "wind argos_SASSA_Sentinel_2018 storred in /home1/datawork/mdemol/m2/wind_argos_SASSA_Sentinel_2018.zarr\n",
      "wind argos_SASSA_Sentinel_2016 storred in /home1/datawork/mdemol/m2/wind_argos_SASSA_Sentinel_2016.zarr\n",
      "wind argos_PEACHI_Sentinel_2018 storred in /home1/datawork/mdemol/m2/wind_argos_PEACHI_Sentinel_2018.zarr\n",
      "wind gps_PEACHI_Sentinel_2018 storred in /home1/datawork/mdemol/m2/wind_gps_PEACHI_Sentinel_2018.zarr\n"
     ]
    }
   ],
   "source": [
    "for l in labels : \n",
    "    ds_data = xr.open_zarr(zarr_dir+'/'+l+'.zarr')\n",
    "    ds_stress = xr.open_zarr(zarr_dir+'/erastar/erastar_'+l+'.zarr')\n",
    "    ds = xr.merge([ds_data,ds_stress.drop(['drifter_x','drifter_y', 'drifter_time'])])\n",
    "    ds_wind = stw.compute_wd_from_stress(ds, east_north=True)\n",
    "    zarr = os.path.join(zarr_dir, \"wind_\"+l+\".zarr\")\n",
    "    ds_wind.chunk({'obs':500}).to_zarr(zarr, mode=\"w\")  \n",
    "    print(f\"wind {l} storred in {zarr}\")"
   ]
  },
  {
   "cell_type": "code",
   "execution_count": 4,
   "id": "49939caf-29c7-4775-afbe-a43ca674ba74",
   "metadata": {},
   "outputs": [
    {
     "name": "stderr",
     "output_type": "stream",
     "text": [
      "distributed.client - ERROR - Failed to reconnect to scheduler after 10.00 seconds, closing client\n"
     ]
    }
   ],
   "source": [
    "cluster.close()"
   ]
  },
  {
   "cell_type": "code",
   "execution_count": null,
   "id": "262bc818-3a7b-49cb-a9cc-dab65a2e762b",
   "metadata": {},
   "outputs": [],
   "source": []
  }
 ],
 "metadata": {
  "kernelspec": {
   "display_name": "Python 3 (ipykernel)",
   "language": "python",
   "name": "python3"
  },
  "language_info": {
   "codemirror_mode": {
    "name": "ipython",
    "version": 3
   },
   "file_extension": ".py",
   "mimetype": "text/x-python",
   "name": "python",
   "nbconvert_exporter": "python",
   "pygments_lexer": "ipython3",
   "version": "3.9.18"
  }
 },
 "nbformat": 4,
 "nbformat_minor": 5
}
