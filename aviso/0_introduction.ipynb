{
 "cells": [
  {
   "cell_type": "markdown",
   "id": "4b8a103a-99c5-4410-bb83-cc3f68c43840",
   "metadata": {},
   "source": [
    "# AVISO : Introduction\n",
    "\n",
    "Voici un ensemble de notebooks pour réaliser la colocalisation entre les données AVISO et les données d'observations issues des bouées GPS / argo.\n",
    "\n",
    "Voici la liste des notebooks:\n",
    "- `1_generate_datacube`: Génération d'un datacube à partir du jeu de données AVISO (permet d'avoir un unique endpoint pour le jeu de données, via un catalogue).\n",
    "- `2_open_datacube`: Ouvrir le datacube avec dask et comparer les performances en termes de chunking sur des opérations simples.\n",
    "- `3_colocation`: Colocaliser les observations avec le datacube et extraire un petit cube autour de chaque point d'observation.\n",
    "- `4_interpolation`: Interpolation des données d'observations avec le datacube.\n",
    "- `5_qualification`: Qualification des résultats en comparaison avec les sorties de Margot. "
   ]
  },
  {
   "cell_type": "code",
   "execution_count": null,
   "id": "94eca21c-e4e9-448c-9d41-8e42c0e22ae9",
   "metadata": {},
   "outputs": [],
   "source": []
  }
 ],
 "metadata": {
  "kernelspec": {
   "display_name": "Python [conda env:data-env]",
   "language": "python",
   "name": "conda-env-data-env-py"
  },
  "language_info": {
   "codemirror_mode": {
    "name": "ipython",
    "version": 3
   },
   "file_extension": ".py",
   "mimetype": "text/x-python",
   "name": "python",
   "nbconvert_exporter": "python",
   "pygments_lexer": "ipython3",
   "version": "3.11.7"
  }
 },
 "nbformat": 4,
 "nbformat_minor": 5
}
