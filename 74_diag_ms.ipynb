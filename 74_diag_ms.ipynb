{
 "cells": [
  {
   "cell_type": "markdown",
   "id": "5f90127d-5c1e-4139-9522-a6293b1a6531",
   "metadata": {},
   "source": [
    "# Compute S"
   ]
  },
  {
   "cell_type": "code",
   "execution_count": 2,
   "id": "ab82decf-7f76-4734-802c-9648c2c7063c",
   "metadata": {},
   "outputs": [
    {
     "name": "stderr",
     "output_type": "stream",
     "text": [
      "/home1/datahome/mdemol/.miniconda3/envs/histenv2/lib/python3.9/site-packages/dask/config.py:742: FutureWarning: Dask configuration key 'distributed.scheduler.transition-log-length' has been deprecated; please use 'distributed.admin.low-level-log-length' instead\n",
      "  warnings.warn(\n",
      "/home1/datahome/mdemol/.miniconda3/envs/histenv2/lib/python3.9/site-packages/dask/config.py:742: FutureWarning: Dask configuration key 'distributed.comm.recent-messages-log-length' has been deprecated; please use 'distributed.admin.low-level-log-length' instead\n",
      "  warnings.warn(\n"
     ]
    }
   ],
   "source": [
    "import numpy as np\n",
    "import pandas as pd\n",
    "import xarray as xr\n",
    "\n",
    "import os\n",
    "from glob import glob\n",
    "\n",
    "import matplotlib.pyplot as plt\n",
    "\n",
    "import histlib.matchup as match\n",
    "import histlib.diagnosis as diag\n",
    "from histlib.cstes import labels, zarr_dir, matchup_dir, var\n",
    "from histlib.matchup import _data_var, _stress_var, _aviso_var"
   ]
  },
  {
   "cell_type": "code",
   "execution_count": 3,
   "id": "8dc08d7d-44fd-47ef-96a7-c0c479263d5f",
   "metadata": {
    "tags": []
   },
   "outputs": [
    {
     "data": {
      "text/html": [
       "<div>\n",
       "    <div style=\"width: 24px; height: 24px; background-color: #e1e1e1; border: 3px solid #9D9D9D; border-radius: 5px; position: absolute;\"> </div>\n",
       "    <div style=\"margin-left: 48px;\">\n",
       "        <h3 style=\"margin-bottom: 0px;\">Client</h3>\n",
       "        <p style=\"color: #9D9D9D; margin-bottom: 0px;\">Client-3c3d6684-abb4-11ee-8649-0cc47a3f78a3</p>\n",
       "        <table style=\"width: 100%; text-align: left;\">\n",
       "\n",
       "        <tr>\n",
       "        \n",
       "            <td style=\"text-align: left;\"><strong>Connection method:</strong> Cluster object</td>\n",
       "            <td style=\"text-align: left;\"><strong>Cluster type:</strong> dask_jobqueue.PBSCluster</td>\n",
       "        \n",
       "        </tr>\n",
       "\n",
       "        \n",
       "            <tr>\n",
       "                <td style=\"text-align: left;\">\n",
       "                    <strong>Dashboard: </strong> <a href=\"http://10.148.0.99:8787/status\" target=\"_blank\">http://10.148.0.99:8787/status</a>\n",
       "                </td>\n",
       "                <td style=\"text-align: left;\"></td>\n",
       "            </tr>\n",
       "        \n",
       "\n",
       "        </table>\n",
       "\n",
       "        \n",
       "\n",
       "        \n",
       "            <details>\n",
       "            <summary style=\"margin-bottom: 20px;\"><h3 style=\"display: inline;\">Cluster Info</h3></summary>\n",
       "            <div class=\"jp-RenderedHTMLCommon jp-RenderedHTML jp-mod-trusted jp-OutputArea-output\">\n",
       "    <div style=\"width: 24px; height: 24px; background-color: #e1e1e1; border: 3px solid #9D9D9D; border-radius: 5px; position: absolute;\">\n",
       "    </div>\n",
       "    <div style=\"margin-left: 48px;\">\n",
       "        <h3 style=\"margin-bottom: 0px; margin-top: 0px;\">PBSCluster</h3>\n",
       "        <p style=\"color: #9D9D9D; margin-bottom: 0px;\">c140211c</p>\n",
       "        <table style=\"width: 100%; text-align: left;\">\n",
       "            <tr>\n",
       "                <td style=\"text-align: left;\">\n",
       "                    <strong>Dashboard:</strong> <a href=\"http://10.148.0.99:8787/status\" target=\"_blank\">http://10.148.0.99:8787/status</a>\n",
       "                </td>\n",
       "                <td style=\"text-align: left;\">\n",
       "                    <strong>Workers:</strong> 0\n",
       "                </td>\n",
       "            </tr>\n",
       "            <tr>\n",
       "                <td style=\"text-align: left;\">\n",
       "                    <strong>Total threads:</strong> 0\n",
       "                </td>\n",
       "                <td style=\"text-align: left;\">\n",
       "                    <strong>Total memory:</strong> 0 B\n",
       "                </td>\n",
       "            </tr>\n",
       "            \n",
       "        </table>\n",
       "\n",
       "        <details>\n",
       "            <summary style=\"margin-bottom: 20px;\">\n",
       "                <h3 style=\"display: inline;\">Scheduler Info</h3>\n",
       "            </summary>\n",
       "\n",
       "            <div style=\"\">\n",
       "    <div>\n",
       "        <div style=\"width: 24px; height: 24px; background-color: #FFF7E5; border: 3px solid #FF6132; border-radius: 5px; position: absolute;\"> </div>\n",
       "        <div style=\"margin-left: 48px;\">\n",
       "            <h3 style=\"margin-bottom: 0px;\">Scheduler</h3>\n",
       "            <p style=\"color: #9D9D9D; margin-bottom: 0px;\">Scheduler-a4f60f9b-d263-4ca1-8124-4de30a74223f</p>\n",
       "            <table style=\"width: 100%; text-align: left;\">\n",
       "                <tr>\n",
       "                    <td style=\"text-align: left;\">\n",
       "                        <strong>Comm:</strong> tcp://10.148.0.99:53616\n",
       "                    </td>\n",
       "                    <td style=\"text-align: left;\">\n",
       "                        <strong>Workers:</strong> 0\n",
       "                    </td>\n",
       "                </tr>\n",
       "                <tr>\n",
       "                    <td style=\"text-align: left;\">\n",
       "                        <strong>Dashboard:</strong> <a href=\"http://10.148.0.99:8787/status\" target=\"_blank\">http://10.148.0.99:8787/status</a>\n",
       "                    </td>\n",
       "                    <td style=\"text-align: left;\">\n",
       "                        <strong>Total threads:</strong> 0\n",
       "                    </td>\n",
       "                </tr>\n",
       "                <tr>\n",
       "                    <td style=\"text-align: left;\">\n",
       "                        <strong>Started:</strong> Just now\n",
       "                    </td>\n",
       "                    <td style=\"text-align: left;\">\n",
       "                        <strong>Total memory:</strong> 0 B\n",
       "                    </td>\n",
       "                </tr>\n",
       "            </table>\n",
       "        </div>\n",
       "    </div>\n",
       "\n",
       "    <details style=\"margin-left: 48px;\">\n",
       "        <summary style=\"margin-bottom: 20px;\">\n",
       "            <h3 style=\"display: inline;\">Workers</h3>\n",
       "        </summary>\n",
       "\n",
       "        \n",
       "\n",
       "    </details>\n",
       "</div>\n",
       "\n",
       "        </details>\n",
       "    </div>\n",
       "</div>\n",
       "            </details>\n",
       "        \n",
       "\n",
       "    </div>\n",
       "</div>"
      ],
      "text/plain": [
       "<Client: 'tcp://10.148.0.99:53616' processes=0 threads=0, memory=0 B>"
      ]
     },
     "execution_count": 3,
     "metadata": {},
     "output_type": "execute_result"
    }
   ],
   "source": [
    "if True:\n",
    "    from dask.distributed import Client\n",
    "    from dask_jobqueue import PBSCluster\n",
    "    #cluster = PBSCluster(cores=56, processes=28, walltime='04:00:00')\n",
    "    #cluster = PBSCluster(cores=7, processes=7, walltime='04:00:00')\n",
    "    cluster = PBSCluster(cores=10, processes=10, walltime='04:00:00')\n",
    "    w = cluster.scale(jobs=1)\n",
    "else:\n",
    "    from dask.distributed import Client, LocalCluster\n",
    "    cluster = LocalCluster()\n",
    "\n",
    "client = Client(cluster)\n",
    "client"
   ]
  },
  {
   "cell_type": "code",
   "execution_count": 4,
   "id": "0f189a04-11a0-42ae-b97d-c61348721361",
   "metadata": {},
   "outputs": [],
   "source": [
    "DL =100*1e3 #meters\n",
    "DT = 3*3600 #seconds\n",
    "id_aviso = 'aviso__0__adt__es_cstrio_z15__drifter_x'\n",
    "id_co = 'co__0__adt_filtered__es_cstrio_z15__drifter_x'"
   ]
  },
  {
   "cell_type": "markdown",
   "id": "205b10bd-9939-4a04-9aef-ed1c06618ef2",
   "metadata": {},
   "source": [
    "# Count"
   ]
  },
  {
   "cell_type": "code",
   "execution_count": 5,
   "id": "03f1bbcb-2b1a-4139-9384-71ae7050030f",
   "metadata": {},
   "outputs": [
    {
     "name": "stdout",
     "output_type": "stream",
     "text": [
      "all            2222836\n",
      "all gps        1210043\n",
      "all argos      1012793\n",
      "drogued all    946737\n",
      "drogued gps    578931\n",
      "drogued argos  367806\n",
      "undrogued all    1276099\n",
      "undrogued gps    631112\n",
      "undrogued argos  644987\n"
     ]
    }
   ],
   "source": [
    "ds = xr.open_dataset(os.path.join(zarr_dir+'_ok',f'ms_{DL//1000}_{DT}.zarr'))\n",
    "print(f'all            {ds.nb_coloc.sum().values}')\n",
    "gps = [l for l in labels if 'gps' in l]\n",
    "print(f'all gps        {ds.sel(drifter_sat_year=gps).nb_coloc.sum().values}')\n",
    "argos = [l for l in labels if 'argos' in l]\n",
    "print(f'all argos      {ds.sel(drifter_sat_year=argos).nb_coloc.sum().values}')\n",
    "dsd = xr.open_dataset(os.path.join(zarr_dir+'_ok',f'ms_{DL//1000}_{DT}_drogued.zarr')).persist()\n",
    "print(f'drogued all    {dsd.nb_coloc.sum().values}')\n",
    "gps = [l for l in dsd.drifter_sat_year.values if 'gps' in l]\n",
    "print(f'drogued gps    {dsd.sel(drifter_sat_year=gps).nb_coloc.sum().values}')\n",
    "argos = [l for l in dsd.drifter_sat_year.values if 'argos' in l]\n",
    "print(f'drogued argos  {dsd.sel(drifter_sat_year=argos).nb_coloc.sum().values}')\n",
    "dsud = xr.open_dataset(os.path.join(zarr_dir+'_ok',f'ms_{DL//1000}_{DT}_undrogued.zarr')).persist()\n",
    "print(f'undrogued all    {dsud.nb_coloc.sum().values}')\n",
    "gps = [l for l in dsud.drifter_sat_year.values if 'gps' in l]\n",
    "print(f'undrogued gps    {dsud.sel(drifter_sat_year=gps).nb_coloc.sum().values}')\n",
    "argos = [l for l in dsud.drifter_sat_year.values if 'argos' in l]\n",
    "print(f'undrogued argos  {dsud.sel(drifter_sat_year=argos).nb_coloc.sum().values}')"
   ]
  },
  {
   "cell_type": "markdown",
   "id": "1d56008e-ff4b-4c6f-ad0f-cde17431e51e",
   "metadata": {},
   "source": [
    "# Datasets "
   ]
  },
  {
   "cell_type": "code",
   "execution_count": 6,
   "id": "21e53b60-ccee-41f2-a5ff-ae19a6b0140c",
   "metadata": {},
   "outputs": [],
   "source": [
    "def global_ms_drifter_sat_year(dsms):\n",
    "    ds = (((dsms*dsms.nb_coloc).sum('drifter_sat_year'))/(dsms.nb_coloc.sum('drifter_sat_year'))).drop('nb_coloc')\n",
    "    for v in dsms.keys():\n",
    "        if v != 'nb_coloc':\n",
    "            ds[v].attrs=dsms[v].attrs\n",
    "    return ds"
   ]
  },
  {
   "cell_type": "code",
   "execution_count": 174,
   "id": "6616bc92-8d75-44e0-984e-5fbbea610680",
   "metadata": {},
   "outputs": [],
   "source": [
    "def plot_closure_bar(ds, id_, ax, title=1):\n",
    "    \"\"\" Plot closure bars for a combination on the axis ax.\n",
    "    \n",
    "    Parameters\n",
    "    ----------\n",
    "    ds : dataset with rms of x, excx and sum (created by )\n",
    "    id_: identification of the combination\n",
    "    ax : axis on which to plot\n",
    "\n",
    "    \"\"\"\n",
    "    dic = ds['sum_'+id_].attrs\n",
    "    acc = ''+dic['acc']\n",
    "    cor = ''+dic['coriolis']\n",
    "    ggrad = ''+dic['ggrad']\n",
    "    wd = ''+dic['wind']\n",
    "\n",
    "    # ACC X\n",
    "    ax.bar(1.5, (np.sqrt(ds[acc]) + np.sqrt(ds['exc_acc_' + id_]))**2,\n",
    "           color ='lightgrey', width = 0.45, zorder=3, align = 'center',)\n",
    "    ax.bar(1.5, (np.sqrt(ds[acc]) - np.sqrt(ds['exc_acc_' + id_]))**2,\n",
    "           color ='w', width = 0.45, zorder=3, align = 'center',)\n",
    "    ax.bar(1.5, ds['exc_acc_' + id_],\n",
    "           color = 'lightsteelblue', width = 0.4, zorder=3, align = 'center')\n",
    "    ax.bar(1.5, ds[acc], bottom = ds['exc_acc_' + id_],\n",
    "           color = 'red', width = 0.4, zorder=3, align = 'center')\n",
    "\n",
    "    # CORIOLIS\n",
    "    ax.bar(2, (np.sqrt(ds['exc_coriolis_' + id_]) + np.sqrt(ds[cor]))**2,\n",
    "           color='lightgrey', width = 0.45, zorder=3, align = 'center',)\n",
    "    ax.bar(2, (np.sqrt(ds['exc_coriolis_' + id_]) - np.sqrt(ds[cor]))**2,\n",
    "           color='w', width = 0.45, zorder=3, align = 'center', )\n",
    "    ax.bar(2, ds['exc_coriolis_' + id_],\n",
    "           color = 'lightsteelblue', width = 0.4, zorder=3, align = 'center')\n",
    "    ax.bar(2, ds[cor], bottom = ds['exc_coriolis_' + id_],\n",
    "           color = 'green', width = 0.4, zorder=3, align = 'center')\n",
    "\n",
    "    # G GRADIENT SLA\n",
    "    ax.bar(2.5, (np.sqrt(ds['exc_ggrad_' + id_]) + np.sqrt(ds[ggrad]))**2,\n",
    "           color ='lightgrey', width = 0.45, zorder=3, align = 'center',)\n",
    "    ax.bar(2.5, (np.sqrt(ds['exc_ggrad_' + id_]) - np.sqrt(ds[ggrad]))**2,\n",
    "           color ='w', width = 0.45, zorder=3, align = 'center',)\n",
    "    ax.bar(2.5, ds['exc_ggrad_' + id_],\n",
    "           color = 'lightsteelblue', width = 0.4, zorder=3, align = 'center')\n",
    "    ax.bar(2.5, ds[ggrad], bottom = ds['exc_ggrad_' + id_],\n",
    "           color = 'c', width = 0.4, zorder=3, align = 'center')\n",
    "\n",
    "    # WIND\n",
    "    ax.bar(3, (np.sqrt(ds['exc_wind_' + id_]) + np.sqrt(ds[wd]))**2,\n",
    "           color ='lightgrey', width = 0.45, zorder=3, align = 'center',)\n",
    "    ax.bar(3, (np.sqrt(ds['exc_wind_' + id_]) - np.sqrt(ds[wd]))**2,\n",
    "           color ='w', width = 0.45, zorder=3, align = 'center',)\n",
    "    ax.bar(3, ds['exc_wind_' + id_],\n",
    "           color = 'lightsteelblue', width = 0.4, zorder=3, align = 'center')\n",
    "    ax.bar(3, ds[wd], bottom = ds['exc_wind_' + id_],\n",
    "           color = 'mediumvioletred', width = 0.4, zorder=3, align = 'center')\n",
    "    \n",
    "    #SUM of ms^2\n",
    "    ax.bar(1,ds[acc],\n",
    "           color = 'red', width = 0.4, zorder=3, align = 'center')\n",
    "    ax.bar(1, ds[cor], bottom = ds[acc],\n",
    "           color = 'green', width = 0.4, zorder=3, align = 'center')\n",
    "    ax.bar(1, ds[ggrad], bottom = ds[acc]+ds[cor],\n",
    "           color = 'c', width = 0.4, zorder=3, align = 'center')\n",
    "    ax.bar(1, ds[wd], bottom = ds[acc]+ds[cor]+ds[ggrad],\n",
    "           color = 'mediumvioletred', width = 0.4, zorder=3, align = 'center')\n",
    "    Ss=ds[acc]+ds[cor]+ds[ggrad]+ds[wd]\n",
    "    ax.text(0.75, Ss+Ss/30, str(np.format_float_scientific(Ss.values,precision = 3)))\n",
    "\n",
    "    ax.set_ylabel(r'Mean square $\\langle ...^2 \\rangle$ [$m^2/s^4$]')\n",
    "    if isinstance(title, int): ax.set_title(id_)\n",
    "    else : ax.set_title(title+'\\n'+id_+'\\n')\n",
    "    \n",
    "    #TOTAL\n",
    "    S = ds['sum_'+id_]\n",
    "    ax.bar(0.5, S, color ='k',width = 0.4, zorder=3)\n",
    "    ax.text(0.25, S+S/20, str(np.format_float_scientific(S.values,precision = 3)))\n",
    "    ax.axhline(y=S, c=\"k\", linewidth=2, ls=':', zorder=4)\n",
    "    \n",
    "    #ax.set_ylim((0,8e-5))\n",
    "    ax.grid(axis='y', zorder=0)\n",
    "    \n",
    "    N=np.arange(0.5,3.5, 0.5) \n",
    "    g = ds[ggrad].attrs['long_name'].replace('rms[',r'').replace(']','').replace('altimatchup','aviso').replace('driftermatchup','aviso').split('+')\n",
    "    ggrad_tick='$\\n $+'.join(g)\n",
    "    w = ds['es_cstrio_z15_alti_wd_x'].attrs['long_name'].replace(']','').split(' from')\n",
    "    wd_tick = '\\n from'.join(w)\n",
    "    ticks = (r'$\\langle S^2\\rangle$',r'$\\sum_x \\langle x^2\\rangle$',r'$d_tu$', r'$-fv$', ggrad_tick, r'$\\frac{1}{\\rho}\\partial_z\\tau_x$')\n",
    "    ax.set_xticks(N, ticks,)\n",
    "\n",
    "    print(f'acc:{ds[acc].values}, coriolis:{ds[cor].values}, ggrad:{ds[ggrad].values}, wind:{ds[wd].values}')"
   ]
  },
  {
   "cell_type": "code",
   "execution_count": 8,
   "id": "a99f68cd-80d7-482a-93a2-1411695e3136",
   "metadata": {},
   "outputs": [],
   "source": [
    "def RSE_id(ds, id_):\n",
    "    dic = ds['sum_'+id_].attrs\n",
    "    acc = ''+dic['acc']\n",
    "    cor = ''+dic['coriolis']\n",
    "    ggrad = ''+dic['ggrad']\n",
    "    wd = ''+dic['wind']\n",
    "    return (ds['sum_'+id_]/(ds[acc]+ds[cor]+ds[ggrad]+ds[wd])).values*100\n",
    "def RSE_df(ds):\n",
    "    RSE = []\n",
    "    for id_ in ds.id_comb.values:\n",
    "        RSE.append(RSE_id(ds, id_))\n",
    "    return pd.DataFrame({'id_comb':ds.id_comb, 'RSE':RSE}).set_index('id_comb')"
   ]
  },
  {
   "cell_type": "code",
   "execution_count": 78,
   "id": "bedaf303-a95a-4143-843a-0a52dc23abfa",
   "metadata": {},
   "outputs": [],
   "source": [
    "# ALL\n",
    "ds['drifter_sat_year'] = labels\n",
    "ds_ = global_ms_drifter_sat_year(ds).sel(id_comb=[id_aviso, id_co])\n",
    "RSE = RSE_df(ds_)\n",
    "gps = [l for l in labels if 'gps' in l]\n",
    "ds_gps = global_ms_drifter_sat_year(ds.sel(drifter_sat_year=gps)).sel(id_comb=[id_aviso, id_co])\n",
    "RSE_gps = RSE_df(ds_gps)\n",
    "argos = [l for l in labels if 'argos' in l]\n",
    "ds_argos = global_ms_drifter_sat_year(ds.sel(drifter_sat_year=argos)).sel(id_comb=[id_aviso, id_co])\n",
    "RSE_argos = RSE_df(ds_argos)\n",
    "\n",
    "# Drogue\n",
    "dsd_ = global_ms_drifter_sat_year(dsd).sel(id_comb=[id_aviso, id_co])\n",
    "RSEd = RSE_df(dsd_)\n",
    "gps = [l for l in dsd.drifter_sat_year.values if 'gps' in l]\n",
    "dsd_gps = global_ms_drifter_sat_year(dsd.sel(drifter_sat_year=gps)).sel(id_comb=[id_aviso, id_co])\n",
    "RSEd_gps = RSE_df(dsd_gps)\n",
    "argos = [l for l in dsd.drifter_sat_year.values if 'argos' in l]\n",
    "dsd_argos = global_ms_drifter_sat_year(dsd.sel(drifter_sat_year=argos)).sel(id_comb=[id_aviso, id_co])\n",
    "RSEd_argos = RSE_df(dsd_argos)\n",
    "\n",
    "\n",
    "# Undrogue\n",
    "dsud_ = global_ms_drifter_sat_year(dsud).sel(id_comb=[id_aviso, id_co])\n",
    "RSEud = RSE_df(dsud_)\n",
    "gps = [l for l in dsud.drifter_sat_year.values if 'gps' in l]\n",
    "dsud_gps = global_ms_drifter_sat_year(dsud.sel(drifter_sat_year=gps)).sel(id_comb=[id_aviso, id_co])\n",
    "RSEud_gps = RSE_df(dsud_gps)\n",
    "argos = [l for l in dsud.drifter_sat_year.values if 'argos' in l]\n",
    "dsud_argos = global_ms_drifter_sat_year(dsud.sel(drifter_sat_year=argos)).sel(id_comb=[id_aviso, id_co])\n",
    "RSEud_argos = RSE_df(dsud_argos)"
   ]
  },
  {
   "cell_type": "code",
   "execution_count": 79,
   "id": "62dd2078-da1f-4fc2-8fc6-c5b9ca04d5e1",
   "metadata": {},
   "outputs": [],
   "source": [
    "RSE['GPS']=RSE_gps\n",
    "RSE['Argos']=RSE_argos\n",
    "RSE['Drogued Argos']=RSEd_argos\n",
    "RSE['Drogued GPS']=RSEd_gps\n",
    "RSE['Undrogued Argos']=RSEud_argos\n",
    "RSE['Undrogued GPS']=RSEud_gps"
   ]
  },
  {
   "cell_type": "code",
   "execution_count": 80,
   "id": "4619168d-afe7-4919-9532-98754b168328",
   "metadata": {},
   "outputs": [
    {
     "data": {
      "text/html": [
       "<div>\n",
       "<style scoped>\n",
       "    .dataframe tbody tr th:only-of-type {\n",
       "        vertical-align: middle;\n",
       "    }\n",
       "\n",
       "    .dataframe tbody tr th {\n",
       "        vertical-align: top;\n",
       "    }\n",
       "\n",
       "    .dataframe thead th {\n",
       "        text-align: right;\n",
       "    }\n",
       "</style>\n",
       "<table border=\"1\" class=\"dataframe\">\n",
       "  <thead>\n",
       "    <tr style=\"text-align: right;\">\n",
       "      <th></th>\n",
       "      <th>RSE</th>\n",
       "      <th>GPS</th>\n",
       "      <th>Argos</th>\n",
       "      <th>Drogued Argos</th>\n",
       "      <th>Drogued GPS</th>\n",
       "      <th>Undrogued Argos</th>\n",
       "      <th>Undrogued GPS</th>\n",
       "    </tr>\n",
       "    <tr>\n",
       "      <th>id_comb</th>\n",
       "      <th></th>\n",
       "      <th></th>\n",
       "      <th></th>\n",
       "      <th></th>\n",
       "      <th></th>\n",
       "      <th></th>\n",
       "      <th></th>\n",
       "    </tr>\n",
       "  </thead>\n",
       "  <tbody>\n",
       "    <tr>\n",
       "      <th>aviso__0__adt__es_cstrio_z15__drifter_x</th>\n",
       "      <td>44.175766</td>\n",
       "      <td>38.309478</td>\n",
       "      <td>50.109561</td>\n",
       "      <td>41.182238</td>\n",
       "      <td>30.488973</td>\n",
       "      <td>54.702221</td>\n",
       "      <td>44.241416</td>\n",
       "    </tr>\n",
       "    <tr>\n",
       "      <th>co__0__adt_filtered__es_cstrio_z15__drifter_x</th>\n",
       "      <td>55.267480</td>\n",
       "      <td>51.538697</td>\n",
       "      <td>59.095925</td>\n",
       "      <td>53.874539</td>\n",
       "      <td>46.781849</td>\n",
       "      <td>61.849950</td>\n",
       "      <td>55.254806</td>\n",
       "    </tr>\n",
       "  </tbody>\n",
       "</table>\n",
       "</div>"
      ],
      "text/plain": [
       "                                                     RSE        GPS  \\\n",
       "id_comb                                                               \n",
       "aviso__0__adt__es_cstrio_z15__drifter_x        44.175766  38.309478   \n",
       "co__0__adt_filtered__es_cstrio_z15__drifter_x  55.267480  51.538697   \n",
       "\n",
       "                                                   Argos  Drogued Argos  \\\n",
       "id_comb                                                                   \n",
       "aviso__0__adt__es_cstrio_z15__drifter_x        50.109561      41.182238   \n",
       "co__0__adt_filtered__es_cstrio_z15__drifter_x  59.095925      53.874539   \n",
       "\n",
       "                                               Drogued GPS  Undrogued Argos  \\\n",
       "id_comb                                                                       \n",
       "aviso__0__adt__es_cstrio_z15__drifter_x          30.488973        54.702221   \n",
       "co__0__adt_filtered__es_cstrio_z15__drifter_x    46.781849        61.849950   \n",
       "\n",
       "                                               Undrogued GPS  \n",
       "id_comb                                                       \n",
       "aviso__0__adt__es_cstrio_z15__drifter_x            44.241416  \n",
       "co__0__adt_filtered__es_cstrio_z15__drifter_x      55.254806  "
      ]
     },
     "execution_count": 80,
     "metadata": {},
     "output_type": "execute_result"
    }
   ],
   "source": [
    "RSE"
   ]
  },
  {
   "cell_type": "markdown",
   "id": "0d72097b-2769-4fcb-ad8e-72abc68ce5c7",
   "metadata": {},
   "source": [
    "_____\n",
    "# GPS VS ARGOS"
   ]
  },
  {
   "cell_type": "code",
   "execution_count": 161,
   "id": "c2496803-cae0-4d4b-b8b1-e4be4d1dd6fd",
   "metadata": {},
   "outputs": [
    {
     "data": {
      "text/plain": [
       "Text(0, 0.5, 'RSE [%]')"
      ]
     },
     "execution_count": 161,
     "metadata": {},
     "output_type": "execute_result"
    },
    {
     "data": {
      "image/png": "[encoded data removed]",
      "text/plain": [
       "<Figure size 300x200 with 1 Axes>"
      ]
     },
     "metadata": {},
     "output_type": "display_data"
    }
   ],
   "source": [
    "fig, ax = plt.subplots(1,1, figsize=(3,2))\n",
    "RSE_ = RSE.reset_index().rename(columns={'id_comb':'Combinations type'}).set_index('Combinations type').transpose().rename(index={'id_comb':'Combinations type'})\n",
    "RSE_[id_co].loc[['GPS', 'Argos']].plot.bar(ax=ax, rot=0,color='teal')\n",
    "ai=-0.25\n",
    "for a in ['GPS', 'Argos']: \n",
    "    #ax.annotate(f'{round(RSE_[id_aviso].loc[a], 1)}%', (ai, RSE_[id_aviso].loc[a]+1))\n",
    "    ax.annotate(f'{round(RSE_[id_co].loc[a], 1)}%', (ai + 0.25, RSE_[id_co].loc[a]+1))\n",
    "    ai+=1\n",
    "ax.grid()\n",
    "ax.set_ylim(0,70)\n",
    "ax.set_ylabel('RSE [%]')\n",
    "#ax.legend(loc='lower center', bbox_to_anchor=(0.5,-0.3))\n",
    "#fig.tight_layout(rect=[0,0,1,1])#left, bottom, right, top (default is 0,0,1,1)"
   ]
  },
  {
   "cell_type": "markdown",
   "id": "3ac5ec5e-09a1-4fd8-94ad-e58230b4019c",
   "metadata": {},
   "source": [
    "_____\n",
    "# Drogues VS ARGOS"
   ]
  },
  {
   "cell_type": "code",
   "execution_count": 166,
   "id": "6738dd80-35ce-48b8-8fcc-2645a8931410",
   "metadata": {},
   "outputs": [
    {
     "data": {
      "text/plain": [
       "Text(0, 0.5, 'RSE [%]')"
      ]
     },
     "execution_count": 166,
     "metadata": {},
     "output_type": "execute_result"
    },
    {
     "data": {
      "image/png": "[encoded data removed]",
      "text/plain": [
       "<Figure size 300x200 with 1 Axes>"
      ]
     },
     "metadata": {},
     "output_type": "display_data"
    }
   ],
   "source": [
    "fig, ax = plt.subplots(1,1, figsize=(3,2))\n",
    "RSE_ = RSE.reset_index().rename(columns={'id_comb':'Combinations type'}).set_index('Combinations type').transpose().rename(index={'id_comb':'Combinations type'})\n",
    "RSE_[id_co].loc[['Drogued GPS', 'Undrogued GPS']].plot.bar(ax=ax, rot=0,color='teal')\n",
    "ai=-0.25\n",
    "for a in ['Drogued GPS', 'Undrogued GPS']: \n",
    "    #ax.annotate(f'{round(RSE_[id_aviso].loc[a], 1)}%', (ai, RSE_[id_aviso].loc[a]+1))\n",
    "    ax.annotate(f'{round(RSE_[id_co].loc[a], 1)}%', (ai + 0.25, RSE_[id_co].loc[a]+1))\n",
    "    ai+=1\n",
    "ax.grid()\n",
    "ax.set_ylim(0,70)\n",
    "ax.set_ylabel('RSE [%]')\n",
    "#ax.legend(loc='lower center', bbox_to_anchor=(0.5,-0.3))\n",
    "#fig.tight_layout(rect=[0,0,1,1])#left, bottom, right, top (default is 0,0,1,1)"
   ]
  },
  {
   "cell_type": "code",
   "execution_count": 168,
   "id": "42893571-6999-446a-b145-4769290d2bcb",
   "metadata": {},
   "outputs": [
    {
     "data": {
      "text/plain": [
       "Text(0, 0.5, 'RSE [%]')"
      ]
     },
     "execution_count": 168,
     "metadata": {},
     "output_type": "execute_result"
    },
    {
     "data": {
      "image/png": "[encoded data removed]",
      "text/plain": [
       "<Figure size 300x200 with 1 Axes>"
      ]
     },
     "metadata": {},
     "output_type": "display_data"
    }
   ],
   "source": [
    "fig, ax = plt.subplots(1,1, figsize=(3,2))\n",
    "RSE_ = RSE.reset_index().rename(columns={'id_comb':'Combinations type'}).set_index('Combinations type').transpose().rename(index={'id_comb':'Combinations type'})\n",
    "RSE_.rename(columns={id_aviso:'AVISO', id_co:'Along-track', }).loc['Drogued GPS'].plot.bar(ax=ax, color=['red', 'teal'], rot=0,)\n",
    "ai=-0.125\n",
    "for a in ['Drogued GPS']: \n",
    "    ax.annotate(f'{round(RSE_[id_aviso].loc[a], 1)}%', (-0.125, RSE_[id_aviso].loc[a]+1))\n",
    "    ax.annotate(f'{round(RSE_[id_co].loc[a], 1)}%', (1-0.125, RSE_[id_co].loc[a]+1))\n",
    "ax.grid()\n",
    "ax.set_ylim(0,70)\n",
    "ax.set_ylabel('RSE [%]')\n",
    "#ax.legend(loc='lower center', bbox_to_anchor=(0.5,-0.3))\n",
    "#fig.tight_layout(rect=[0,0,1,1])#left, bottom, right, top (default is 0,0,1,1)"
   ]
  },
  {
   "cell_type": "markdown",
   "id": "af31c8a5-77f2-4d11-b86f-fef294306e76",
   "metadata": {},
   "source": [
    "_____\n",
    "# S bars"
   ]
  },
  {
   "cell_type": "code",
   "execution_count": 176,
   "id": "a2516354-3a4f-41b4-8afd-fb7964837049",
   "metadata": {},
   "outputs": [
    {
     "name": "stdout",
     "output_type": "stream",
     "text": [
      "acc:1.4146065069516568e-10, coriolis:3.730268315019987e-10, ggrad:1.8011328969622654e-10, wind:1.8053452017610314e-11\n",
      "acc:1.4146065069516568e-10, coriolis:3.730268315019987e-10, ggrad:2.7947198645710157e-10, wind:1.8053452017610314e-11\n"
     ]
    },
    {
     "data": {
      "image/png": "[encoded data removed]",
      "text/plain": [
       "<Figure size 1200x500 with 2 Axes>"
      ]
     },
     "metadata": {},
     "output_type": "display_data"
    }
   ],
   "source": [
    "fig_title=1\n",
    "fig, axs = plt.subplots(nrows=1,ncols=2,\n",
    "                            sharey='all',\n",
    "                            figsize=(12,5))\n",
    "plot_closure_bar(dsd_gps, id_aviso,axs[0], title = 'Drogued GPS AVISO')\n",
    "plot_closure_bar(dsd_gps, id_co ,axs[1], title = 'Drogued GPS Along-track')\n",
    "\n",
    "if isinstance(fig_title, str):\n",
    "    fig.suptitle(fig_title,)\n",
    "\n",
    "\n",
    "colors=['k', 'lightsteelblue','lightgrey', 'red', 'green', 'c','mediumvioletred']\n",
    "labels_ = [r'$\\langle S^2\\rangle$',\n",
    "           r'$\\langle S_{-x}^2\\rangle$',\n",
    "           r'$[(\\sqrt{\\langle S_{-x}^2\\rangle}-\\sqrt{\\langle x^2\\rangle})^2,(\\sqrt{\\langle S_{-x}^2\\rangle}+\\sqrt{\\langle x^2\\rangle})^2$]',\n",
    "           r'$\\langle (x=d_tu)^2\\rangle $ from drifters',\n",
    "          r'$\\langle (x=-fv)^2\\rangle$ from drifters',\n",
    "          r\"$\\langle (x=g\\partial_x\\eta)^2\\rangle$\",\n",
    "           r\"$\\langle (x=\\frac{1}{\\rho}\\partial_z\\tau_x)^2\\rangle$\",\n",
    "          ]                                                                                                                                                              \n",
    "\n",
    "handles = [plt.Rectangle((0,0),1,1, color=colors[i]) for i in range(len(labels_))]\n",
    "fig.legend(handles, labels_, ncol=3,loc='lower center')#, bbox_to_anchor=(1,         0.5))#bbox_transform=fig.transFigure,\n",
    "fig.tight_layout(rect=[0,0.2,1,1])#left, bottom, right, top (default is 0,0,1,1)"
   ]
  },
  {
   "cell_type": "code",
   "execution_count": 177,
   "id": "749f7812-71d8-451f-acbc-a80fc467674f",
   "metadata": {},
   "outputs": [],
   "source": [
    "cluster.close()"
   ]
  },
  {
   "cell_type": "code",
   "execution_count": null,
   "id": "b7542503-8501-444a-bc6d-4a83c4c1a89e",
   "metadata": {},
   "outputs": [],
   "source": []
  }
 ],
 "metadata": {
  "kernelspec": {
   "display_name": "Python 3 (ipykernel)",
   "language": "python",
   "name": "python3"
  },
  "language_info": {
   "codemirror_mode": {
    "name": "ipython",
    "version": 3
   },
   "file_extension": ".py",
   "mimetype": "text/x-python",
   "name": "python",
   "nbconvert_exporter": "python",
   "pygments_lexer": "ipython3",
   "version": "3.9.18"
  }
 },
 "nbformat": 4,
 "nbformat_minor": 5
}
