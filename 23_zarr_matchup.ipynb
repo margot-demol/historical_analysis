{
 "cells": [
  {
   "cell_type": "markdown",
   "id": "2c696d98-d65c-4a33-b26f-aa36a81e038a",
   "metadata": {},
   "source": [
    "# Store matchup"
   ]
  },
  {
   "cell_type": "code",
   "execution_count": 1,
   "id": "c578f106-2def-48aa-b01f-cad67999e4cd",
   "metadata": {},
   "outputs": [
    {
     "name": "stderr",
     "output_type": "stream",
     "text": [
      "/home1/datahome/mdemol/.miniconda3/envs/histenv2/lib/python3.9/site-packages/dask/config.py:742: FutureWarning: Dask configuration key 'distributed.scheduler.transition-log-length' has been deprecated; please use 'distributed.admin.low-level-log-length' instead\n",
      "  warnings.warn(\n",
      "/home1/datahome/mdemol/.miniconda3/envs/histenv2/lib/python3.9/site-packages/dask/config.py:742: FutureWarning: Dask configuration key 'distributed.comm.recent-messages-log-length' has been deprecated; please use 'distributed.admin.low-level-log-length' instead\n",
      "  warnings.warn(\n"
     ]
    }
   ],
   "source": [
    "import numpy as np\n",
    "import pandas as pd\n",
    "import xarray as xr\n",
    "\n",
    "import os\n",
    "from glob import glob\n",
    "\n",
    "import histlib.matchup as match\n",
    "\n",
    "from histlib.cstes import labels, zarr_dir, matchup_dir"
   ]
  },
  {
   "cell_type": "code",
   "execution_count": 2,
   "id": "637922c6-b5f5-48fc-b4b5-7ade04e00118",
   "metadata": {
    "tags": []
   },
   "outputs": [
    {
     "data": {
      "text/html": [
       "<div>\n",
       "    <div style=\"width: 24px; height: 24px; background-color: #e1e1e1; border: 3px solid #9D9D9D; border-radius: 5px; position: absolute;\"> </div>\n",
       "    <div style=\"margin-left: 48px;\">\n",
       "        <h3 style=\"margin-bottom: 0px;\">Client</h3>\n",
       "        <p style=\"color: #9D9D9D; margin-bottom: 0px;\">Client-83ead53d-9e5c-11ee-afdc-0cc47a3f79b9</p>\n",
       "        <table style=\"width: 100%; text-align: left;\">\n",
       "\n",
       "        <tr>\n",
       "        \n",
       "            <td style=\"text-align: left;\"><strong>Connection method:</strong> Cluster object</td>\n",
       "            <td style=\"text-align: left;\"><strong>Cluster type:</strong> dask_jobqueue.PBSCluster</td>\n",
       "        \n",
       "        </tr>\n",
       "\n",
       "        \n",
       "            <tr>\n",
       "                <td style=\"text-align: left;\">\n",
       "                    <strong>Dashboard: </strong> <a href=\"http://10.148.0.238:8787/status\" target=\"_blank\">http://10.148.0.238:8787/status</a>\n",
       "                </td>\n",
       "                <td style=\"text-align: left;\"></td>\n",
       "            </tr>\n",
       "        \n",
       "\n",
       "        </table>\n",
       "\n",
       "        \n",
       "\n",
       "        \n",
       "            <details>\n",
       "            <summary style=\"margin-bottom: 20px;\"><h3 style=\"display: inline;\">Cluster Info</h3></summary>\n",
       "            <div class=\"jp-RenderedHTMLCommon jp-RenderedHTML jp-mod-trusted jp-OutputArea-output\">\n",
       "    <div style=\"width: 24px; height: 24px; background-color: #e1e1e1; border: 3px solid #9D9D9D; border-radius: 5px; position: absolute;\">\n",
       "    </div>\n",
       "    <div style=\"margin-left: 48px;\">\n",
       "        <h3 style=\"margin-bottom: 0px; margin-top: 0px;\">PBSCluster</h3>\n",
       "        <p style=\"color: #9D9D9D; margin-bottom: 0px;\">433d1418</p>\n",
       "        <table style=\"width: 100%; text-align: left;\">\n",
       "            <tr>\n",
       "                <td style=\"text-align: left;\">\n",
       "                    <strong>Dashboard:</strong> <a href=\"http://10.148.0.238:8787/status\" target=\"_blank\">http://10.148.0.238:8787/status</a>\n",
       "                </td>\n",
       "                <td style=\"text-align: left;\">\n",
       "                    <strong>Workers:</strong> 0\n",
       "                </td>\n",
       "            </tr>\n",
       "            <tr>\n",
       "                <td style=\"text-align: left;\">\n",
       "                    <strong>Total threads:</strong> 0\n",
       "                </td>\n",
       "                <td style=\"text-align: left;\">\n",
       "                    <strong>Total memory:</strong> 0 B\n",
       "                </td>\n",
       "            </tr>\n",
       "            \n",
       "        </table>\n",
       "\n",
       "        <details>\n",
       "            <summary style=\"margin-bottom: 20px;\">\n",
       "                <h3 style=\"display: inline;\">Scheduler Info</h3>\n",
       "            </summary>\n",
       "\n",
       "            <div style=\"\">\n",
       "    <div>\n",
       "        <div style=\"width: 24px; height: 24px; background-color: #FFF7E5; border: 3px solid #FF6132; border-radius: 5px; position: absolute;\"> </div>\n",
       "        <div style=\"margin-left: 48px;\">\n",
       "            <h3 style=\"margin-bottom: 0px;\">Scheduler</h3>\n",
       "            <p style=\"color: #9D9D9D; margin-bottom: 0px;\">Scheduler-889a6a12-20fe-4635-beaa-0d0b286b588d</p>\n",
       "            <table style=\"width: 100%; text-align: left;\">\n",
       "                <tr>\n",
       "                    <td style=\"text-align: left;\">\n",
       "                        <strong>Comm:</strong> tcp://10.148.0.238:58709\n",
       "                    </td>\n",
       "                    <td style=\"text-align: left;\">\n",
       "                        <strong>Workers:</strong> 0\n",
       "                    </td>\n",
       "                </tr>\n",
       "                <tr>\n",
       "                    <td style=\"text-align: left;\">\n",
       "                        <strong>Dashboard:</strong> <a href=\"http://10.148.0.238:8787/status\" target=\"_blank\">http://10.148.0.238:8787/status</a>\n",
       "                    </td>\n",
       "                    <td style=\"text-align: left;\">\n",
       "                        <strong>Total threads:</strong> 0\n",
       "                    </td>\n",
       "                </tr>\n",
       "                <tr>\n",
       "                    <td style=\"text-align: left;\">\n",
       "                        <strong>Started:</strong> Just now\n",
       "                    </td>\n",
       "                    <td style=\"text-align: left;\">\n",
       "                        <strong>Total memory:</strong> 0 B\n",
       "                    </td>\n",
       "                </tr>\n",
       "            </table>\n",
       "        </div>\n",
       "    </div>\n",
       "\n",
       "    <details style=\"margin-left: 48px;\">\n",
       "        <summary style=\"margin-bottom: 20px;\">\n",
       "            <h3 style=\"display: inline;\">Workers</h3>\n",
       "        </summary>\n",
       "\n",
       "        \n",
       "\n",
       "    </details>\n",
       "</div>\n",
       "\n",
       "        </details>\n",
       "    </div>\n",
       "</div>\n",
       "            </details>\n",
       "        \n",
       "\n",
       "    </div>\n",
       "</div>"
      ],
      "text/plain": [
       "<Client: 'tcp://10.148.0.238:58709' processes=0 threads=0, memory=0 B>"
      ]
     },
     "execution_count": 2,
     "metadata": {},
     "output_type": "execute_result"
    }
   ],
   "source": [
    "if True:\n",
    "    from dask.distributed import Client\n",
    "    from dask_jobqueue import PBSCluster\n",
    "    #cluster = PBSCluster(cores=56, processes=28, walltime='04:00:00')\n",
    "    #cluster = PBSCluster(cores=7, processes=7, walltime='04:00:00')\n",
    "    cluster = PBSCluster(cores=10, processes=10, walltime='04:00:00')\n",
    "    w = cluster.scale(jobs=5)\n",
    "else:\n",
    "    from dask.distributed import Client, LocalCluster\n",
    "    cluster = LocalCluster()\n",
    "\n",
    "client = Client(cluster)\n",
    "client"
   ]
  },
  {
   "cell_type": "markdown",
   "id": "fd38b666-ce97-416f-825b-7f574c1b9852",
   "metadata": {},
   "source": [
    "## BUILD AND STORE MATCHUP DATA"
   ]
  },
  {
   "cell_type": "code",
   "execution_count": null,
   "id": "204468f6-0eb6-4687-9eb5-9313991ee453",
   "metadata": {},
   "outputs": [
    {
     "name": "stdout",
     "output_type": "stream",
     "text": [
      "matchup gps_Jason-3_2020 storred in /home/datawork-lops-osi/aponte/margot/historical_coloc_ok/matchup/matchup_gps_Jason-3_2020.zarr\n",
      "matchup argos_Jason-3_2020 storred in /home/datawork-lops-osi/aponte/margot/historical_coloc_ok/matchup/matchup_argos_Jason-3_2020.zarr\n",
      "matchup gps_SARAL_2020 storred in /home/datawork-lops-osi/aponte/margot/historical_coloc_ok/matchup/matchup_gps_SARAL_2020.zarr\n",
      "matchup argos_SARAL_2020 storred in /home/datawork-lops-osi/aponte/margot/historical_coloc_ok/matchup/matchup_argos_SARAL_2020.zarr\n",
      "matchup gps_Cryosat-2_2020 storred in /home/datawork-lops-osi/aponte/margot/historical_coloc_ok/matchup/matchup_gps_Cryosat-2_2020.zarr\n",
      "matchup argos_Cryosat-2_2020 storred in /home/datawork-lops-osi/aponte/margot/historical_coloc_ok/matchup/matchup_argos_Cryosat-2_2020.zarr\n",
      "matchup gps_Sentinel-3_A_2020 storred in /home/datawork-lops-osi/aponte/margot/historical_coloc_ok/matchup/matchup_gps_Sentinel-3_A_2020.zarr\n",
      "matchup argos_Sentinel-3_A_2020 storred in /home/datawork-lops-osi/aponte/margot/historical_coloc_ok/matchup/matchup_argos_Sentinel-3_A_2020.zarr\n",
      "matchup gps_Sentinel-3_B_2020 storred in /home/datawork-lops-osi/aponte/margot/historical_coloc_ok/matchup/matchup_gps_Sentinel-3_B_2020.zarr\n",
      "matchup argos_Sentinel-3_B_2020 storred in /home/datawork-lops-osi/aponte/margot/historical_coloc_ok/matchup/matchup_argos_Sentinel-3_B_2020.zarr\n",
      "matchup gps_Jason-3_2019 storred in /home/datawork-lops-osi/aponte/margot/historical_coloc_ok/matchup/matchup_gps_Jason-3_2019.zarr\n",
      "matchup argos_Jason-3_2019 storred in /home/datawork-lops-osi/aponte/margot/historical_coloc_ok/matchup/matchup_argos_Jason-3_2019.zarr\n",
      "matchup gps_SARAL_2019 storred in /home/datawork-lops-osi/aponte/margot/historical_coloc_ok/matchup/matchup_gps_SARAL_2019.zarr\n",
      "matchup argos_SARAL_2019 storred in /home/datawork-lops-osi/aponte/margot/historical_coloc_ok/matchup/matchup_argos_SARAL_2019.zarr\n",
      "matchup gps_Cryosat-2_2019 storred in /home/datawork-lops-osi/aponte/margot/historical_coloc_ok/matchup/matchup_gps_Cryosat-2_2019.zarr\n",
      "matchup argos_Cryosat-2_2019 storred in /home/datawork-lops-osi/aponte/margot/historical_coloc_ok/matchup/matchup_argos_Cryosat-2_2019.zarr\n",
      "matchup gps_Sentinel-3_A_2019 storred in /home/datawork-lops-osi/aponte/margot/historical_coloc_ok/matchup/matchup_gps_Sentinel-3_A_2019.zarr\n",
      "matchup argos_Sentinel-3_A_2019 storred in /home/datawork-lops-osi/aponte/margot/historical_coloc_ok/matchup/matchup_argos_Sentinel-3_A_2019.zarr\n",
      "matchup gps_Sentinel-3_B_2019 storred in /home/datawork-lops-osi/aponte/margot/historical_coloc_ok/matchup/matchup_gps_Sentinel-3_B_2019.zarr\n",
      "matchup argos_Sentinel-3_B_2019 storred in /home/datawork-lops-osi/aponte/margot/historical_coloc_ok/matchup/matchup_argos_Sentinel-3_B_2019.zarr\n",
      "matchup gps_Jason-3_2018 storred in /home/datawork-lops-osi/aponte/margot/historical_coloc_ok/matchup/matchup_gps_Jason-3_2018.zarr\n",
      "matchup argos_Jason-3_2018 storred in /home/datawork-lops-osi/aponte/margot/historical_coloc_ok/matchup/matchup_argos_Jason-3_2018.zarr\n",
      "matchup gps_SARAL_2018 storred in /home/datawork-lops-osi/aponte/margot/historical_coloc_ok/matchup/matchup_gps_SARAL_2018.zarr\n",
      "matchup argos_SARAL_2018 storred in /home/datawork-lops-osi/aponte/margot/historical_coloc_ok/matchup/matchup_argos_SARAL_2018.zarr\n",
      "matchup gps_Cryosat-2_2018 storred in /home/datawork-lops-osi/aponte/margot/historical_coloc_ok/matchup/matchup_gps_Cryosat-2_2018.zarr\n",
      "matchup argos_Cryosat-2_2018 storred in /home/datawork-lops-osi/aponte/margot/historical_coloc_ok/matchup/matchup_argos_Cryosat-2_2018.zarr\n",
      "matchup gps_Sentinel-3_A_2018 storred in /home/datawork-lops-osi/aponte/margot/historical_coloc_ok/matchup/matchup_gps_Sentinel-3_A_2018.zarr\n",
      "matchup argos_Sentinel-3_A_2018 storred in /home/datawork-lops-osi/aponte/margot/historical_coloc_ok/matchup/matchup_argos_Sentinel-3_A_2018.zarr\n",
      "matchup gps_Sentinel-3_B_2018 storred in /home/datawork-lops-osi/aponte/margot/historical_coloc_ok/matchup/matchup_gps_Sentinel-3_B_2018.zarr\n",
      "matchup argos_Sentinel-3_B_2018 storred in /home/datawork-lops-osi/aponte/margot/historical_coloc_ok/matchup/matchup_argos_Sentinel-3_B_2018.zarr\n",
      "matchup gps_Jason-3_2017 storred in /home/datawork-lops-osi/aponte/margot/historical_coloc_ok/matchup/matchup_gps_Jason-3_2017.zarr\n",
      "matchup argos_Jason-3_2017 storred in /home/datawork-lops-osi/aponte/margot/historical_coloc_ok/matchup/matchup_argos_Jason-3_2017.zarr\n",
      "matchup gps_Jason-2_2017 storred in /home/datawork-lops-osi/aponte/margot/historical_coloc_ok/matchup/matchup_gps_Jason-2_2017.zarr\n",
      "matchup argos_Jason-2_2017 storred in /home/datawork-lops-osi/aponte/margot/historical_coloc_ok/matchup/matchup_argos_Jason-2_2017.zarr\n",
      "matchup gps_SARAL_2017 storred in /home/datawork-lops-osi/aponte/margot/historical_coloc_ok/matchup/matchup_gps_SARAL_2017.zarr\n",
      "matchup argos_SARAL_2017 storred in /home/datawork-lops-osi/aponte/margot/historical_coloc_ok/matchup/matchup_argos_SARAL_2017.zarr\n",
      "matchup gps_Cryosat-2_2017 storred in /home/datawork-lops-osi/aponte/margot/historical_coloc_ok/matchup/matchup_gps_Cryosat-2_2017.zarr\n",
      "matchup argos_Cryosat-2_2017 storred in /home/datawork-lops-osi/aponte/margot/historical_coloc_ok/matchup/matchup_argos_Cryosat-2_2017.zarr\n",
      "matchup gps_Sentinel-3_A_2017 storred in /home/datawork-lops-osi/aponte/margot/historical_coloc_ok/matchup/matchup_gps_Sentinel-3_A_2017.zarr\n",
      "matchup argos_Sentinel-3_A_2017 storred in /home/datawork-lops-osi/aponte/margot/historical_coloc_ok/matchup/matchup_argos_Sentinel-3_A_2017.zarr\n",
      "matchup gps_Jason-3_2016 storred in /home/datawork-lops-osi/aponte/margot/historical_coloc_ok/matchup/matchup_gps_Jason-3_2016.zarr\n",
      "matchup argos_Jason-3_2016 storred in /home/datawork-lops-osi/aponte/margot/historical_coloc_ok/matchup/matchup_argos_Jason-3_2016.zarr\n",
      "matchup gps_Jason-2_2016 storred in /home/datawork-lops-osi/aponte/margot/historical_coloc_ok/matchup/matchup_gps_Jason-2_2016.zarr\n",
      "matchup argos_Jason-2_2016 storred in /home/datawork-lops-osi/aponte/margot/historical_coloc_ok/matchup/matchup_argos_Jason-2_2016.zarr\n",
      "matchup gps_SARAL_2016 storred in /home/datawork-lops-osi/aponte/margot/historical_coloc_ok/matchup/matchup_gps_SARAL_2016.zarr\n",
      "matchup argos_SARAL_2016 storred in /home/datawork-lops-osi/aponte/margot/historical_coloc_ok/matchup/matchup_argos_SARAL_2016.zarr\n",
      "matchup gps_Cryosat-2_2016 storred in /home/datawork-lops-osi/aponte/margot/historical_coloc_ok/matchup/matchup_gps_Cryosat-2_2016.zarr\n",
      "matchup argos_Cryosat-2_2016 storred in /home/datawork-lops-osi/aponte/margot/historical_coloc_ok/matchup/matchup_argos_Cryosat-2_2016.zarr\n",
      "matchup gps_Sentinel-3_A_2016 storred in /home/datawork-lops-osi/aponte/margot/historical_coloc_ok/matchup/matchup_gps_Sentinel-3_A_2016.zarr\n"
     ]
    }
   ],
   "source": [
    "for l in labels : \n",
    "    ds = match.matchup_dataset_one(l)\n",
    "    zarr = os.path.join(matchup_dir, f'matchup_{l}.zarr')\n",
    "    ds.to_zarr(zarr, mode=\"w\")\n",
    "    print(f\"matchup {l} storred in {zarr}\")\n"
   ]
  },
  {
   "cell_type": "code",
   "execution_count": 10,
   "id": "fccc2e6e-90b6-4790-977c-29c1a9eab4bb",
   "metadata": {},
   "outputs": [],
   "source": [
    "cluster.close()"
   ]
  },
  {
   "cell_type": "code",
   "execution_count": null,
   "id": "e3d8e7ed-8a90-4ebd-b3b3-fefcaece153d",
   "metadata": {},
   "outputs": [],
   "source": []
  }
 ],
 "metadata": {
  "kernelspec": {
   "display_name": "Python 3 (ipykernel)",
   "language": "python",
   "name": "python3"
  },
  "language_info": {
   "codemirror_mode": {
    "name": "ipython",
    "version": 3
   },
   "file_extension": ".py",
   "mimetype": "text/x-python",
   "name": "python",
   "nbconvert_exporter": "python",
   "pygments_lexer": "ipython3",
   "version": "3.9.18"
  }
 },
 "nbformat": 4,
 "nbformat_minor": 5
}
