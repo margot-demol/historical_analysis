{
 "cells": [
  {
   "cell_type": "markdown",
   "id": "86c00c40-b96e-4e76-926e-4f90f9abaf4d",
   "metadata": {},
   "source": [
    "## Play with the data\n",
    "**Compute Ekman current: <br>\n",
    "$ \\vec{U_{ekman}} = \\beta * \\vec{\\tau} *e^{(i*\\theta)}$\n",
    "<br>\n",
    "with $\\vec{\\tau} = \\rho *CD * ||\\vec{u}|| * \\vec{u}$\n",
    "<br>\n",
    "<br>\n",
    "thus the projected ekman velocity is:<br>\n",
    "$u_{ekman} = \\beta * (cos(\\theta) * \\tau_x - sin(\\theta) * \\tau_y)$ <br>\n",
    "$v_{ekman} = \\beta * (sin(\\theta) * \\tau_x + cos(\\theta) * \\tau_y)$**\n",
    "<br>\n",
    "in Rio 2014 : \n",
    "$\\theta(z=0)=30.75$° <br>\n",
    "$\\beta(z=0)=0.61m^2s/kg$<br>\n",
    "$\\theta(z=15m)=48.18$°<br>\n",
    "$\\beta(z=15m)=0.25m^2s/kg$"
   ]
  },
  {
   "cell_type": "code",
   "execution_count": null,
   "id": "4457ab39-74ee-44b8-b4f0-96342f777811",
   "metadata": {},
   "outputs": [],
   "source": [
    "def cst_rio_z0(thox, thoy, f):\n",
    "    theta=30.75*np.pi/180\n",
    "    beta=0.61\n",
    "    fuek_x= -f*beta0*(np.sin(theta0)*thox+np.cos(theta0)*thoy)\n",
    "    fuek_y= f*beta0*(np.cos(theta0)*thox-np.sin(theta0)*thoy)\n",
    "    return fuek_x, fuek_y\n",
    "\n",
    "def cst_rio_z15(thox, thoy, f):\n",
    "    theta15=48.18*np.pi/180\n",
    "    beta15=0.25\n",
    "    fuek_x= -f*beta15*(np.sin(theta15)*thox+np.cos(theta15)*thoy)\n",
    "    fuek_y= f*beta15*(np.cos(theta15)*thox-np.sin(theta15)*thoy)\n",
    "    return fuek_x, fuek_y"
   ]
  }
 ],
 "metadata": {
  "kernelspec": {
   "display_name": "Python 3 (ipykernel)",
   "language": "python",
   "name": "python3"
  },
  "language_info": {
   "codemirror_mode": {
    "name": "ipython",
    "version": 3
   },
   "file_extension": ".py",
   "mimetype": "text/x-python",
   "name": "python",
   "nbconvert_exporter": "python",
   "pygments_lexer": "ipython3",
   "version": "3.8.13"
  }
 },
 "nbformat": 4,
 "nbformat_minor": 5
}
