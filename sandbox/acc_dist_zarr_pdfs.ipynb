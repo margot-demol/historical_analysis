{
 "cells": [
  {
   "cell_type": "code",
   "execution_count": 1,
   "id": "74e1f067-e66a-4339-b8a7-1a96d591c7e1",
   "metadata": {},
   "outputs": [],
   "source": [
    "import numpy as np\n",
    "import pandas as pd\n",
    "import xarray as xr\n",
    "import pyproj\n",
    "from rasterio.transform import Affine\n",
    "\n",
    "import matplotlib.pyplot as plt\n",
    "import matplotlib.colors as cl\n",
    "\n",
    "import cartopy.crs as ccrs\n",
    "import cartopy.feature as cfeature\n",
    "import cartopy.geodesic as cgeo\n",
    "crs = ccrs.PlateCarree()\n",
    "import cmocean.cm as cm\n",
    "\n",
    "from xgcm import Grid\n",
    "from xhistogram.xarray import histogram\n",
    "import warnings\n",
    "warnings.filterwarnings(\"ignore\")\n",
    "\n",
    "import os\n",
    "from glob import glob\n",
    "\n",
    "import m2lib22.box as box\n",
    "import m2lib22.sat as sat\n",
    "import m2lib22.cstes as cstes\n",
    "import m2lib22.diagnosis as diag"
   ]
  },
  {
   "cell_type": "code",
   "execution_count": 2,
   "id": "c9f4d405-1c7e-4c12-b614-1a5fbcdfaac9",
   "metadata": {},
   "outputs": [
    {
     "data": {
      "text/html": [
       "<div>\n",
       "    <div style=\"width: 24px; height: 24px; background-color: #e1e1e1; border: 3px solid #9D9D9D; border-radius: 5px; position: absolute;\"> </div>\n",
       "    <div style=\"margin-left: 48px;\">\n",
       "        <h3 style=\"margin-bottom: 0px;\">Client</h3>\n",
       "        <p style=\"color: #9D9D9D; margin-bottom: 0px;\">Client-82fdb68c-da90-11ec-89a7-0cc47a3f7985</p>\n",
       "        <table style=\"width: 100%; text-align: left;\">\n",
       "\n",
       "        <tr>\n",
       "        \n",
       "            <td style=\"text-align: left;\"><strong>Connection method:</strong> Cluster object</td>\n",
       "            <td style=\"text-align: left;\"><strong>Cluster type:</strong> dask_jobqueue.PBSCluster</td>\n",
       "        \n",
       "        </tr>\n",
       "\n",
       "        \n",
       "            <tr>\n",
       "                <td style=\"text-align: left;\">\n",
       "                    <strong>Dashboard: </strong> <a href=\"http://10.148.0.146:8787/status\" target=\"_blank\">http://10.148.0.146:8787/status</a>\n",
       "                </td>\n",
       "                <td style=\"text-align: left;\"></td>\n",
       "            </tr>\n",
       "        \n",
       "\n",
       "        </table>\n",
       "\n",
       "        \n",
       "            <details>\n",
       "            <summary style=\"margin-bottom: 20px;\"><h3 style=\"display: inline;\">Cluster Info</h3></summary>\n",
       "            <div class=\"jp-RenderedHTMLCommon jp-RenderedHTML jp-mod-trusted jp-OutputArea-output\">\n",
       "    <div style=\"width: 24px; height: 24px; background-color: #e1e1e1; border: 3px solid #9D9D9D; border-radius: 5px; position: absolute;\">\n",
       "    </div>\n",
       "    <div style=\"margin-left: 48px;\">\n",
       "        <h3 style=\"margin-bottom: 0px; margin-top: 0px;\">PBSCluster</h3>\n",
       "        <p style=\"color: #9D9D9D; margin-bottom: 0px;\">35a17475</p>\n",
       "        <table style=\"width: 100%; text-align: left;\">\n",
       "            <tr>\n",
       "                <td style=\"text-align: left;\">\n",
       "                    <strong>Dashboard:</strong> <a href=\"http://10.148.0.146:8787/status\" target=\"_blank\">http://10.148.0.146:8787/status</a>\n",
       "                </td>\n",
       "                <td style=\"text-align: left;\">\n",
       "                    <strong>Workers:</strong> 0\n",
       "                </td>\n",
       "            </tr>\n",
       "            <tr>\n",
       "                <td style=\"text-align: left;\">\n",
       "                    <strong>Total threads:</strong> 0\n",
       "                </td>\n",
       "                <td style=\"text-align: left;\">\n",
       "                    <strong>Total memory:</strong> 0 B\n",
       "                </td>\n",
       "            </tr>\n",
       "            \n",
       "        </table>\n",
       "\n",
       "        <details>\n",
       "            <summary style=\"margin-bottom: 20px;\">\n",
       "                <h3 style=\"display: inline;\">Scheduler Info</h3>\n",
       "            </summary>\n",
       "\n",
       "            <div style=\"\">\n",
       "    <div>\n",
       "        <div style=\"width: 24px; height: 24px; background-color: #FFF7E5; border: 3px solid #FF6132; border-radius: 5px; position: absolute;\"> </div>\n",
       "        <div style=\"margin-left: 48px;\">\n",
       "            <h3 style=\"margin-bottom: 0px;\">Scheduler</h3>\n",
       "            <p style=\"color: #9D9D9D; margin-bottom: 0px;\">Scheduler-2d9ada1e-fcae-429d-96b6-48495323bd03</p>\n",
       "            <table style=\"width: 100%; text-align: left;\">\n",
       "                <tr>\n",
       "                    <td style=\"text-align: left;\">\n",
       "                        <strong>Comm:</strong> tcp://10.148.0.146:44374\n",
       "                    </td>\n",
       "                    <td style=\"text-align: left;\">\n",
       "                        <strong>Workers:</strong> 0\n",
       "                    </td>\n",
       "                </tr>\n",
       "                <tr>\n",
       "                    <td style=\"text-align: left;\">\n",
       "                        <strong>Dashboard:</strong> <a href=\"http://10.148.0.146:8787/status\" target=\"_blank\">http://10.148.0.146:8787/status</a>\n",
       "                    </td>\n",
       "                    <td style=\"text-align: left;\">\n",
       "                        <strong>Total threads:</strong> 0\n",
       "                    </td>\n",
       "                </tr>\n",
       "                <tr>\n",
       "                    <td style=\"text-align: left;\">\n",
       "                        <strong>Started:</strong> Just now\n",
       "                    </td>\n",
       "                    <td style=\"text-align: left;\">\n",
       "                        <strong>Total memory:</strong> 0 B\n",
       "                    </td>\n",
       "                </tr>\n",
       "            </table>\n",
       "        </div>\n",
       "    </div>\n",
       "\n",
       "    <details style=\"margin-left: 48px;\">\n",
       "        <summary style=\"margin-bottom: 20px;\">\n",
       "            <h3 style=\"display: inline;\">Workers</h3>\n",
       "        </summary>\n",
       "\n",
       "        \n",
       "\n",
       "    </details>\n",
       "</div>\n",
       "\n",
       "        </details>\n",
       "    </div>\n",
       "</div>\n",
       "            </details>\n",
       "        \n",
       "\n",
       "    </div>\n",
       "</div>"
      ],
      "text/plain": [
       "<Client: 'tcp://10.148.0.146:44374' processes=0 threads=0, memory=0 B>"
      ]
     },
     "execution_count": 2,
     "metadata": {},
     "output_type": "execute_result"
    }
   ],
   "source": [
    "if True:\n",
    "    from dask.distributed import Client\n",
    "    from dask_jobqueue import PBSCluster\n",
    "    cluster = PBSCluster(walltime='04:00:00')\n",
    "    w = cluster.scale(jobs=2)\n",
    "else:\n",
    "    from dask.distributed import Client, LocalCluster\n",
    "    #\n",
    "    cluster = LocalCluster()\n",
    "\n",
    "client = Client(cluster)\n",
    "client"
   ]
  },
  {
   "cell_type": "code",
   "execution_count": 3,
   "id": "58f8d107-a705-49ca-bcb9-36feed2b26ba",
   "metadata": {},
   "outputs": [],
   "source": [
    "labels = cstes.labels"
   ]
  },
  {
   "cell_type": "code",
   "execution_count": 4,
   "id": "ecf48300-5202-448d-b23f-d3cb9fbf7812",
   "metadata": {},
   "outputs": [
    {
     "name": "stdout",
     "output_type": "stream",
     "text": [
      "/home1/datawork/mdemol/m2\n"
     ]
    }
   ],
   "source": [
    "zarr_dir = cstes.zarr_dir\n",
    "print(zarr_dir)"
   ]
  },
  {
   "cell_type": "code",
   "execution_count": 5,
   "id": "1159d9b8-a050-49b5-bfb9-4571b76b1aab",
   "metadata": {},
   "outputs": [
    {
     "name": "stdout",
     "output_type": "stream",
     "text": [
      "acc_dist_pdfs storred in zarr\n"
     ]
    }
   ],
   "source": [
    "DS= {l: xr.open_zarr(cstes.zarr_dir+'/'+l+'.zarr').persist() for l in labels[:-1]}### TO CHANGE\n",
    "acc_bins=np.arange(-1e-4,1e-4,2e-6)\n",
    "dist_bins=np.arange(0,1e5,2e3)\n",
    "diag_list = [diag.diag_ind_pdfs, diag.diag_combined_pdfs]\n",
    "bins_list = [ {\"acc\": acc_bins, \"alti___distance\" : dist_bins} ]*2\n",
    "                \n",
    "\n",
    "ds_diag_dist = xr.concat([diag.diags(DS[key].isel( site_obs = DS[key].__site_matchup_indice.compute() )\n",
    "                                .isel(alti_time=10)\n",
    "                                .isel(alti_time_mid=10),\n",
    "                                diag_list, bins_list) for key in DS],\n",
    "                         dim=pd.Index(DS.keys(),name='drifter_sat_year'))\n",
    "\n",
    "zarr = os.path.join(zarr_dir, \"acc_dist_pdfs.zarr\")\n",
    "ds_diag_dist.to_zarr(zarr, mode=\"w\") \n",
    "print('acc_dist_pdfs storred in zarr')"
   ]
  },
  {
   "cell_type": "code",
   "execution_count": null,
   "id": "22de377e-be4c-4530-a082-ed842b4b12a6",
   "metadata": {},
   "outputs": [],
   "source": [
    "#ds = xr.open_zarr(cstes.zarr_dir+'/'+'acc_dist_pdfs.zarr').persist()"
   ]
  },
  {
   "cell_type": "code",
   "execution_count": null,
   "id": "65eb3ecb-5ebd-40f1-aff2-416f67f07183",
   "metadata": {},
   "outputs": [],
   "source": [
    "#ds"
   ]
  },
  {
   "cell_type": "code",
   "execution_count": null,
   "id": "7cc22bc4-39db-4a4f-ae9b-b9314d44fcad",
   "metadata": {},
   "outputs": [],
   "source": []
  }
 ],
 "metadata": {
  "kernelspec": {
   "display_name": "Python 3 (ipykernel)",
   "language": "python",
   "name": "python3"
  },
  "language_info": {
   "codemirror_mode": {
    "name": "ipython",
    "version": 3
   },
   "file_extension": ".py",
   "mimetype": "text/x-python",
   "name": "python",
   "nbconvert_exporter": "python",
   "pygments_lexer": "ipython3",
   "version": "3.8.13"
  }
 },
 "nbformat": 4,
 "nbformat_minor": 5
}
