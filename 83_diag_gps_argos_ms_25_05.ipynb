{
 "cells": [
  {
   "cell_type": "markdown",
   "id": "5f90127d-5c1e-4139-9522-a6293b1a6531",
   "metadata": {},
   "source": [
    "# Global ms diagnosis on main combination\n",
    "- compute residual\n",
    "- compute correlated and uncorrelated part of each term -> evaluate contribution in th H1 hypothesis (correlated part = physical signal)\n",
    "- evaluate H1"
   ]
  },
  {
   "cell_type": "code",
   "execution_count": 1,
   "id": "ab82decf-7f76-4734-802c-9648c2c7063c",
   "metadata": {},
   "outputs": [
    {
     "name": "stderr",
     "output_type": "stream",
     "text": [
      "/home1/datahome/mdemol/.miniconda3/envs/histenv2/lib/python3.9/site-packages/dask/config.py:742: FutureWarning: Dask configuration key 'distributed.scheduler.transition-log-length' has been deprecated; please use 'distributed.admin.low-level-log-length' instead\n",
      "  warnings.warn(\n",
      "/home1/datahome/mdemol/.miniconda3/envs/histenv2/lib/python3.9/site-packages/dask/config.py:742: FutureWarning: Dask configuration key 'distributed.comm.recent-messages-log-length' has been deprecated; please use 'distributed.admin.low-level-log-length' instead\n",
      "  warnings.warn(\n"
     ]
    }
   ],
   "source": [
    "import numpy as np\n",
    "import pandas as pd\n",
    "import xarray as xr\n",
    "\n",
    "import os\n",
    "from glob import glob\n",
    "\n",
    "import matplotlib.pyplot as plt\n",
    "\n",
    "import histlib.matchup as match\n",
    "import histlib.diagnosis as diag\n",
    "from histlib.cstes import labels, zarr_dir, matchup_dir, var\n",
    "from histlib.matchup import _data_var, _stress_var, _aviso_var"
   ]
  },
  {
   "cell_type": "code",
   "execution_count": 16,
   "id": "0f189a04-11a0-42ae-b97d-c61348721361",
   "metadata": {},
   "outputs": [],
   "source": [
    "DL =25*1e3 #meters\n",
    "DT = 0.5*3600 #seconds\n",
    "id_aviso = 'aviso__25__adt__es_cstrio_z15__alti_x'\n",
    "id_co = 'co__25__adt_filtered_ocean_tide_internal_tide__es_cstrio_z15__drifter_x'"
   ]
  },
  {
   "cell_type": "code",
   "execution_count": 17,
   "id": "21e53b60-ccee-41f2-a5ff-ae19a6b0140c",
   "metadata": {},
   "outputs": [],
   "source": [
    "def global_ms_drifter_sat_year(dsms):\n",
    "    ds = (((dsms*dsms.nb_coloc).sum('drifter_sat_year'))/(dsms.nb_coloc.sum('drifter_sat_year'))).drop('nb_coloc')\n",
    "    print(dsms.nb_coloc.sum('drifter_sat_year'))\n",
    "    for v in dsms.keys():\n",
    "        if v != 'nb_coloc':\n",
    "            ds[v].attrs=dsms[v].attrs\n",
    "    return ds"
   ]
  },
  {
   "cell_type": "markdown",
   "id": "1d56008e-ff4b-4c6f-ad0f-cde17431e51e",
   "metadata": {},
   "source": [
    "# Datasets "
   ]
  },
  {
   "cell_type": "code",
   "execution_count": 18,
   "id": "03f1bbcb-2b1a-4139-9384-71ae7050030f",
   "metadata": {},
   "outputs": [
    {
     "name": "stdout",
     "output_type": "stream",
     "text": [
      "<xarray.DataArray 'nb_coloc' ()>\n",
      "array(131411)\n",
      "<xarray.DataArray 'nb_coloc' ()>\n",
      "array(91830)\n"
     ]
    }
   ],
   "source": [
    "dsd = xr.open_dataset(os.path.join(zarr_dir+'_ok','global', f'ms_{int(DL//1000)}_{DT}_drogued.zarr'))\n",
    "gps = [l for l in dsd.drifter_sat_year.values if 'gps' in l]\n",
    "argos = [l for l in dsd.drifter_sat_year.values if 'argos' in l]\n",
    "dsg = global_ms_drifter_sat_year(dsd.sel(drifter_sat_year=gps)).persist()\n",
    "dsa = global_ms_drifter_sat_year(dsd.sel(drifter_sat_year=argos)).persist()"
   ]
  },
  {
   "cell_type": "markdown",
   "id": "ed5cfdfc-84cc-4833-8aae-8aea289ced70",
   "metadata": {},
   "source": [
    "______________________\n",
    "# Closure efficiancy : $\\langle S^2 \\rangle$ and $RSE = \\frac{\\langle S^2 \\rangle}{\\sum_i \\langle x_i^2 \\rangle}$\n",
    "- AVISO more efficient"
   ]
  },
  {
   "cell_type": "code",
   "execution_count": 19,
   "id": "a0b26842-3309-4db0-8e46-caf91dbdd8d3",
   "metadata": {},
   "outputs": [],
   "source": [
    "def compute_sum_ms(ds, id_):\n",
    "    dic = ds['sum_'+id_].attrs\n",
    "    return ds[dic['acc']]+ds[dic['coriolis']]+ds[dic['ggrad']]+ds[dic['wind']]\n",
    "def RSE_id(ds, id_):\n",
    "    dic = ds['sum_'+id_].attrs\n",
    "    acc = ''+dic['acc']\n",
    "    cor = ''+dic['coriolis']\n",
    "    ggrad = ''+dic['ggrad']\n",
    "    wd = ''+dic['wind']\n",
    "    return (ds['sum_'+id_]/(ds[acc]+ds[cor]+ds[ggrad]+ds[wd])).values*100"
   ]
  },
  {
   "cell_type": "code",
   "execution_count": 20,
   "id": "0ba2a3da-1c61-472b-acbb-6fbc04f9e8e5",
   "metadata": {},
   "outputs": [
    {
     "name": "stdout",
     "output_type": "stream",
     "text": [
      "Along-track\n",
      "S2 = 1.995774502868337e-10\n",
      "RSE = 24.812564204978695\n",
      "AVISO\n",
      "S2 = 1.8086538898199847e-10\n",
      "RSE = 26.698090306917948\n",
      "Along-track\n",
      "S2 = 1.9321344511121155e-10\n",
      "RSE = 23.996150150072562\n",
      "AVISO\n",
      "S2 = 1.6305883907500505e-10\n",
      "RSE = 23.85705395667425\n"
     ]
    }
   ],
   "source": [
    "print('Along-track')\n",
    "print('S2 = ' + f\"{dsg['sum_'+id_co].values}\")\n",
    "print(f\"RSE = {RSE_id(dsg, id_co)}\")\n",
    "print('AVISO')\n",
    "print('S2 = ' + f\"{dsg['sum_'+id_aviso].values}\")\n",
    "print(f\"RSE = {RSE_id(dsg, id_aviso)}\")\n",
    "\n",
    "\n",
    "print('Along-track')\n",
    "print('S2 = ' + f\"{dsa['sum_'+id_co].values}\")\n",
    "print(f\"RSE = {RSE_id(dsa, id_co)}\")\n",
    "print('AVISO')\n",
    "print('S2 = ' + f\"{dsa['sum_'+id_aviso].values}\")\n",
    "print(f\"RSE = {RSE_id(dsa, id_aviso)}\")"
   ]
  },
  {
   "cell_type": "code",
   "execution_count": 21,
   "id": "4b762521-396e-4ad2-94f0-3cb7a0f41a79",
   "metadata": {},
   "outputs": [
    {
     "data": {
      "text/plain": [
       "Text(0, 0.5, '$\\\\langle S^2 \\\\rangle$ $[m^2/s^4]$')"
      ]
     },
     "execution_count": 21,
     "metadata": {},
     "output_type": "execute_result"
    },
    {
     "data": {
      "image/png": "[encoded data removed]",
      "text/plain": [
       "<Figure size 400x400 with 1 Axes>"
      ]
     },
     "metadata": {},
     "output_type": "display_data"
    }
   ],
   "source": [
    "fig, ax = plt.subplots(nrows=1,ncols=1,figsize=(4,4))\n",
    "\n",
    "ax.bar(0.5, dsg['sum_'+id_co], color ='k',width = 0.4)\n",
    "ax.bar(1, dsa['sum_'+id_co], color ='k',width = 0.4)\n",
    "ax.text(0.4, dsg['sum_'+id_co]+dsg['sum_'+id_co]/30, str(np.format_float_scientific(dsg['sum_'+id_co].values,precision = 3)))\n",
    "ax.text(0.9, dsa['sum_'+id_co]+dsa['sum_'+id_co]/30, str(np.format_float_scientific(dsa['sum_'+id_co].values,precision = 3)))\n",
    "\n",
    "ax.grid()\n",
    "ax.set_ylim(0,4.2e-10)\n",
    "ticks = ('GPS', 'Argos')\n",
    "ax.set_xticks([0.5, 1], ticks,)\n",
    "ax.set_ylabel(r'$\\langle S^2 \\rangle$ $[m^2/s^4]$')"
   ]
  },
  {
   "cell_type": "code",
   "execution_count": 15,
   "id": "e519e8b7-b5a2-4e63-a245-b0cb00fb5165",
   "metadata": {},
   "outputs": [
    {
     "data": {
      "text/plain": [
       "Text(0, 0.5, '$RSE$ [%]')"
      ]
     },
     "execution_count": 15,
     "metadata": {},
     "output_type": "execute_result"
    },
    {
     "data": {
      "image/png": "[encoded data removed]",
      "text/plain": [
       "<Figure size 400x400 with 1 Axes>"
      ]
     },
     "metadata": {},
     "output_type": "display_data"
    }
   ],
   "source": [
    "fig, ax = plt.subplots(nrows=1,ncols=1,figsize=(4,4))\n",
    "\n",
    "ax.bar(0.5, RSE_id(dsg, id_co), color ='k',width = 0.4)\n",
    "ax.bar(1, RSE_id(dsa, id_co), color ='k',width = 0.4)\n",
    "\n",
    "ax.grid()\n",
    "\n",
    "ticks = ('Along-track', 'AVISO')\n",
    "ax.set_xticks([0.5, 1], ticks,)\n",
    "ax.set_ylabel(r'$RSE$ [%]')"
   ]
  },
  {
   "cell_type": "markdown",
   "id": "e3cf7c1c-cc79-45f9-a382-4cd1aba6b3fa",
   "metadata": {},
   "source": [
    "______________________\n",
    "# $x$ contribution : $Rc_{x_i} =\\langle S_{-x_i}^2\\rangle-\\langle S^2 \\rangle$  and $Rcn_{x_i} = \\frac{\\langle S_{-x_i}^2\\rangle-\\langle S^2 \\rangle}{\\sum_i \\langle x_i^2 \\rangle}$\n",
    "## Under H1 :\n",
    "$Rc_{x_i} = \\frac{\\langle \\hat{x}^2 \\rangle - \\langle {x_i^{e}}^2\\rangle}{\\sum_i \\langle x_i^2 \\rangle}$  \n",
    "\n",
    " - $RC_{x_i}<0 \\Leftrightarrow \\langle \\hat{x}^2 \\rangle < \\langle {x_i^{e}}^2\\rangle$ more error than signal is added\n",
    " - $RC_{x_i}>0 \\Leftrightarrow \\langle \\hat{x}^2 \\rangle > \\langle {x_i^{e}}^2\\rangle$ more signal than error is added\n",
    " - The bigger $Rc_x$ is, the better closure we have\n",
    "Results :\n",
    " - $RC_x$<0 for inertial acceleration and wind"
   ]
  },
  {
   "cell_type": "code",
   "execution_count": 23,
   "id": "bbe82d69-55b0-44da-b3ff-1e75836dfd6c",
   "metadata": {},
   "outputs": [],
   "source": [
    "def plot_closure_bar(ds, id_, ax, title=1):\n",
    "    \"\"\" Plot closure bars for a combination on the axis ax.\n",
    "    \n",
    "    Parameters\n",
    "    ----------\n",
    "    ds : dataset with rms of x, excx and sum (created by )\n",
    "    id_: identification of the combination\n",
    "    ax : axis on which to plot\n",
    "\n",
    "    \"\"\"\n",
    "    dic = ds['sum_'+id_].attrs\n",
    "    acc = ''+dic['acc']\n",
    "    cor = ''+dic['coriolis']\n",
    "    ggrad = ''+dic['ggrad']\n",
    "    wd = ''+dic['wind']\n",
    "\n",
    "    # ACC X\n",
    "    ax.bar(1.5, (np.sqrt(ds[acc]) + np.sqrt(ds['exc_acc_' + id_]))**2,\n",
    "           color ='lightgrey', width = 0.45, zorder=3, align = 'center',)\n",
    "    ax.bar(1.5, (np.sqrt(ds[acc]) - np.sqrt(ds['exc_acc_' + id_]))**2,\n",
    "           color ='w', width = 0.45, zorder=3, align = 'center',)\n",
    "    ax.bar(1.5, ds['exc_acc_' + id_],\n",
    "           color = 'lightsteelblue', width = 0.4, zorder=3, align = 'center')\n",
    "    ax.bar(1.5, ds[acc], bottom = ds['exc_acc_' + id_],\n",
    "           color = 'red', width = 0.4, zorder=3, align = 'center')\n",
    "\n",
    "    # CORIOLIS\n",
    "    ax.bar(2, (np.sqrt(ds['exc_coriolis_' + id_]) + np.sqrt(ds[cor]))**2,\n",
    "           color='lightgrey', width = 0.45, zorder=3, align = 'center',)\n",
    "    ax.bar(2, (np.sqrt(ds['exc_coriolis_' + id_]) - np.sqrt(ds[cor]))**2,\n",
    "           color='w', width = 0.45, zorder=3, align = 'center', )\n",
    "    ax.bar(2, ds['exc_coriolis_' + id_],\n",
    "           color = 'lightsteelblue', width = 0.4, zorder=3, align = 'center')\n",
    "    ax.bar(2, ds[cor], bottom = ds['exc_coriolis_' + id_],\n",
    "           color = 'green', width = 0.4, zorder=3, align = 'center')\n",
    "\n",
    "    # G GRADIENT SLA\n",
    "    ax.bar(2.5, (np.sqrt(ds['exc_ggrad_' + id_]) + np.sqrt(ds[ggrad]))**2,\n",
    "           color ='lightgrey', width = 0.45, zorder=3, align = 'center',)\n",
    "    ax.bar(2.5, (np.sqrt(ds['exc_ggrad_' + id_]) - np.sqrt(ds[ggrad]))**2,\n",
    "           color ='w', width = 0.45, zorder=3, align = 'center',)\n",
    "    ax.bar(2.5, ds['exc_ggrad_' + id_],\n",
    "           color = 'lightsteelblue', width = 0.4, zorder=3, align = 'center')\n",
    "    ax.bar(2.5, ds[ggrad], bottom = ds['exc_ggrad_' + id_],\n",
    "           color = 'c', width = 0.4, zorder=3, align = 'center')\n",
    "\n",
    "    # WIND\n",
    "    ax.bar(3, (np.sqrt(ds['exc_wind_' + id_]) + np.sqrt(ds[wd]))**2,\n",
    "           color ='lightgrey', width = 0.45, zorder=3, align = 'center',)\n",
    "    ax.bar(3, (np.sqrt(ds['exc_wind_' + id_]) - np.sqrt(ds[wd]))**2,\n",
    "           color ='w', width = 0.45, zorder=3, align = 'center',)\n",
    "    ax.bar(3, ds['exc_wind_' + id_],\n",
    "           color = 'lightsteelblue', width = 0.4, zorder=3, align = 'center')\n",
    "    ax.bar(3, ds[wd], bottom = ds['exc_wind_' + id_],\n",
    "           color = 'mediumvioletred', width = 0.4, zorder=3, align = 'center')\n",
    "    \n",
    "    #SUM of ms^2\n",
    "    ax.bar(1,ds[acc],\n",
    "           color = 'red', width = 0.4, zorder=3, align = 'center')\n",
    "    ax.bar(1, ds[cor], bottom = ds[acc],\n",
    "           color = 'green', width = 0.4, zorder=3, align = 'center')\n",
    "    ax.bar(1, ds[ggrad], bottom = ds[acc]+ds[cor],\n",
    "           color = 'c', width = 0.4, zorder=3, align = 'center')\n",
    "    ax.bar(1, ds[wd], bottom = ds[acc]+ds[cor]+ds[ggrad],\n",
    "           color = 'mediumvioletred', width = 0.4, zorder=3, align = 'center')\n",
    "    Ss=ds[acc]+ds[cor]+ds[ggrad]+ds[wd]\n",
    "    ax.text(0.75, Ss+Ss/30, str(np.format_float_scientific(Ss.values,precision = 3)))\n",
    "\n",
    "    ax.set_ylabel(r'Mean square $\\langle ...^2 \\rangle$ [$m^2/s^4$]')\n",
    "    if isinstance(title, int): ax.set_title(id_)\n",
    "    else : ax.set_title(title+'\\n'+id_+'\\n')\n",
    "    \n",
    "    #TOTAL\n",
    "    S = ds['sum_'+id_]\n",
    "    ax.bar(0.5, S, color ='k',width = 0.4, zorder=3)\n",
    "    ax.text(0.25, S+S/20, str(np.format_float_scientific(S.values,precision = 3)))\n",
    "    ax.axhline(y=S, c=\"k\", linewidth=2, ls=':', zorder=4)\n",
    "    \n",
    "    #ax.set_ylim((0,8e-5))\n",
    "    ax.grid(axis='y', zorder=0)\n",
    "    \n",
    "    N=np.arange(0.5,3.5, 0.5) \n",
    "    #g = ds[ggrad].attrs['long_name'].replace('rms[',r'').replace(']','').replace('altimatchup','aviso').replace('driftermatchup','aviso').split('+')\n",
    "    #ggrad_tick='$\\n $+'.join(g)\n",
    "    #w = ds_all['rms_es_cstrio_z15_alti_wd_x'].attrs['long_name'].replace('rms[',r'').replace(']','').split(' from')\n",
    "    #wd_tick = '\\n from'.join(w)\n",
    "    #ticks = (r'$\\langle S^2\\rangle$',r'$\\sum_x \\langle x^2\\rangle$',r'$d_tu$', r'$-fv$', ggrad_tick, r'$\\frac{1}{\\rho}\\partial_z\\tau_x$')\n",
    "    #ax.set_xticks(N, ticks,)\n",
    "\n",
    "    print(f'acc:{ds[acc].values}, coriolis:{ds[cor].values}, ggrad:{ds[ggrad].values}, wind:{ds[wd].values}')"
   ]
  },
  {
   "cell_type": "code",
   "execution_count": 24,
   "id": "99751729-3a65-4ade-a4ed-19f0259f02dd",
   "metadata": {},
   "outputs": [],
   "source": [
    "def compute_sum_ms(ds, id_):\n",
    "    dic = ds['sum_'+id_].attrs\n",
    "    return ds[dic['acc']]+ds[dic['coriolis']]+ds[dic['ggrad']]+ds[dic['wind']]\n",
    "def RC_x(ds, id_):\n",
    "    if isinstance(id_, str):\n",
    "        dic = ds['sum_'+id_].attrs\n",
    "        lab = ['acc', 'coriolis', 'ggrad', 'wind']\n",
    "        s = compute_sum_ms(ds, id_)\n",
    "        df = pd.DataFrame({l:((ds['exc_'+l+'_'+id_] - ds['sum_'+id_])/s).values for l in lab}, index=pd.Index([id_], name='id_comb'))\n",
    "    else :\n",
    "        D =[]\n",
    "        DN = []\n",
    "        for id__ in id_ :\n",
    "            dic = ds['sum_'+id__].attrs\n",
    "            lab = ['acc', 'coriolis', 'ggrad', 'wind']\n",
    "            s = compute_sum_ms(ds, id__)\n",
    "            D.append(pd.DataFrame({l:((ds['exc_'+l+'_'+id__] - ds['sum_'+id__])).values for l in lab}, index=pd.Index([id__], name='id_comb')))\n",
    "            DN.append(pd.DataFrame({l:((ds['exc_'+l+'_'+id__] - ds['sum_'+id__])/s).values for l in lab}, index=pd.Index([id__], name='id_comb')))\n",
    "        df=pd.concat(D)\n",
    "        dfn=pd.concat(DN)\n",
    "    return df, dfn"
   ]
  },
  {
   "cell_type": "code",
   "execution_count": 25,
   "id": "8e7789c0-5af4-4a00-8a5a-c02a47d449d2",
   "metadata": {},
   "outputs": [],
   "source": [
    "rc, rcn = RC_x(dsa, [id_co, id_aviso])"
   ]
  },
  {
   "cell_type": "code",
   "execution_count": 26,
   "id": "1f1051cb-46f5-423f-9fc5-8f92c5aa1c16",
   "metadata": {},
   "outputs": [
    {
     "data": {
      "text/html": [
       "<div>\n",
       "<style scoped>\n",
       "    .dataframe tbody tr th:only-of-type {\n",
       "        vertical-align: middle;\n",
       "    }\n",
       "\n",
       "    .dataframe tbody tr th {\n",
       "        vertical-align: top;\n",
       "    }\n",
       "\n",
       "    .dataframe thead th {\n",
       "        text-align: right;\n",
       "    }\n",
       "</style>\n",
       "<table border=\"1\" class=\"dataframe\">\n",
       "  <thead>\n",
       "    <tr style=\"text-align: right;\">\n",
       "      <th></th>\n",
       "      <th>acc</th>\n",
       "      <th>coriolis</th>\n",
       "      <th>ggrad</th>\n",
       "      <th>wind</th>\n",
       "    </tr>\n",
       "    <tr>\n",
       "      <th>id_comb</th>\n",
       "      <th></th>\n",
       "      <th></th>\n",
       "      <th></th>\n",
       "      <th></th>\n",
       "    </tr>\n",
       "  </thead>\n",
       "  <tbody>\n",
       "    <tr>\n",
       "      <th>co__25__adt_filtered_ocean_tide_internal_tide__es_cstrio_z15__drifter_x</th>\n",
       "      <td>5.469878e-11</td>\n",
       "      <td>1.875077e-10</td>\n",
       "      <td>2.061009e-10</td>\n",
       "      <td>-2.954906e-11</td>\n",
       "    </tr>\n",
       "    <tr>\n",
       "      <th>aviso__25__adt__es_cstrio_z15__alti_x</th>\n",
       "      <td>2.099011e-11</td>\n",
       "      <td>1.287904e-10</td>\n",
       "      <td>2.363144e-10</td>\n",
       "      <td>-2.872981e-11</td>\n",
       "    </tr>\n",
       "  </tbody>\n",
       "</table>\n",
       "</div>"
      ],
      "text/plain": [
       "                                                             acc  \\\n",
       "id_comb                                                            \n",
       "co__25__adt_filtered_ocean_tide_internal_tide__...  5.469878e-11   \n",
       "aviso__25__adt__es_cstrio_z15__alti_x               2.099011e-11   \n",
       "\n",
       "                                                        coriolis  \\\n",
       "id_comb                                                            \n",
       "co__25__adt_filtered_ocean_tide_internal_tide__...  1.875077e-10   \n",
       "aviso__25__adt__es_cstrio_z15__alti_x               1.287904e-10   \n",
       "\n",
       "                                                           ggrad          wind  \n",
       "id_comb                                                                         \n",
       "co__25__adt_filtered_ocean_tide_internal_tide__...  2.061009e-10 -2.954906e-11  \n",
       "aviso__25__adt__es_cstrio_z15__alti_x               2.363144e-10 -2.872981e-11  "
      ]
     },
     "execution_count": 26,
     "metadata": {},
     "output_type": "execute_result"
    }
   ],
   "source": [
    "rc"
   ]
  },
  {
   "cell_type": "code",
   "execution_count": 27,
   "id": "6900276f-2fb4-4da3-bf12-4e4efb9ab5a3",
   "metadata": {},
   "outputs": [
    {
     "data": {
      "text/html": [
       "<div>\n",
       "<style scoped>\n",
       "    .dataframe tbody tr th:only-of-type {\n",
       "        vertical-align: middle;\n",
       "    }\n",
       "\n",
       "    .dataframe tbody tr th {\n",
       "        vertical-align: top;\n",
       "    }\n",
       "\n",
       "    .dataframe thead th {\n",
       "        text-align: right;\n",
       "    }\n",
       "</style>\n",
       "<table border=\"1\" class=\"dataframe\">\n",
       "  <thead>\n",
       "    <tr style=\"text-align: right;\">\n",
       "      <th></th>\n",
       "      <th>acc</th>\n",
       "      <th>coriolis</th>\n",
       "      <th>ggrad</th>\n",
       "      <th>wind</th>\n",
       "    </tr>\n",
       "    <tr>\n",
       "      <th>id_comb</th>\n",
       "      <th></th>\n",
       "      <th></th>\n",
       "      <th></th>\n",
       "      <th></th>\n",
       "    </tr>\n",
       "  </thead>\n",
       "  <tbody>\n",
       "    <tr>\n",
       "      <th>co__25__adt_filtered_ocean_tide_internal_tide__es_cstrio_z15__drifter_x</th>\n",
       "      <td>0.067933</td>\n",
       "      <td>0.232875</td>\n",
       "      <td>0.255967</td>\n",
       "      <td>-0.036698</td>\n",
       "    </tr>\n",
       "    <tr>\n",
       "      <th>aviso__25__adt__es_cstrio_z15__alti_x</th>\n",
       "      <td>0.030711</td>\n",
       "      <td>0.188433</td>\n",
       "      <td>0.345750</td>\n",
       "      <td>-0.042034</td>\n",
       "    </tr>\n",
       "  </tbody>\n",
       "</table>\n",
       "</div>"
      ],
      "text/plain": [
       "                                                         acc  coriolis  \\\n",
       "id_comb                                                                  \n",
       "co__25__adt_filtered_ocean_tide_internal_tide__...  0.067933  0.232875   \n",
       "aviso__25__adt__es_cstrio_z15__alti_x               0.030711  0.188433   \n",
       "\n",
       "                                                       ggrad      wind  \n",
       "id_comb                                                                 \n",
       "co__25__adt_filtered_ocean_tide_internal_tide__...  0.255967 -0.036698  \n",
       "aviso__25__adt__es_cstrio_z15__alti_x               0.345750 -0.042034  "
      ]
     },
     "execution_count": 27,
     "metadata": {},
     "output_type": "execute_result"
    }
   ],
   "source": [
    "rcn"
   ]
  },
  {
   "cell_type": "code",
   "execution_count": 28,
   "id": "bf615639-2118-4f30-9537-9c878adcda58",
   "metadata": {},
   "outputs": [
    {
     "name": "stdout",
     "output_type": "stream",
     "text": [
      "acc:9.261633325571003e-11, coriolis:3.7056390363860044e-10, ggrad:3.2832158771479906e-10, wind:1.368335677561058e-11\n",
      "acc:9.261633325571003e-11, coriolis:3.7056390363860044e-10, ggrad:2.066491727782553e-10, wind:1.3653301022262965e-11\n"
     ]
    },
    {
     "data": {
      "image/png": "[encoded data removed]",
      "text/plain": [
       "<Figure size 800x700 with 2 Axes>"
      ]
     },
     "metadata": {},
     "output_type": "display_data"
    }
   ],
   "source": [
    "fig_title=1\n",
    "fig, axs = plt.subplots(nrows=2,ncols=1,\n",
    "                            sharey='all',\n",
    "                            figsize=(8,7))\n",
    "plot_closure_bar(dsa, id_co ,axs[0], title = 'Along-track')\n",
    "plot_closure_bar(dsa, id_aviso,axs[1], title = 'AVISO')\n",
    "\n",
    "\n",
    "if isinstance(fig_title, str):\n",
    "    fig.suptitle(fig_title,)\n",
    "\n",
    "\n",
    "colors=['k', 'lightsteelblue','lightgrey', 'red', 'green', 'c','mediumvioletred']\n",
    "labels_ = [r'$\\langle S^2\\rangle$',\n",
    "           r'$\\langle S_{-x}^2\\rangle$',\n",
    "           r'$[(\\sqrt{\\langle S_{-x}^2\\rangle}-\\sqrt{\\langle x^2\\rangle})^2,(\\sqrt{\\langle S_{-x}^2\\rangle}+\\sqrt{\\langle x^2\\rangle})^2$]',\n",
    "           r'$\\langle (x=d_tu)^2\\rangle $ from drifters',\n",
    "          r'$\\langle (x=-fv)^2\\rangle$ from drifters',\n",
    "          r\"$\\langle (x=g\\partial_x\\eta)^2\\rangle$\",\n",
    "           r\"$\\langle (x=\\frac{1}{\\rho}\\partial_z\\tau_x)^2\\rangle$\",\n",
    "          ]                                                                                                                                                              \n",
    "\n",
    "handles = [plt.Rectangle((0,0),1,1, color=colors[i]) for i in range(len(labels_))]\n",
    "fig.legend(handles, labels_, ncol=3,loc='lower center')#, bbox_to_anchor=(1,         0.5))#bbox_transform=fig.transFigure,\n",
    "fig.tight_layout(rect=[0,0.15,1,1])#left, bottom, right, top (default is 0,0,1,1)"
   ]
  },
  {
   "cell_type": "markdown",
   "id": "36e67c0f-31cc-4cf0-b6f7-dbf7ded35266",
   "metadata": {},
   "source": [
    "________________________\n",
    "# True/Error in $x$ \n",
    "$\\langle \\hat{x_i} \\rangle +\\langle \\hat{x_i}{x_i^{e}}^2 \\rangle  = \\frac{1}{2}(\\langle x_i^2 \\rangle - \\langle S^2 \\rangle +\\langle S_{-x_i}^2 \\rangle) $  \n",
    "\n",
    "$\\langle {x_i^{e}}^2 \\rangle+\\langle \\hat{x_i}{x_i^{e}}^2 \\rangle  = \\frac{1}{2}(\\langle x_i^2 \\rangle + \\langle S^2 \\rangle -\\langle S_{-x_i}^2 \\rangle) $\n",
    "## Under H1\n",
    "\n",
    "$\\langle \\hat{x_i} \\rangle  = \\frac{1}{2}(\\langle x_i^2 \\rangle - \\langle S^2 \\rangle +\\langle S_{-x_i}^2 \\rangle) $  \n",
    "\n",
    "$\\langle {x_i^{e}}^2 \\rangle  = \\frac{1}{2}(\\langle x_i^2 \\rangle + \\langle S^2 \\rangle -\\langle S_{-x_i}^2 \\rangle) $"
   ]
  },
  {
   "cell_type": "code",
   "execution_count": 29,
   "id": "73106be0-2209-4fd3-b752-ebb3c0ec5549",
   "metadata": {},
   "outputs": [],
   "source": [
    "def true_err_x(ds, id_) :\n",
    "    dso = xr.Dataset()\n",
    "    dic = ds['sum_'+id_].attrs\n",
    "    for x in ['acc', 'coriolis', 'ggrad', 'wind']:\n",
    "        X =dic[x]\n",
    "        dso[x] = ds[X]\n",
    "        dso['exc_'+x] = ds['exc_' + x +'_'+ id_]\n",
    "        dso['true_'+x] = (ds[X] - ds['sum_'+id_] + ds['exc_' + x +'_'+ id_])/2\n",
    "        dso['err_'+x] = (ds[X] + ds['sum_'+id_] - ds['exc_' + x +'_'+ id_])/2\n",
    "    dso['S'] = ds['sum_'+id_]\n",
    "    return dso\n",
    "dsmsa = xr.concat([true_err_x(dsa, id_co), true_err_x(dsa, id_aviso)], dim=pd.Index([id_co, id_aviso], name = 'id_comb'))\n",
    "dsmsg = xr.concat([true_err_x(dsg, id_co), true_err_x(dsg, id_aviso)], dim=pd.Index([id_co, id_aviso], name = 'id_comb'))"
   ]
  },
  {
   "cell_type": "code",
   "execution_count": 30,
   "id": "9441c304-5b25-49f6-8db8-00b717bdd1ec",
   "metadata": {},
   "outputs": [],
   "source": [
    "def plot_cor_uncor_part(ds, ax, title=None):\n",
    "    \"\"\" \n",
    "    Parameters\n",
    "    ----------\n",
    "    ds : dataset with rms of x, excx and sum (created by )\n",
    "    id_: identification of the combination\n",
    "    ax : axis on which to plot\n",
    "\n",
    "    \"\"\"\n",
    "    # ACC X\n",
    "    ax.bar(1.5, ds['true_acc'],\n",
    "           color = 'red', width = 0.4, zorder=3, align = 'center')\n",
    "    ax.bar(1.5, ds['err_acc'], bottom = ds['true_acc'],\n",
    "           color = 'lightsteelblue', width = 0.4, zorder=3, align = 'center')\n",
    "    ax.text(1.5, ds['acc']+5e-12, str(np.format_float_scientific(ds['acc'].values,precision = 3)), horizontalalignment='center')\n",
    "    rse = np.round(ds['true_acc']/ds['acc']*100,2)\n",
    "    ax.text(1.5, ds['true_acc']+5e-12, f'{rse.values}%', horizontalalignment='center')\n",
    "\n",
    "    # CORIOLIS\n",
    "    ax.bar(2, ds['true_coriolis'],\n",
    "           color = 'green', width = 0.4, zorder=3, align = 'center')\n",
    "    ax.bar(2, ds['err_coriolis'], bottom = ds['true_coriolis'],\n",
    "           color = 'lightsteelblue', width = 0.4, zorder=3, align = 'center')\n",
    "    ax.text(2, ds['coriolis']+5e-12, str(np.format_float_scientific(ds['coriolis'].values,precision = 3)), horizontalalignment='center')\n",
    "    rse = np.round(ds['true_coriolis']/ds['coriolis']*100,2)\n",
    "    ax.text(2, ds['true_coriolis']+5e-12, f'{rse.values}%', horizontalalignment='center')\n",
    "\n",
    "    # G GRADIENT SLA\n",
    "    ax.bar(2.5, ds['true_ggrad'],\n",
    "           color = 'c', width = 0.4, zorder=3, align = 'center')\n",
    "    ax.bar(2.5, ds['err_ggrad'], bottom = ds['true_ggrad'],\n",
    "           color = 'lightsteelblue', width = 0.4, zorder=3, align = 'center')\n",
    "    ax.text(2.5, ds['ggrad']+5e-12, str(np.format_float_scientific(ds['ggrad'].values,precision = 3)), horizontalalignment='center')\n",
    "    rse = np.round(ds['true_ggrad']/ds['ggrad']*100,2)\n",
    "    ax.text(2.5, ds['true_ggrad']+5e-12, f'{rse.values}%', horizontalalignment='center')\n",
    "\n",
    "        # WIND\n",
    "    ax.bar(3, ds['true_wind'],\n",
    "           color = 'mediumvioletred', width = 0.4, zorder=3, align = 'center')\n",
    "    ax.bar(3, ds['err_wind'], bottom = ds['true_wind'],\n",
    "           color = 'lightsteelblue', width = 0.4, zorder=3, align = 'center')\n",
    "    ax.text(3, ds['wind']+5e-12, str(np.format_float_scientific(ds['wind'].values,precision = 3)), horizontalalignment='center')\n",
    "    rse = np.round(ds['true_wind']/ds['wind']*100,2)\n",
    "    ax.text(3, ds['true_wind']+5e-12, f'{rse.values}%', horizontalalignment='center')\n",
    "\n",
    "    #ax.set_ylim((0,8e-5))\n",
    "    ax.grid(axis='y', zorder=0)\n",
    "\n",
    "    if isinstance(title, int): ax.set_title(ds.id_comb)\n",
    "    else : ax.set_title(title+'\\n')\n",
    "    \n",
    "    N=np.arange(1.5,3.5, 0.5) \n",
    "    ticks = (r'$d_tu$', r'$-fv$', r'$g \\partial_x \\eta$', r'$\\frac{1}{\\rho}\\partial_z\\tau_x$')\n",
    "    ax.set_xticks(N, ticks,)"
   ]
  },
  {
   "cell_type": "code",
   "execution_count": 31,
   "id": "e9570503-3ef7-4a7f-8ded-14b7540282e4",
   "metadata": {},
   "outputs": [
    {
     "data": {
      "image/png": "[encoded data removed]",
      "text/plain": [
       "<Figure size 800x600 with 2 Axes>"
      ]
     },
     "metadata": {},
     "output_type": "display_data"
    }
   ],
   "source": [
    "fig_title=1\n",
    "fig, axs = plt.subplots(nrows=1,ncols=2,\n",
    "                            sharey='all',\n",
    "                            figsize=(8,6))\n",
    "plot_cor_uncor_part(dsmsg.sel(id_comb=id_co), ax=axs[0], title ='GPS')\n",
    "plot_cor_uncor_part(dsmsa.sel(id_comb=id_co), ax=axs[1], title ='Argos')\n",
    "axs[0].axhline(dsmsg.true_acc.sel(id_comb=id_co), ls='--', color='r', zorder=3)\n",
    "axs[1].axhline(dsmsg.true_acc.sel(id_comb=id_co), ls='--', color='r', zorder=3)\n",
    "axs[0].axhline(dsmsg.true_coriolis.sel(id_comb=id_co), ls='--', color='g', zorder=3)\n",
    "axs[1].axhline(dsmsg.true_coriolis.sel(id_comb=id_co), ls='--', color='g', zorder=3)\n",
    "#fig.legend(handles, labels_, ncol=3,loc='lower center')#, bbox_to_anchor=(1,         0.5))#bbox_transform=fig.transFigure,\n",
    "fig.tight_layout(rect=[0,0.2,1,1])#left, bottom, right, top (default is 0,0,1,1)"
   ]
  },
  {
   "cell_type": "code",
   "execution_count": 19,
   "id": "4d047466-0a8b-410d-ad69-5369c1807941",
   "metadata": {},
   "outputs": [
    {
     "data": {
      "text/html": [
       "<div><svg style=\"position: absolute; width: 0; height: 0; overflow: hidden\">\n",
       "<defs>\n",
       "<symbol id=\"icon-database\" viewBox=\"0 0 32 32\">\n",
       "<path d=\"M16 0c-8.837 0-16 2.239-16 5v4c0 2.761 7.163 5 16 5s16-2.239 16-5v-4c0-2.761-7.163-5-16-5z\"></path>\n",
       "<path d=\"M16 17c-8.837 0-16-2.239-16-5v6c0 2.761 7.163 5 16 5s16-2.239 16-5v-6c0 2.761-7.163 5-16 5z\"></path>\n",
       "<path d=\"M16 26c-8.837 0-16-2.239-16-5v6c0 2.761 7.163 5 16 5s16-2.239 16-5v-6c0 2.761-7.163 5-16 5z\"></path>\n",
       "</symbol>\n",
       "<symbol id=\"icon-file-text2\" viewBox=\"0 0 32 32\">\n",
       "<path d=\"M28.681 7.159c-0.694-0.947-1.662-2.053-2.724-3.116s-2.169-2.030-3.116-2.724c-1.612-1.182-2.393-1.319-2.841-1.319h-15.5c-1.378 0-2.5 1.121-2.5 2.5v27c0 1.378 1.122 2.5 2.5 2.5h23c1.378 0 2.5-1.122 2.5-2.5v-19.5c0-0.448-0.137-1.23-1.319-2.841zM24.543 5.457c0.959 0.959 1.712 1.825 2.268 2.543h-4.811v-4.811c0.718 0.556 1.584 1.309 2.543 2.268zM28 29.5c0 0.271-0.229 0.5-0.5 0.5h-23c-0.271 0-0.5-0.229-0.5-0.5v-27c0-0.271 0.229-0.5 0.5-0.5 0 0 15.499-0 15.5 0v7c0 0.552 0.448 1 1 1h7v19.5z\"></path>\n",
       "<path d=\"M23 26h-14c-0.552 0-1-0.448-1-1s0.448-1 1-1h14c0.552 0 1 0.448 1 1s-0.448 1-1 1z\"></path>\n",
       "<path d=\"M23 22h-14c-0.552 0-1-0.448-1-1s0.448-1 1-1h14c0.552 0 1 0.448 1 1s-0.448 1-1 1z\"></path>\n",
       "<path d=\"M23 18h-14c-0.552 0-1-0.448-1-1s0.448-1 1-1h14c0.552 0 1 0.448 1 1s-0.448 1-1 1z\"></path>\n",
       "</symbol>\n",
       "</defs>\n",
       "</svg>\n",
       "<style>/* CSS stylesheet for displaying xarray objects in jupyterlab.\n",
       " *\n",
       " */\n",
       "\n",
       ":root {\n",
       "  --xr-font-color0: var(--jp-content-font-color0, rgba(0, 0, 0, 1));\n",
       "  --xr-font-color2: var(--jp-content-font-color2, rgba(0, 0, 0, 0.54));\n",
       "  --xr-font-color3: var(--jp-content-font-color3, rgba(0, 0, 0, 0.38));\n",
       "  --xr-border-color: var(--jp-border-color2, #e0e0e0);\n",
       "  --xr-disabled-color: var(--jp-layout-color3, #bdbdbd);\n",
       "  --xr-background-color: var(--jp-layout-color0, white);\n",
       "  --xr-background-color-row-even: var(--jp-layout-color1, white);\n",
       "  --xr-background-color-row-odd: var(--jp-layout-color2, #eeeeee);\n",
       "}\n",
       "\n",
       "html[theme=dark],\n",
       "body.vscode-dark {\n",
       "  --xr-font-color0: rgba(255, 255, 255, 1);\n",
       "  --xr-font-color2: rgba(255, 255, 255, 0.54);\n",
       "  --xr-font-color3: rgba(255, 255, 255, 0.38);\n",
       "  --xr-border-color: #1F1F1F;\n",
       "  --xr-disabled-color: #515151;\n",
       "  --xr-background-color: #111111;\n",
       "  --xr-background-color-row-even: #111111;\n",
       "  --xr-background-color-row-odd: #313131;\n",
       "}\n",
       "\n",
       ".xr-wrap {\n",
       "  display: block !important;\n",
       "  min-width: 300px;\n",
       "  max-width: 700px;\n",
       "}\n",
       "\n",
       ".xr-text-repr-fallback {\n",
       "  /* fallback to plain text repr when CSS is not injected (untrusted notebook) */\n",
       "  display: none;\n",
       "}\n",
       "\n",
       ".xr-header {\n",
       "  padding-top: 6px;\n",
       "  padding-bottom: 6px;\n",
       "  margin-bottom: 4px;\n",
       "  border-bottom: solid 1px var(--xr-border-color);\n",
       "}\n",
       "\n",
       ".xr-header > div,\n",
       ".xr-header > ul {\n",
       "  display: inline;\n",
       "  margin-top: 0;\n",
       "  margin-bottom: 0;\n",
       "}\n",
       "\n",
       ".xr-obj-type,\n",
       ".xr-array-name {\n",
       "  margin-left: 2px;\n",
       "  margin-right: 10px;\n",
       "}\n",
       "\n",
       ".xr-obj-type {\n",
       "  color: var(--xr-font-color2);\n",
       "}\n",
       "\n",
       ".xr-sections {\n",
       "  padding-left: 0 !important;\n",
       "  display: grid;\n",
       "  grid-template-columns: 150px auto auto 1fr 20px 20px;\n",
       "}\n",
       "\n",
       ".xr-section-item {\n",
       "  display: contents;\n",
       "}\n",
       "\n",
       ".xr-section-item input {\n",
       "  display: none;\n",
       "}\n",
       "\n",
       ".xr-section-item input + label {\n",
       "  color: var(--xr-disabled-color);\n",
       "}\n",
       "\n",
       ".xr-section-item input:enabled + label {\n",
       "  cursor: pointer;\n",
       "  color: var(--xr-font-color2);\n",
       "}\n",
       "\n",
       ".xr-section-item input:enabled + label:hover {\n",
       "  color: var(--xr-font-color0);\n",
       "}\n",
       "\n",
       ".xr-section-summary {\n",
       "  grid-column: 1;\n",
       "  color: var(--xr-font-color2);\n",
       "  font-weight: 500;\n",
       "}\n",
       "\n",
       ".xr-section-summary > span {\n",
       "  display: inline-block;\n",
       "  padding-left: 0.5em;\n",
       "}\n",
       "\n",
       ".xr-section-summary-in:disabled + label {\n",
       "  color: var(--xr-font-color2);\n",
       "}\n",
       "\n",
       ".xr-section-summary-in + label:before {\n",
       "  display: inline-block;\n",
       "  content: '►';\n",
       "  font-size: 11px;\n",
       "  width: 15px;\n",
       "  text-align: center;\n",
       "}\n",
       "\n",
       ".xr-section-summary-in:disabled + label:before {\n",
       "  color: var(--xr-disabled-color);\n",
       "}\n",
       "\n",
       ".xr-section-summary-in:checked + label:before {\n",
       "  content: '▼';\n",
       "}\n",
       "\n",
       ".xr-section-summary-in:checked + label > span {\n",
       "  display: none;\n",
       "}\n",
       "\n",
       ".xr-section-summary,\n",
       ".xr-section-inline-details {\n",
       "  padding-top: 4px;\n",
       "  padding-bottom: 4px;\n",
       "}\n",
       "\n",
       ".xr-section-inline-details {\n",
       "  grid-column: 2 / -1;\n",
       "}\n",
       "\n",
       ".xr-section-details {\n",
       "  display: none;\n",
       "  grid-column: 1 / -1;\n",
       "  margin-bottom: 5px;\n",
       "}\n",
       "\n",
       ".xr-section-summary-in:checked ~ .xr-section-details {\n",
       "  display: contents;\n",
       "}\n",
       "\n",
       ".xr-array-wrap {\n",
       "  grid-column: 1 / -1;\n",
       "  display: grid;\n",
       "  grid-template-columns: 20px auto;\n",
       "}\n",
       "\n",
       ".xr-array-wrap > label {\n",
       "  grid-column: 1;\n",
       "  vertical-align: top;\n",
       "}\n",
       "\n",
       ".xr-preview {\n",
       "  color: var(--xr-font-color3);\n",
       "}\n",
       "\n",
       ".xr-array-preview,\n",
       ".xr-array-data {\n",
       "  padding: 0 5px !important;\n",
       "  grid-column: 2;\n",
       "}\n",
       "\n",
       ".xr-array-data,\n",
       ".xr-array-in:checked ~ .xr-array-preview {\n",
       "  display: none;\n",
       "}\n",
       "\n",
       ".xr-array-in:checked ~ .xr-array-data,\n",
       ".xr-array-preview {\n",
       "  display: inline-block;\n",
       "}\n",
       "\n",
       ".xr-dim-list {\n",
       "  display: inline-block !important;\n",
       "  list-style: none;\n",
       "  padding: 0 !important;\n",
       "  margin: 0;\n",
       "}\n",
       "\n",
       ".xr-dim-list li {\n",
       "  display: inline-block;\n",
       "  padding: 0;\n",
       "  margin: 0;\n",
       "}\n",
       "\n",
       ".xr-dim-list:before {\n",
       "  content: '(';\n",
       "}\n",
       "\n",
       ".xr-dim-list:after {\n",
       "  content: ')';\n",
       "}\n",
       "\n",
       ".xr-dim-list li:not(:last-child):after {\n",
       "  content: ',';\n",
       "  padding-right: 5px;\n",
       "}\n",
       "\n",
       ".xr-has-index {\n",
       "  font-weight: bold;\n",
       "}\n",
       "\n",
       ".xr-var-list,\n",
       ".xr-var-item {\n",
       "  display: contents;\n",
       "}\n",
       "\n",
       ".xr-var-item > div,\n",
       ".xr-var-item label,\n",
       ".xr-var-item > .xr-var-name span {\n",
       "  background-color: var(--xr-background-color-row-even);\n",
       "  margin-bottom: 0;\n",
       "}\n",
       "\n",
       ".xr-var-item > .xr-var-name:hover span {\n",
       "  padding-right: 5px;\n",
       "}\n",
       "\n",
       ".xr-var-list > li:nth-child(odd) > div,\n",
       ".xr-var-list > li:nth-child(odd) > label,\n",
       ".xr-var-list > li:nth-child(odd) > .xr-var-name span {\n",
       "  background-color: var(--xr-background-color-row-odd);\n",
       "}\n",
       "\n",
       ".xr-var-name {\n",
       "  grid-column: 1;\n",
       "}\n",
       "\n",
       ".xr-var-dims {\n",
       "  grid-column: 2;\n",
       "}\n",
       "\n",
       ".xr-var-dtype {\n",
       "  grid-column: 3;\n",
       "  text-align: right;\n",
       "  color: var(--xr-font-color2);\n",
       "}\n",
       "\n",
       ".xr-var-preview {\n",
       "  grid-column: 4;\n",
       "}\n",
       "\n",
       ".xr-var-name,\n",
       ".xr-var-dims,\n",
       ".xr-var-dtype,\n",
       ".xr-preview,\n",
       ".xr-attrs dt {\n",
       "  white-space: nowrap;\n",
       "  overflow: hidden;\n",
       "  text-overflow: ellipsis;\n",
       "  padding-right: 10px;\n",
       "}\n",
       "\n",
       ".xr-var-name:hover,\n",
       ".xr-var-dims:hover,\n",
       ".xr-var-dtype:hover,\n",
       ".xr-attrs dt:hover {\n",
       "  overflow: visible;\n",
       "  width: auto;\n",
       "  z-index: 1;\n",
       "}\n",
       "\n",
       ".xr-var-attrs,\n",
       ".xr-var-data {\n",
       "  display: none;\n",
       "  background-color: var(--xr-background-color) !important;\n",
       "  padding-bottom: 5px !important;\n",
       "}\n",
       "\n",
       ".xr-var-attrs-in:checked ~ .xr-var-attrs,\n",
       ".xr-var-data-in:checked ~ .xr-var-data {\n",
       "  display: block;\n",
       "}\n",
       "\n",
       ".xr-var-data > table {\n",
       "  float: right;\n",
       "}\n",
       "\n",
       ".xr-var-name span,\n",
       ".xr-var-data,\n",
       ".xr-attrs {\n",
       "  padding-left: 25px !important;\n",
       "}\n",
       "\n",
       ".xr-attrs,\n",
       ".xr-var-attrs,\n",
       ".xr-var-data {\n",
       "  grid-column: 1 / -1;\n",
       "}\n",
       "\n",
       "dl.xr-attrs {\n",
       "  padding: 0;\n",
       "  margin: 0;\n",
       "  display: grid;\n",
       "  grid-template-columns: 125px auto;\n",
       "}\n",
       "\n",
       ".xr-attrs dt,\n",
       ".xr-attrs dd {\n",
       "  padding: 0;\n",
       "  margin: 0;\n",
       "  float: left;\n",
       "  padding-right: 10px;\n",
       "  width: auto;\n",
       "}\n",
       "\n",
       ".xr-attrs dt {\n",
       "  font-weight: normal;\n",
       "  grid-column: 1;\n",
       "}\n",
       "\n",
       ".xr-attrs dt:hover span {\n",
       "  display: inline-block;\n",
       "  background: var(--xr-background-color);\n",
       "  padding-right: 10px;\n",
       "}\n",
       "\n",
       ".xr-attrs dd {\n",
       "  grid-column: 2;\n",
       "  white-space: pre-wrap;\n",
       "  word-break: break-all;\n",
       "}\n",
       "\n",
       ".xr-icon-database,\n",
       ".xr-icon-file-text2 {\n",
       "  display: inline-block;\n",
       "  vertical-align: middle;\n",
       "  width: 1em;\n",
       "  height: 1.5em !important;\n",
       "  stroke-width: 0;\n",
       "  stroke: currentColor;\n",
       "  fill: currentColor;\n",
       "}\n",
       "</style><pre class='xr-text-repr-fallback'>&lt;xarray.DataArray &#x27;true_acc&#x27; (id_comb: 2)&gt;\n",
       "array([-9.25684648e-12, -6.07394169e-12])\n",
       "Coordinates:\n",
       "  * id_comb  (id_comb) object &#x27;co__0__adt_filtered_ocean_tide_internal_tide__...</pre><div class='xr-wrap' style='display:none'><div class='xr-header'><div class='xr-obj-type'>xarray.DataArray</div><div class='xr-array-name'>'true_acc'</div><ul class='xr-dim-list'><li><span class='xr-has-index'>id_comb</span>: 2</li></ul></div><ul class='xr-sections'><li class='xr-section-item'><div class='xr-array-wrap'><input id='section-2a092f94-6b68-4185-a757-2b1627492e46' class='xr-array-in' type='checkbox' checked><label for='section-2a092f94-6b68-4185-a757-2b1627492e46' title='Show/hide data repr'><svg class='icon xr-icon-database'><use xlink:href='#icon-database'></use></svg></label><div class='xr-array-preview xr-preview'><span>-9.257e-12 -6.074e-12</span></div><div class='xr-array-data'><pre>array([-9.25684648e-12, -6.07394169e-12])</pre></div></div></li><li class='xr-section-item'><input id='section-b66eabe8-fcf4-4999-b148-a006713f23e9' class='xr-section-summary-in' type='checkbox'  checked><label for='section-b66eabe8-fcf4-4999-b148-a006713f23e9' class='xr-section-summary' >Coordinates: <span>(1)</span></label><div class='xr-section-inline-details'></div><div class='xr-section-details'><ul class='xr-var-list'><li class='xr-var-item'><div class='xr-var-name'><span class='xr-has-index'>id_comb</span></div><div class='xr-var-dims'>(id_comb)</div><div class='xr-var-dtype'>object</div><div class='xr-var-preview xr-preview'>&#x27;co__0__adt_filtered_ocean_tide_...</div><input id='attrs-29bf2219-2f85-416f-8433-640dd507ad1b' class='xr-var-attrs-in' type='checkbox' disabled><label for='attrs-29bf2219-2f85-416f-8433-640dd507ad1b' title='Show/Hide attributes'><svg class='icon xr-icon-file-text2'><use xlink:href='#icon-file-text2'></use></svg></label><input id='data-7da8b46e-1fc7-43f7-b6dc-bf93c9fb1bfc' class='xr-var-data-in' type='checkbox'><label for='data-7da8b46e-1fc7-43f7-b6dc-bf93c9fb1bfc' title='Show/Hide data repr'><svg class='icon xr-icon-database'><use xlink:href='#icon-database'></use></svg></label><div class='xr-var-attrs'><dl class='xr-attrs'></dl></div><div class='xr-var-data'><pre>array([&#x27;co__0__adt_filtered_ocean_tide_internal_tide__es_cstrio_z15__drifter_x&#x27;,\n",
       "       &#x27;aviso__0__adt__es_cstrio_z15__alti_x&#x27;], dtype=object)</pre></div></li></ul></div></li><li class='xr-section-item'><input id='section-a1829580-6090-4775-b54e-48fc0b619c8e' class='xr-section-summary-in' type='checkbox' disabled ><label for='section-a1829580-6090-4775-b54e-48fc0b619c8e' class='xr-section-summary'  title='Expand/collapse section'>Attributes: <span>(0)</span></label><div class='xr-section-inline-details'></div><div class='xr-section-details'><dl class='xr-attrs'></dl></div></li></ul></div></div>"
      ],
      "text/plain": [
       "<xarray.DataArray 'true_acc' (id_comb: 2)>\n",
       "array([-9.25684648e-12, -6.07394169e-12])\n",
       "Coordinates:\n",
       "  * id_comb  (id_comb) object 'co__0__adt_filtered_ocean_tide_internal_tide__..."
      ]
     },
     "execution_count": 19,
     "metadata": {},
     "output_type": "execute_result"
    }
   ],
   "source": [
    "dsmsa.true_acc - dsmsg.true_acc"
   ]
  },
  {
   "cell_type": "code",
   "execution_count": 20,
   "id": "39da554a-da04-42b6-910a-8ae0b3b79d07",
   "metadata": {},
   "outputs": [
    {
     "name": "stdout",
     "output_type": "stream",
     "text": [
      "<xarray.DataArray 'acc' (id_comb: 2)>\n",
      "array([1.93311316, 1.93311316])\n",
      "Coordinates:\n",
      "  * id_comb  (id_comb) object 'co__0__adt_filtered_ocean_tide_internal_tide__...\n",
      "<xarray.DataArray 'acc' (id_comb: 2)>\n",
      "array([1.22053791, 1.22053791])\n",
      "Coordinates:\n",
      "  * id_comb  (id_comb) object 'co__0__adt_filtered_ocean_tide_internal_tide__...\n"
     ]
    }
   ],
   "source": [
    "# NOISE DOMINATES\n",
    "a = 64/100\n",
    "g = 25/100\n",
    "print((dsmsg.acc/dsmsa.acc)/((1-a)/(1+g)))\n",
    "#white noise\n",
    "a = 48/100\n",
    "g = 14/100\n",
    "print((dsmsg.acc/dsmsa.acc)/( (1-a)/(1+g)))"
   ]
  },
  {
   "cell_type": "code",
   "execution_count": 21,
   "id": "b1211eae-2005-4713-b870-6b4bc12b059f",
   "metadata": {},
   "outputs": [
    {
     "name": "stdout",
     "output_type": "stream",
     "text": [
      "<xarray.DataArray 'coriolis' (id_comb: 2)>\n",
      "array([0.96269925, 0.96269925])\n",
      "Coordinates:\n",
      "  * id_comb  (id_comb) object 'co__0__adt_filtered_ocean_tide_internal_tide__...\n",
      "<xarray.DataArray 'coriolis' (id_comb: 2)>\n",
      "array([0.91780283, 0.91780283])\n",
      "Coordinates:\n",
      "  * id_comb  (id_comb) object 'co__0__adt_filtered_ocean_tide_internal_tide__...\n"
     ]
    }
   ],
   "source": [
    "# NOISE DOMINATES\n",
    "a = 5/100\n",
    "g = 1/100\n",
    "print(dsmsg.coriolis/dsmsa.coriolis/((1-a)/(1+g)))\n",
    "#white noise\n",
    "a = 1.3/100\n",
    "g = 0.04/100\n",
    "print(dsmsg.coriolis/dsmsa.coriolis/((1-a)/(1+g)))"
   ]
  },
  {
   "cell_type": "code",
   "execution_count": 22,
   "id": "17447172-f495-495b-8b61-949f7680087c",
   "metadata": {},
   "outputs": [],
   "source": [
    "x=np.arange(0,100)\n",
    "y = np.abs(dsmsa.acc.isel(id_comb=0).values*x/100 - dsmsg.acc.isel(id_comb=0).values*14/100 - dsmsa.acc.isel(id_comb=0).values + dsmsg.acc.isel(id_comb=0).values)"
   ]
  },
  {
   "cell_type": "code",
   "execution_count": null,
   "id": "efd976bf-f752-4acf-9e20-9a8fed9b9838",
   "metadata": {},
   "outputs": [],
   "source": []
  },
  {
   "cell_type": "code",
   "execution_count": 23,
   "id": "b8a27c5f-3fc4-4c3f-bca9-0f6eba2d4f74",
   "metadata": {},
   "outputs": [
    {
     "data": {
      "text/plain": [
       "<matplotlib.lines.Line2D at 0x2aaaf70e0a00>"
      ]
     },
     "execution_count": 23,
     "metadata": {},
     "output_type": "execute_result"
    },
    {
     "data": {
      "image/png": "[encoded data removed]",
      "text/plain": [
       "<Figure size 640x480 with 1 Axes>"
      ]
     },
     "metadata": {},
     "output_type": "display_data"
    }
   ],
   "source": [
    "plt.plot(x, y)\n",
    "plt.axhline(0)"
   ]
  },
  {
   "cell_type": "code",
   "execution_count": null,
   "id": "3d9ce974-a104-47ce-a2fa-c71fa5cd93bf",
   "metadata": {},
   "outputs": [],
   "source": []
  },
  {
   "cell_type": "markdown",
   "id": "b3f69a30-6aa2-4fd2-98b3-080a38ebd68c",
   "metadata": {},
   "source": [
    "## Validité erreurs non corrélées :\n",
    "\n",
    "- erreurs coriolis/acceleration doivent être correlées -> possible de le voir ?"
   ]
  },
  {
   "cell_type": "code",
   "execution_count": 24,
   "id": "a7ca0b00-fa30-49a2-988e-34e0b8674cc1",
   "metadata": {},
   "outputs": [
    {
     "ename": "NameError",
     "evalue": "name 'dsms' is not defined",
     "output_type": "error",
     "traceback": [
      "\u001b[0;31m---------------------------------------------------------------------------\u001b[0m",
      "\u001b[0;31mNameError\u001b[0m                                 Traceback (most recent call last)",
      "Cell \u001b[0;32mIn[24], line 1\u001b[0m\n\u001b[0;32m----> 1\u001b[0m A \u001b[38;5;241m=\u001b[39m \u001b[43mdsms\u001b[49m[\u001b[38;5;124m'\u001b[39m\u001b[38;5;124merr_acc\u001b[39m\u001b[38;5;124m'\u001b[39m]\u001b[38;5;241m+\u001b[39mdsms[\u001b[38;5;124m'\u001b[39m\u001b[38;5;124merr_ggrad\u001b[39m\u001b[38;5;124m'\u001b[39m]\u001b[38;5;241m+\u001b[39mdsms[\u001b[38;5;124m'\u001b[39m\u001b[38;5;124merr_wind\u001b[39m\u001b[38;5;124m'\u001b[39m]\u001b[38;5;241m+\u001b[39mdsms[\u001b[38;5;124m'\u001b[39m\u001b[38;5;124merr_coriolis\u001b[39m\u001b[38;5;124m'\u001b[39m]\n",
      "\u001b[0;31mNameError\u001b[0m: name 'dsms' is not defined"
     ]
    }
   ],
   "source": [
    "A = dsms['err_acc']+dsms['err_ggrad']+dsms['err_wind']+dsms['err_coriolis']"
   ]
  },
  {
   "cell_type": "code",
   "execution_count": null,
   "id": "1867397f-d396-4ace-8736-881620a7031a",
   "metadata": {},
   "outputs": [],
   "source": [
    "A = dsms['err_acc']+dsms['err_ggrad']+dsms['err_wind']+dsms['err_coriolis']"
   ]
  },
  {
   "cell_type": "code",
   "execution_count": null,
   "id": "1a99729b-82da-435e-9813-7194e07af693",
   "metadata": {},
   "outputs": [],
   "source": [
    "(A-dsms['S'])/dsms['S']"
   ]
  }
 ],
 "metadata": {
  "kernelspec": {
   "display_name": "Python 3 (ipykernel)",
   "language": "python",
   "name": "python3"
  },
  "language_info": {
   "codemirror_mode": {
    "name": "ipython",
    "version": 3
   },
   "file_extension": ".py",
   "mimetype": "text/x-python",
   "name": "python",
   "nbconvert_exporter": "python",
   "pygments_lexer": "ipython3",
   "version": "3.9.18"
  }
 },
 "nbformat": 4,
 "nbformat_minor": 5
}
