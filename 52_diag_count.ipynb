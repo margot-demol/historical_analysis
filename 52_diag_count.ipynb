{
 "cells": [
  {
   "cell_type": "markdown",
   "id": "e02660c5-778c-4193-b3ee-969c87da2a48",
   "metadata": {},
   "source": [
    "# Overview\n",
    "- histogram in DL-DT\n",
    "- count for different DL"
   ]
  },
  {
   "cell_type": "code",
   "execution_count": 1,
   "id": "cc8a7836-f4be-4f93-9393-f4ead7424e04",
   "metadata": {},
   "outputs": [
    {
     "name": "stderr",
     "output_type": "stream",
     "text": [
      "/home1/datahome/mdemol/.miniconda3/envs/histenv2/lib/python3.9/site-packages/dask/config.py:742: FutureWarning: Dask configuration key 'distributed.scheduler.transition-log-length' has been deprecated; please use 'distributed.admin.low-level-log-length' instead\n",
      "  warnings.warn(\n",
      "/home1/datahome/mdemol/.miniconda3/envs/histenv2/lib/python3.9/site-packages/dask/config.py:742: FutureWarning: Dask configuration key 'distributed.comm.recent-messages-log-length' has been deprecated; please use 'distributed.admin.low-level-log-length' instead\n",
      "  warnings.warn(\n"
     ]
    }
   ],
   "source": [
    "import numpy as np\n",
    "import pandas as pd\n",
    "import xarray as xr\n",
    "import pyproj\n",
    "from rasterio.transform import Affine\n",
    "\n",
    "import matplotlib.pyplot as plt\n",
    "import matplotlib.colors as cl\n",
    "from matplotlib.ticker import FormatStrFormatter\n",
    "\n",
    "import cartopy.crs as ccrs\n",
    "import cartopy.feature as cfeature\n",
    "import cartopy.geodesic as cgeo\n",
    "crs = ccrs.PlateCarree()\n",
    "import cmocean.cm as cm\n",
    "\n",
    "from xgcm import Grid\n",
    "from xhistogram.xarray import histogram\n",
    "import warnings\n",
    "warnings.filterwarnings(\"ignore\")\n",
    "\n",
    "import os\n",
    "from glob import glob\n",
    "\n",
    "import histlib.box as box\n",
    "import histlib.aviso as aviso\n",
    "import histlib.cstes as cstes\n",
    "import histlib.diagnosis as diag\n",
    "import histlib.erastar as eras\n",
    "import histlib.stress_to_windterm as stw\n",
    "\n",
    "from histlib.cstes import labels, zarr_dir, matchup_dir\n",
    "plt.rcParams.update({'font.size':15})"
   ]
  },
  {
   "cell_type": "code",
   "execution_count": 2,
   "id": "e3e1b61e-ae2d-46a1-91de-8cd92e1e0e42",
   "metadata": {},
   "outputs": [],
   "source": [
    "import pandas as pd\n",
    "import numpy as np\n",
    "from histlib.cstes import labels, zarr_dir"
   ]
  },
  {
   "cell_type": "code",
   "execution_count": 3,
   "id": "eceff2a1-d62b-4690-a43a-0470dd585cc0",
   "metadata": {},
   "outputs": [],
   "source": [
    "def get_drifter_sat_year_from_label(l):\n",
    "    L = l.split('_')\n",
    "    if 'Sentinel' in l:\n",
    "        return [L[0], L[1]+'_'+L[2], L[-1]]\n",
    "    else :\n",
    "        return L"
   ]
  },
  {
   "cell_type": "code",
   "execution_count": 4,
   "id": "0feb9b50-9a5a-41fa-8ffe-94fde913b288",
   "metadata": {},
   "outputs": [
    {
     "data": {
      "text/html": [
       "<div>\n",
       "    <div style=\"width: 24px; height: 24px; background-color: #e1e1e1; border: 3px solid #9D9D9D; border-radius: 5px; position: absolute;\"> </div>\n",
       "    <div style=\"margin-left: 48px;\">\n",
       "        <h3 style=\"margin-bottom: 0px;\">Client</h3>\n",
       "        <p style=\"color: #9D9D9D; margin-bottom: 0px;\">Client-c653414a-f59f-11ee-932f-0cc47a3f6e6f</p>\n",
       "        <table style=\"width: 100%; text-align: left;\">\n",
       "\n",
       "        <tr>\n",
       "        \n",
       "            <td style=\"text-align: left;\"><strong>Connection method:</strong> Cluster object</td>\n",
       "            <td style=\"text-align: left;\"><strong>Cluster type:</strong> dask_jobqueue.PBSCluster</td>\n",
       "        \n",
       "        </tr>\n",
       "\n",
       "        \n",
       "            <tr>\n",
       "                <td style=\"text-align: left;\">\n",
       "                    <strong>Dashboard: </strong> <a href=\"http://10.148.1.42:8787/status\" target=\"_blank\">http://10.148.1.42:8787/status</a>\n",
       "                </td>\n",
       "                <td style=\"text-align: left;\"></td>\n",
       "            </tr>\n",
       "        \n",
       "\n",
       "        </table>\n",
       "\n",
       "        \n",
       "\n",
       "        \n",
       "            <details>\n",
       "            <summary style=\"margin-bottom: 20px;\"><h3 style=\"display: inline;\">Cluster Info</h3></summary>\n",
       "            <div class=\"jp-RenderedHTMLCommon jp-RenderedHTML jp-mod-trusted jp-OutputArea-output\">\n",
       "    <div style=\"width: 24px; height: 24px; background-color: #e1e1e1; border: 3px solid #9D9D9D; border-radius: 5px; position: absolute;\">\n",
       "    </div>\n",
       "    <div style=\"margin-left: 48px;\">\n",
       "        <h3 style=\"margin-bottom: 0px; margin-top: 0px;\">PBSCluster</h3>\n",
       "        <p style=\"color: #9D9D9D; margin-bottom: 0px;\">34e9a0ac</p>\n",
       "        <table style=\"width: 100%; text-align: left;\">\n",
       "            <tr>\n",
       "                <td style=\"text-align: left;\">\n",
       "                    <strong>Dashboard:</strong> <a href=\"http://10.148.1.42:8787/status\" target=\"_blank\">http://10.148.1.42:8787/status</a>\n",
       "                </td>\n",
       "                <td style=\"text-align: left;\">\n",
       "                    <strong>Workers:</strong> 0\n",
       "                </td>\n",
       "            </tr>\n",
       "            <tr>\n",
       "                <td style=\"text-align: left;\">\n",
       "                    <strong>Total threads:</strong> 0\n",
       "                </td>\n",
       "                <td style=\"text-align: left;\">\n",
       "                    <strong>Total memory:</strong> 0 B\n",
       "                </td>\n",
       "            </tr>\n",
       "            \n",
       "        </table>\n",
       "\n",
       "        <details>\n",
       "            <summary style=\"margin-bottom: 20px;\">\n",
       "                <h3 style=\"display: inline;\">Scheduler Info</h3>\n",
       "            </summary>\n",
       "\n",
       "            <div style=\"\">\n",
       "    <div>\n",
       "        <div style=\"width: 24px; height: 24px; background-color: #FFF7E5; border: 3px solid #FF6132; border-radius: 5px; position: absolute;\"> </div>\n",
       "        <div style=\"margin-left: 48px;\">\n",
       "            <h3 style=\"margin-bottom: 0px;\">Scheduler</h3>\n",
       "            <p style=\"color: #9D9D9D; margin-bottom: 0px;\">Scheduler-8aca064c-de63-453d-88e6-05efd2fc3a89</p>\n",
       "            <table style=\"width: 100%; text-align: left;\">\n",
       "                <tr>\n",
       "                    <td style=\"text-align: left;\">\n",
       "                        <strong>Comm:</strong> tcp://10.148.1.42:33309\n",
       "                    </td>\n",
       "                    <td style=\"text-align: left;\">\n",
       "                        <strong>Workers:</strong> 0\n",
       "                    </td>\n",
       "                </tr>\n",
       "                <tr>\n",
       "                    <td style=\"text-align: left;\">\n",
       "                        <strong>Dashboard:</strong> <a href=\"http://10.148.1.42:8787/status\" target=\"_blank\">http://10.148.1.42:8787/status</a>\n",
       "                    </td>\n",
       "                    <td style=\"text-align: left;\">\n",
       "                        <strong>Total threads:</strong> 0\n",
       "                    </td>\n",
       "                </tr>\n",
       "                <tr>\n",
       "                    <td style=\"text-align: left;\">\n",
       "                        <strong>Started:</strong> Just now\n",
       "                    </td>\n",
       "                    <td style=\"text-align: left;\">\n",
       "                        <strong>Total memory:</strong> 0 B\n",
       "                    </td>\n",
       "                </tr>\n",
       "            </table>\n",
       "        </div>\n",
       "    </div>\n",
       "\n",
       "    <details style=\"margin-left: 48px;\">\n",
       "        <summary style=\"margin-bottom: 20px;\">\n",
       "            <h3 style=\"display: inline;\">Workers</h3>\n",
       "        </summary>\n",
       "\n",
       "        \n",
       "\n",
       "    </details>\n",
       "</div>\n",
       "\n",
       "        </details>\n",
       "    </div>\n",
       "</div>\n",
       "            </details>\n",
       "        \n",
       "\n",
       "    </div>\n",
       "</div>"
      ],
      "text/plain": [
       "<Client: 'tcp://10.148.1.42:33309' processes=0 threads=0, memory=0 B>"
      ]
     },
     "execution_count": 4,
     "metadata": {},
     "output_type": "execute_result"
    }
   ],
   "source": [
    "if True:\n",
    "    from dask.distributed import Client\n",
    "    from dask_jobqueue import PBSCluster\n",
    "    cluster = PBSCluster(cores=7, processes=7, walltime='04:00:00')\n",
    "    w = cluster.scale(jobs=3)\n",
    "else:\n",
    "    from dask.distributed import Client, LocalCluster\n",
    "    #\n",
    "    cluster = LocalCluster()\n",
    "\n",
    "client = Client(cluster)\n",
    "client"
   ]
  },
  {
   "cell_type": "code",
   "execution_count": 17,
   "id": "17ef84a1-0d2c-452a-b57f-be253dd4c2d3",
   "metadata": {},
   "outputs": [
    {
     "ename": "NameError",
     "evalue": "name 'cluster' is not defined",
     "output_type": "error",
     "traceback": [
      "\u001b[0;31m---------------------------------------------------------------------------\u001b[0m",
      "\u001b[0;31mNameError\u001b[0m                                 Traceback (most recent call last)",
      "Cell \u001b[0;32mIn[17], line 1\u001b[0m\n\u001b[0;32m----> 1\u001b[0m \u001b[43mcluster\u001b[49m\u001b[38;5;241m.\u001b[39mclose()\n",
      "\u001b[0;31mNameError\u001b[0m: name 'cluster' is not defined"
     ]
    }
   ],
   "source": [
    "cluster.close()"
   ]
  },
  {
   "cell_type": "markdown",
   "id": "e75a6247-d862-4da4-a0d1-9e0e62cd4f4d",
   "metadata": {},
   "source": [
    "- Geographical repartition\n",
    "- Number per combinations unfiltered /filtered"
   ]
  },
  {
   "cell_type": "code",
   "execution_count": 12,
   "id": "4b7f2c91-e1cd-4dca-9ad0-d9a5fbac36d2",
   "metadata": {},
   "outputs": [],
   "source": [
    "zarr_dir_ok = zarr_dir+'_ok'"
   ]
  },
  {
   "cell_type": "code",
   "execution_count": 13,
   "id": "cd2dca69-8c5d-4edb-95b0-ec10f9059622",
   "metadata": {},
   "outputs": [
    {
     "data": {
      "text/plain": [
       "'/home/datawork-lops-osi/aponte/margot/historical_coloc_ok'"
      ]
     },
     "execution_count": 13,
     "metadata": {},
     "output_type": "execute_result"
    }
   ],
   "source": [
    "zarr_dir_ok"
   ]
  },
  {
   "cell_type": "markdown",
   "id": "210bbea8-f1d0-4df4-b3b2-81ae79230dfb",
   "metadata": {},
   "source": [
    "_________\n",
    "# Whole dataset 200km-30min"
   ]
  },
  {
   "cell_type": "code",
   "execution_count": 6,
   "id": "f7acf2b9-5af6-4d1a-a50f-9bf26a9680fb",
   "metadata": {},
   "outputs": [
    {
     "name": "stdout",
     "output_type": "stream",
     "text": [
      "gps_Jason-3_2020\n",
      "argos_Jason-3_2020\n",
      "gps_SARAL_2020\n",
      "argos_SARAL_2020\n",
      "gps_Cryosat-2_2020\n",
      "argos_Cryosat-2_2020\n",
      "gps_Sentinel-3_A_2020\n",
      "argos_Sentinel-3_A_2020\n",
      "gps_Sentinel-3_B_2020\n",
      "argos_Sentinel-3_B_2020\n",
      "gps_Jason-3_2019\n",
      "argos_Jason-3_2019\n",
      "gps_SARAL_2019\n",
      "argos_SARAL_2019\n",
      "gps_Cryosat-2_2019\n",
      "argos_Cryosat-2_2019\n",
      "gps_Sentinel-3_A_2019\n",
      "argos_Sentinel-3_A_2019\n",
      "gps_Sentinel-3_B_2019\n",
      "argos_Sentinel-3_B_2019\n",
      "gps_Jason-3_2018\n",
      "argos_Jason-3_2018\n",
      "gps_SARAL_2018\n",
      "argos_SARAL_2018\n",
      "gps_Cryosat-2_2018\n",
      "argos_Cryosat-2_2018\n",
      "gps_Sentinel-3_A_2018\n",
      "argos_Sentinel-3_A_2018\n",
      "gps_Sentinel-3_B_2018\n",
      "argos_Sentinel-3_B_2018\n",
      "gps_Jason-3_2017\n",
      "argos_Jason-3_2017\n",
      "gps_Jason-2_2017\n",
      "argos_Jason-2_2017\n",
      "gps_SARAL_2017\n",
      "argos_SARAL_2017\n",
      "gps_Cryosat-2_2017\n",
      "argos_Cryosat-2_2017\n",
      "gps_Sentinel-3_A_2017\n",
      "argos_Sentinel-3_A_2017\n",
      "gps_Jason-3_2016\n",
      "argos_Jason-3_2016\n",
      "gps_Jason-2_2016\n",
      "argos_Jason-2_2016\n",
      "gps_SARAL_2016\n",
      "argos_SARAL_2016\n",
      "gps_Cryosat-2_2016\n",
      "argos_Cryosat-2_2016\n",
      "gps_Sentinel-3_A_2016\n",
      "argos_Sentinel-3_A_2016\n",
      "gps_Jason-2_2015\n",
      "argos_Jason-2_2015\n",
      "gps_SARAL_2015\n",
      "argos_SARAL_2015\n",
      "gps_Cryosat-2_2015\n",
      "argos_Cryosat-2_2015\n",
      "gps_Jason-2_2014\n",
      "argos_Jason-2_2014\n",
      "gps_SARAL_2014\n",
      "argos_SARAL_2014\n",
      "gps_Cryosat-2_2014\n",
      "argos_Cryosat-2_2014\n",
      "gps_Jason-2_2013\n",
      "argos_Jason-2_2013\n",
      "gps_SARAL_2013\n",
      "argos_SARAL_2013\n",
      "gps_Cryosat-2_2013\n",
      "argos_Cryosat-2_2013\n",
      "gps_Jason-2_2012\n",
      "argos_Jason-2_2012\n",
      "gps_Cryosat-2_2012\n",
      "argos_Cryosat-2_2012\n",
      "gps_Jason-2_2011\n",
      "argos_Jason-2_2011\n",
      "gps_Cryosat-2_2011\n",
      "argos_Cryosat-2_2011\n",
      "gps_Jason-2_2010\n",
      "argos_Jason-2_2010\n",
      "gps_Cryosat-2_2010\n",
      "argos_Cryosat-2_2010\n"
     ]
    }
   ],
   "source": [
    "df = pd.DataFrame(data = [[0]*5]*len(labels), columns=['label', 'drifter_type', 'satellite', 'year', 'number_coloc',])\n",
    "dfd = pd.DataFrame(data = [[0]*5]*len(labels), columns=['label', 'drifter_type', 'satellite', 'year', 'number_coloc',])\n",
    "i=0\n",
    "for l in labels:\n",
    "    dsm = xr.open_dataset(os.path.join(matchup_dir, f'matchup_{l}.zarr')).dropna('obs').chunk({'obs':500})\n",
    "    dsm= dsm.where(dsm.alti___time_difference<=30*60, drop=True)\n",
    "    dsmd = dsm.where(dsm.drogue_status, drop=True)\n",
    "    df.iloc[i,:]=[l]+get_drifter_sat_year_from_label(l)+ [dsm.dims['obs']]\n",
    "    dfd.iloc[i,:]=[l]+get_drifter_sat_year_from_label(l)+ [dsmd.dims['obs']]\n",
    "    i+=1\n",
    "    print(l)\n"
   ]
  },
  {
   "cell_type": "code",
   "execution_count": 18,
   "id": "1e02f1c3-dca2-46df-a45b-584a7ccdcb63",
   "metadata": {},
   "outputs": [],
   "source": [
    "df.to_csv(os.path.join(zarr_dir_ok, 'count', 'count_200km_30min.csv'))\n",
    "dfd.to_csv(os.path.join(zarr_dir_ok, 'count', 'count_200km_30min_drogued.csv'))"
   ]
  },
  {
   "cell_type": "code",
   "execution_count": 20,
   "id": "19ebda01-c4db-4664-90f9-75f01714c6f2",
   "metadata": {},
   "outputs": [
    {
     "data": {
      "text/html": [
       "<div>\n",
       "<style scoped>\n",
       "    .dataframe tbody tr th:only-of-type {\n",
       "        vertical-align: middle;\n",
       "    }\n",
       "\n",
       "    .dataframe tbody tr th {\n",
       "        vertical-align: top;\n",
       "    }\n",
       "\n",
       "    .dataframe thead th {\n",
       "        text-align: right;\n",
       "    }\n",
       "</style>\n",
       "<table border=\"1\" class=\"dataframe\">\n",
       "  <thead>\n",
       "    <tr style=\"text-align: right;\">\n",
       "      <th></th>\n",
       "      <th>number_coloc</th>\n",
       "    </tr>\n",
       "    <tr>\n",
       "      <th>drifter_type</th>\n",
       "      <th></th>\n",
       "    </tr>\n",
       "  </thead>\n",
       "  <tbody>\n",
       "    <tr>\n",
       "      <th>argos</th>\n",
       "      <td>2003233</td>\n",
       "    </tr>\n",
       "    <tr>\n",
       "      <th>gps</th>\n",
       "      <td>2382924</td>\n",
       "    </tr>\n",
       "  </tbody>\n",
       "</table>\n",
       "</div>"
      ],
      "text/plain": [
       "              number_coloc\n",
       "drifter_type              \n",
       "argos              2003233\n",
       "gps                2382924"
      ]
     },
     "execution_count": 20,
     "metadata": {},
     "output_type": "execute_result"
    }
   ],
   "source": [
    "df.groupby('drifter_type').sum()"
   ]
  },
  {
   "cell_type": "code",
   "execution_count": 21,
   "id": "006e9c9d-7fcf-4169-bcac-1aaea31a3a76",
   "metadata": {},
   "outputs": [
    {
     "data": {
      "text/html": [
       "<div>\n",
       "<style scoped>\n",
       "    .dataframe tbody tr th:only-of-type {\n",
       "        vertical-align: middle;\n",
       "    }\n",
       "\n",
       "    .dataframe tbody tr th {\n",
       "        vertical-align: top;\n",
       "    }\n",
       "\n",
       "    .dataframe thead th {\n",
       "        text-align: right;\n",
       "    }\n",
       "</style>\n",
       "<table border=\"1\" class=\"dataframe\">\n",
       "  <thead>\n",
       "    <tr style=\"text-align: right;\">\n",
       "      <th></th>\n",
       "      <th>number_coloc</th>\n",
       "    </tr>\n",
       "    <tr>\n",
       "      <th>drifter_type</th>\n",
       "      <th></th>\n",
       "    </tr>\n",
       "  </thead>\n",
       "  <tbody>\n",
       "    <tr>\n",
       "      <th>argos</th>\n",
       "      <td>724895</td>\n",
       "    </tr>\n",
       "    <tr>\n",
       "      <th>gps</th>\n",
       "      <td>1135100</td>\n",
       "    </tr>\n",
       "  </tbody>\n",
       "</table>\n",
       "</div>"
      ],
      "text/plain": [
       "              number_coloc\n",
       "drifter_type              \n",
       "argos               724895\n",
       "gps                1135100"
      ]
     },
     "execution_count": 21,
     "metadata": {},
     "output_type": "execute_result"
    }
   ],
   "source": [
    "dfd.groupby('drifter_type').sum()"
   ]
  },
  {
   "cell_type": "markdown",
   "id": "e43edf6a-059c-4537-a2e0-f73c433d7f27",
   "metadata": {},
   "source": [
    "_________\n",
    "# Whole dataset 100km-30min"
   ]
  },
  {
   "cell_type": "code",
   "execution_count": 15,
   "id": "a9fa696d-5f94-4cc9-b6ac-d0489b34a8c3",
   "metadata": {},
   "outputs": [
    {
     "name": "stdout",
     "output_type": "stream",
     "text": [
      "gps_Jason-3_2020\n",
      "argos_Jason-3_2020\n",
      "gps_SARAL_2020\n",
      "argos_SARAL_2020\n",
      "gps_Cryosat-2_2020\n",
      "argos_Cryosat-2_2020\n",
      "gps_Sentinel-3_A_2020\n",
      "argos_Sentinel-3_A_2020\n",
      "gps_Sentinel-3_B_2020\n",
      "argos_Sentinel-3_B_2020\n",
      "gps_Jason-3_2019\n",
      "argos_Jason-3_2019\n",
      "gps_SARAL_2019\n",
      "argos_SARAL_2019\n",
      "gps_Cryosat-2_2019\n",
      "argos_Cryosat-2_2019\n",
      "gps_Sentinel-3_A_2019\n",
      "argos_Sentinel-3_A_2019\n",
      "gps_Sentinel-3_B_2019\n",
      "argos_Sentinel-3_B_2019\n",
      "gps_Jason-3_2018\n",
      "argos_Jason-3_2018\n",
      "gps_SARAL_2018\n",
      "argos_SARAL_2018\n",
      "gps_Cryosat-2_2018\n",
      "argos_Cryosat-2_2018\n",
      "gps_Sentinel-3_A_2018\n",
      "argos_Sentinel-3_A_2018\n",
      "gps_Sentinel-3_B_2018\n",
      "argos_Sentinel-3_B_2018\n",
      "gps_Jason-3_2017\n",
      "argos_Jason-3_2017\n",
      "gps_Jason-2_2017\n",
      "argos_Jason-2_2017\n",
      "gps_SARAL_2017\n",
      "argos_SARAL_2017\n",
      "gps_Cryosat-2_2017\n",
      "argos_Cryosat-2_2017\n",
      "gps_Sentinel-3_A_2017\n",
      "argos_Sentinel-3_A_2017\n",
      "gps_Jason-3_2016\n",
      "argos_Jason-3_2016\n",
      "gps_Jason-2_2016\n",
      "argos_Jason-2_2016\n",
      "gps_SARAL_2016\n",
      "argos_SARAL_2016\n",
      "gps_Cryosat-2_2016\n",
      "argos_Cryosat-2_2016\n",
      "gps_Sentinel-3_A_2016\n",
      "argos_Sentinel-3_A_2016\n",
      "gps_Jason-2_2015\n",
      "argos_Jason-2_2015\n",
      "gps_SARAL_2015\n",
      "argos_SARAL_2015\n",
      "gps_Cryosat-2_2015\n",
      "argos_Cryosat-2_2015\n",
      "gps_Jason-2_2014\n",
      "argos_Jason-2_2014\n",
      "gps_SARAL_2014\n",
      "argos_SARAL_2014\n",
      "gps_Cryosat-2_2014\n",
      "argos_Cryosat-2_2014\n",
      "gps_Jason-2_2013\n",
      "argos_Jason-2_2013\n",
      "gps_SARAL_2013\n",
      "argos_SARAL_2013\n",
      "gps_Cryosat-2_2013\n",
      "argos_Cryosat-2_2013\n",
      "gps_Jason-2_2012\n",
      "argos_Jason-2_2012\n",
      "gps_Cryosat-2_2012\n",
      "argos_Cryosat-2_2012\n",
      "gps_Jason-2_2011\n",
      "argos_Jason-2_2011\n",
      "gps_Cryosat-2_2011\n",
      "argos_Cryosat-2_2011\n",
      "gps_Jason-2_2010\n",
      "argos_Jason-2_2010\n",
      "gps_Cryosat-2_2010\n",
      "argos_Cryosat-2_2010\n"
     ]
    }
   ],
   "source": [
    "df_ = pd.DataFrame(data = [[0]*5]*len(labels), columns=['label', 'drifter_type', 'satellite', 'year', 'number_coloc',])\n",
    "dfd_ = pd.DataFrame(data = [[0]*5]*len(labels), columns=['label', 'drifter_type', 'satellite', 'year', 'number_coloc',])\n",
    "i=0\n",
    "for l in labels:\n",
    "    dsm = xr.open_dataset(os.path.join(matchup_dir, f'matchup_{l}.zarr')).dropna('obs').chunk({'obs':500})\n",
    "    dsm= dsm.where(dsm.alti___distance<=25e3, drop=True)\n",
    "    dsm= dsm.where(dsm.alti___time_difference<=30*60, drop=True)\n",
    "    dsmd = dsm.where(dsm.drogue_status, drop=True)\n",
    "    df_.iloc[i,:]=[l]+get_drifter_sat_year_from_label(l)+ [dsm.dims['obs']]\n",
    "    dfd_.iloc[i,:]=[l]+get_drifter_sat_year_from_label(l)+ [dsmd.dims['obs']]\n",
    "    i+=1\n",
    "    print(l)\n"
   ]
  },
  {
   "cell_type": "code",
   "execution_count": 18,
   "id": "49db474f-f8a7-4266-abd6-f6c5a8b9e314",
   "metadata": {},
   "outputs": [
    {
     "data": {
      "text/html": [
       "<div>\n",
       "<style scoped>\n",
       "    .dataframe tbody tr th:only-of-type {\n",
       "        vertical-align: middle;\n",
       "    }\n",
       "\n",
       "    .dataframe tbody tr th {\n",
       "        vertical-align: top;\n",
       "    }\n",
       "\n",
       "    .dataframe thead th {\n",
       "        text-align: right;\n",
       "    }\n",
       "</style>\n",
       "<table border=\"1\" class=\"dataframe\">\n",
       "  <thead>\n",
       "    <tr style=\"text-align: right;\">\n",
       "      <th></th>\n",
       "      <th>number_coloc</th>\n",
       "    </tr>\n",
       "    <tr>\n",
       "      <th>drifter_type</th>\n",
       "      <th></th>\n",
       "    </tr>\n",
       "  </thead>\n",
       "  <tbody>\n",
       "    <tr>\n",
       "      <th>argos</th>\n",
       "      <td>251300</td>\n",
       "    </tr>\n",
       "    <tr>\n",
       "      <th>gps</th>\n",
       "      <td>301725</td>\n",
       "    </tr>\n",
       "  </tbody>\n",
       "</table>\n",
       "</div>"
      ],
      "text/plain": [
       "              number_coloc\n",
       "drifter_type              \n",
       "argos               251300\n",
       "gps                 301725"
      ]
     },
     "execution_count": 18,
     "metadata": {},
     "output_type": "execute_result"
    }
   ],
   "source": [
    "df_.groupby('drifter_type').sum()"
   ]
  },
  {
   "cell_type": "code",
   "execution_count": 16,
   "id": "209d7eee-5498-4ac0-930c-9ef306dbf7a9",
   "metadata": {},
   "outputs": [],
   "source": [
    "df_.to_csv(os.path.join(zarr_dir_ok, 'count', 'count_25km_30min.csv'))\n",
    "dfd_.to_csv(os.path.join(zarr_dir_ok, 'count', 'count_25km_30min_drogued.csv'))"
   ]
  },
  {
   "cell_type": "code",
   "execution_count": null,
   "id": "295e2321-e9e0-4bc5-89b4-69666935a546",
   "metadata": {},
   "outputs": [],
   "source": [
    "cluster.close()"
   ]
  },
  {
   "cell_type": "code",
   "execution_count": null,
   "id": "345e6101-fc31-4c74-bf45-cdaceddfbc59",
   "metadata": {},
   "outputs": [],
   "source": []
  }
 ],
 "metadata": {
  "kernelspec": {
   "display_name": "Python 3 (ipykernel)",
   "language": "python",
   "name": "python3"
  },
  "language_info": {
   "codemirror_mode": {
    "name": "ipython",
    "version": 3
   },
   "file_extension": ".py",
   "mimetype": "text/x-python",
   "name": "python",
   "nbconvert_exporter": "python",
   "pygments_lexer": "ipython3",
   "version": "3.9.18"
  }
 },
 "nbformat": 4,
 "nbformat_minor": 5
}
