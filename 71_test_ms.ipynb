{
 "cells": [
  {
   "cell_type": "markdown",
   "id": "5f90127d-5c1e-4139-9522-a6293b1a6531",
   "metadata": {},
   "source": [
    "# Compute S"
   ]
  },
  {
   "cell_type": "code",
   "execution_count": 1,
   "id": "ab82decf-7f76-4734-802c-9648c2c7063c",
   "metadata": {},
   "outputs": [
    {
     "name": "stderr",
     "output_type": "stream",
     "text": [
      "/home1/datahome/mdemol/.miniconda3/envs/histenv2/lib/python3.9/site-packages/dask/config.py:742: FutureWarning: Dask configuration key 'distributed.scheduler.transition-log-length' has been deprecated; please use 'distributed.admin.low-level-log-length' instead\n",
      "  warnings.warn(\n",
      "/home1/datahome/mdemol/.miniconda3/envs/histenv2/lib/python3.9/site-packages/dask/config.py:742: FutureWarning: Dask configuration key 'distributed.comm.recent-messages-log-length' has been deprecated; please use 'distributed.admin.low-level-log-length' instead\n",
      "  warnings.warn(\n"
     ]
    }
   ],
   "source": [
    "import numpy as np\n",
    "import pandas as pd\n",
    "import xarray as xr\n",
    "\n",
    "import os\n",
    "from glob import glob\n",
    "\n",
    "import matplotlib.pyplot as plt\n",
    "\n",
    "import histlib.matchup as match\n",
    "import histlib.diagnosis as diag\n",
    "from histlib.cstes import labels, zarr_dir, matchup_dir, var\n",
    "from histlib.matchup import _data_var, _stress_var, _aviso_var"
   ]
  },
  {
   "cell_type": "code",
   "execution_count": 2,
   "id": "8dc08d7d-44fd-47ef-96a7-c0c479263d5f",
   "metadata": {
    "tags": []
   },
   "outputs": [
    {
     "data": {
      "text/html": [
       "<div>\n",
       "    <div style=\"width: 24px; height: 24px; background-color: #e1e1e1; border: 3px solid #9D9D9D; border-radius: 5px; position: absolute;\"> </div>\n",
       "    <div style=\"margin-left: 48px;\">\n",
       "        <h3 style=\"margin-bottom: 0px;\">Client</h3>\n",
       "        <p style=\"color: #9D9D9D; margin-bottom: 0px;\">Client-d24a28ba-b083-11ee-befe-0cc47a3f7159</p>\n",
       "        <table style=\"width: 100%; text-align: left;\">\n",
       "\n",
       "        <tr>\n",
       "        \n",
       "            <td style=\"text-align: left;\"><strong>Connection method:</strong> Cluster object</td>\n",
       "            <td style=\"text-align: left;\"><strong>Cluster type:</strong> dask_jobqueue.PBSCluster</td>\n",
       "        \n",
       "        </tr>\n",
       "\n",
       "        \n",
       "            <tr>\n",
       "                <td style=\"text-align: left;\">\n",
       "                    <strong>Dashboard: </strong> <a href=\"http://10.148.1.66:8787/status\" target=\"_blank\">http://10.148.1.66:8787/status</a>\n",
       "                </td>\n",
       "                <td style=\"text-align: left;\"></td>\n",
       "            </tr>\n",
       "        \n",
       "\n",
       "        </table>\n",
       "\n",
       "        \n",
       "\n",
       "        \n",
       "            <details>\n",
       "            <summary style=\"margin-bottom: 20px;\"><h3 style=\"display: inline;\">Cluster Info</h3></summary>\n",
       "            <div class=\"jp-RenderedHTMLCommon jp-RenderedHTML jp-mod-trusted jp-OutputArea-output\">\n",
       "    <div style=\"width: 24px; height: 24px; background-color: #e1e1e1; border: 3px solid #9D9D9D; border-radius: 5px; position: absolute;\">\n",
       "    </div>\n",
       "    <div style=\"margin-left: 48px;\">\n",
       "        <h3 style=\"margin-bottom: 0px; margin-top: 0px;\">PBSCluster</h3>\n",
       "        <p style=\"color: #9D9D9D; margin-bottom: 0px;\">7c976289</p>\n",
       "        <table style=\"width: 100%; text-align: left;\">\n",
       "            <tr>\n",
       "                <td style=\"text-align: left;\">\n",
       "                    <strong>Dashboard:</strong> <a href=\"http://10.148.1.66:8787/status\" target=\"_blank\">http://10.148.1.66:8787/status</a>\n",
       "                </td>\n",
       "                <td style=\"text-align: left;\">\n",
       "                    <strong>Workers:</strong> 0\n",
       "                </td>\n",
       "            </tr>\n",
       "            <tr>\n",
       "                <td style=\"text-align: left;\">\n",
       "                    <strong>Total threads:</strong> 0\n",
       "                </td>\n",
       "                <td style=\"text-align: left;\">\n",
       "                    <strong>Total memory:</strong> 0 B\n",
       "                </td>\n",
       "            </tr>\n",
       "            \n",
       "        </table>\n",
       "\n",
       "        <details>\n",
       "            <summary style=\"margin-bottom: 20px;\">\n",
       "                <h3 style=\"display: inline;\">Scheduler Info</h3>\n",
       "            </summary>\n",
       "\n",
       "            <div style=\"\">\n",
       "    <div>\n",
       "        <div style=\"width: 24px; height: 24px; background-color: #FFF7E5; border: 3px solid #FF6132; border-radius: 5px; position: absolute;\"> </div>\n",
       "        <div style=\"margin-left: 48px;\">\n",
       "            <h3 style=\"margin-bottom: 0px;\">Scheduler</h3>\n",
       "            <p style=\"color: #9D9D9D; margin-bottom: 0px;\">Scheduler-87644af2-322a-4041-ac2f-01cf6f69f3a9</p>\n",
       "            <table style=\"width: 100%; text-align: left;\">\n",
       "                <tr>\n",
       "                    <td style=\"text-align: left;\">\n",
       "                        <strong>Comm:</strong> tcp://10.148.1.66:49199\n",
       "                    </td>\n",
       "                    <td style=\"text-align: left;\">\n",
       "                        <strong>Workers:</strong> 0\n",
       "                    </td>\n",
       "                </tr>\n",
       "                <tr>\n",
       "                    <td style=\"text-align: left;\">\n",
       "                        <strong>Dashboard:</strong> <a href=\"http://10.148.1.66:8787/status\" target=\"_blank\">http://10.148.1.66:8787/status</a>\n",
       "                    </td>\n",
       "                    <td style=\"text-align: left;\">\n",
       "                        <strong>Total threads:</strong> 0\n",
       "                    </td>\n",
       "                </tr>\n",
       "                <tr>\n",
       "                    <td style=\"text-align: left;\">\n",
       "                        <strong>Started:</strong> Just now\n",
       "                    </td>\n",
       "                    <td style=\"text-align: left;\">\n",
       "                        <strong>Total memory:</strong> 0 B\n",
       "                    </td>\n",
       "                </tr>\n",
       "            </table>\n",
       "        </div>\n",
       "    </div>\n",
       "\n",
       "    <details style=\"margin-left: 48px;\">\n",
       "        <summary style=\"margin-bottom: 20px;\">\n",
       "            <h3 style=\"display: inline;\">Workers</h3>\n",
       "        </summary>\n",
       "\n",
       "        \n",
       "\n",
       "    </details>\n",
       "</div>\n",
       "\n",
       "        </details>\n",
       "    </div>\n",
       "</div>\n",
       "            </details>\n",
       "        \n",
       "\n",
       "    </div>\n",
       "</div>"
      ],
      "text/plain": [
       "<Client: 'tcp://10.148.1.66:49199' processes=0 threads=0, memory=0 B>"
      ]
     },
     "execution_count": 2,
     "metadata": {},
     "output_type": "execute_result"
    }
   ],
   "source": [
    "if True:\n",
    "    from dask.distributed import Client\n",
    "    from dask_jobqueue import PBSCluster\n",
    "    #cluster = PBSCluster(cores=56, processes=28, walltime='04:00:00')\n",
    "    #cluster = PBSCluster(cores=7, processes=7, walltime='04:00:00')\n",
    "    cluster = PBSCluster(cores=20, processes=20, walltime='04:00:00')\n",
    "    w = cluster.scale(jobs=3)\n",
    "else:\n",
    "    from dask.distributed import Client, LocalCluster\n",
    "    cluster = LocalCluster()\n",
    "\n",
    "client = Client(cluster)\n",
    "client"
   ]
  },
  {
   "cell_type": "markdown",
   "id": "6b8cfd46-edd3-4236-9045-7f6e5bb8e872",
   "metadata": {},
   "source": [
    "## Choose DL"
   ]
  },
  {
   "cell_type": "code",
   "execution_count": 3,
   "id": "997f0c2e-cc6c-47a1-97d3-1407777fdf3e",
   "metadata": {},
   "outputs": [],
   "source": [
    "DL =100*1e3 #meters\n",
    "DT = 3*3600 #seconds"
   ]
  },
  {
   "cell_type": "markdown",
   "id": "15f2dd90-912e-44b2-b262-a59d7ba63b6a",
   "metadata": {},
   "source": [
    "# Build and store dataset"
   ]
  },
  {
   "cell_type": "code",
   "execution_count": 4,
   "id": "80b0de0e-66a3-4871-90d2-8a4317c39787",
   "metadata": {},
   "outputs": [],
   "source": [
    "def ms_dataset(dsm, l) :\n",
    "    dsm = match.add_except_sum(dsm)   \n",
    "    nb = dsm.sizes[\"obs\"]\n",
    "    ds = (dsm**2).mean('obs')\n",
    "    ds[\"nb_coloc\"] = nb\n",
    "    ds['drifter_sat_year']=l\n",
    "    ds = ds.expand_dims('drifter_sat_year')\n",
    "    ds = ds.set_coords('drifter_sat_year')\n",
    "    \n",
    "    if \"id_comb\" in dsm:\n",
    "        ds[\"id_comb\"] = dsm[\"id_comb\"]\n",
    "    ## ATTRS\n",
    "    for v in dsm.keys() :\n",
    "        ds[v].attrs =dsm[v].attrs\n",
    "        ds[v].attrs['units']=r'$m^2.s^{-4}$'\n",
    "        \n",
    "    return ds"
   ]
  },
  {
   "cell_type": "code",
   "execution_count": null,
   "id": "2d42e9da-16da-40e7-b682-ffeef31c563f",
   "metadata": {
    "scrolled": true
   },
   "outputs": [
    {
     "name": "stdout",
     "output_type": "stream",
     "text": [
      "gps_Jason-3_2020\n",
      "argos_Jason-3_2020\n",
      "gps_SARAL_2020\n",
      "argos_SARAL_2020\n",
      "gps_Cryosat-2_2020\n",
      "argos_Cryosat-2_2020\n"
     ]
    }
   ],
   "source": [
    "for l in labels : \n",
    "    dsm = xr.open_dataset(os.path.join(matchup_dir, f'matchup_{l}.zarr'))[var+['drogue_status', 'alti___distance', 'alti___time_difference']].dropna('obs').chunk({'obs':500})\n",
    "    dsm = dsm.where(dsm.alti___distance<=DL, drop=True)\n",
    "    dsm = dsm.where(dsm.alti___time_difference<=DT, drop=True).drop(['alti___distance', 'alti___time_difference'])\n",
    "    dsmd = dsm.where(dsm.drogue_status, drop=True).drop('drogue_status')\n",
    "    dsmnd = dsm.where(np.logical_not(dsm.drogue_status), drop=True).drop('drogue_status')\n",
    "    dsm = dsm.drop('drogue_status')\n",
    "    if l==labels[0] : \n",
    "        ms_dataset(dsm, l).to_zarr(os.path.join(zarr_dir+'_ok',f'ms_{int(DL//1000)}_{DT}.zarr'),encoding={'drifter_sat_year':{'dtype':'U32'}}, mode='w')\n",
    "        if dsmd.dims['obs']!=0 : \n",
    "            ms_dataset(dsmd,l).to_zarr(os.path.join(zarr_dir+'_ok',f'ms_{int(DL//1000)}_{DT}_drogued.zarr'), encoding={'drifter_sat_year':{'dtype':'U32'}},mode='w')\n",
    "        if dsmnd.dims['obs']!=0 : \n",
    "            ms_dataset(dsmnd,l).to_zarr(os.path.join(zarr_dir+'_ok',f'ms_{int(DL//1000)}_{DT}_undrogued.zarr'),encoding={'drifter_sat_year':{'dtype':'U32'}}, mode='w')\n",
    "    else : \n",
    "        ms_dataset(dsm,l).to_zarr(os.path.join(zarr_dir+'_ok',f'ms_{int(DL//1000)}_{DT}.zarr'), append_dim='drifter_sat_year')\n",
    "        if dsmd.dims['obs']!=0 : \n",
    "            ms_dataset(dsmd,l).to_zarr(os.path.join(zarr_dir+'_ok',f'ms_{int(DL//1000)}_{DT}_drogued.zarr'), append_dim='drifter_sat_year')\n",
    "        if dsmnd.dims['obs']!=0 : \n",
    "            ms_dataset(dsmnd,l).to_zarr(os.path.join(zarr_dir+'_ok',f'ms_{int(DL//1000)}_{DT}_undrogued.zarr'),append_dim='drifter_sat_year')\n",
    "    print(l)\n"
   ]
  },
  {
   "cell_type": "code",
   "execution_count": 1,
   "id": "793124e6-4412-46c1-93d5-fff7b7277573",
   "metadata": {},
   "outputs": [
    {
     "ename": "NameError",
     "evalue": "name 'cluster' is not defined",
     "output_type": "error",
     "traceback": [
      "\u001b[0;31m---------------------------------------------------------------------------\u001b[0m",
      "\u001b[0;31mNameError\u001b[0m                                 Traceback (most recent call last)",
      "Cell \u001b[0;32mIn[1], line 1\u001b[0m\n\u001b[0;32m----> 1\u001b[0m \u001b[43mcluster\u001b[49m\u001b[38;5;241m.\u001b[39mclose()\n",
      "\u001b[0;31mNameError\u001b[0m: name 'cluster' is not defined"
     ]
    }
   ],
   "source": [
    "cluster.close()"
   ]
  },
  {
   "cell_type": "code",
   "execution_count": null,
   "id": "a9a4394f-3d30-4b20-88da-c4f466bf6c43",
   "metadata": {},
   "outputs": [],
   "source": []
  }
 ],
 "metadata": {
  "kernelspec": {
   "display_name": "Python 3 (ipykernel)",
   "language": "python",
   "name": "python3"
  },
  "language_info": {
   "codemirror_mode": {
    "name": "ipython",
    "version": 3
   },
   "file_extension": ".py",
   "mimetype": "text/x-python",
   "name": "python",
   "nbconvert_exporter": "python",
   "pygments_lexer": "ipython3",
   "version": "3.9.18"
  }
 },
 "nbformat": 4,
 "nbformat_minor": 5
}
