{
 "cells": [
  {
   "cell_type": "code",
   "execution_count": 10,
   "id": "08fa661d-8996-4b42-abe1-f31e7c389b1c",
   "metadata": {},
   "outputs": [
    {
     "name": "stdout",
     "output_type": "stream",
     "text": [
      "1.3387968749999998e-06\n",
      "2.4077740185228182e-12\n",
      "3.061461130815698e-06\n",
      "5.781214493774715e-11\n"
     ]
    }
   ],
   "source": [
    "import numpy as np\n",
    "\n",
    "HFvarSSH = lambda E0, k0, kc, s : E0/(s-1)*(k0**s)/(kc**(s-1))\n",
    "HFvargradSSH = lambda E0, k0, kc, s : E0/(s-3)*(k0**s)/(kc**(s-3))*(9.81**2)*(2*np.pi/1000)**2\n",
    "\n",
    "\n",
    "E0 = 3e2\n",
    "k0= 1e-3\n",
    "kc=1/65\n",
    "s = 5\n",
    "\n",
    "\n",
    "print(HFvarSSH(E0, k0, kc, s))\n",
    "print(HFvargradSSH(E0, k0, kc, s))\n",
    "\n",
    "E0 = 2\n",
    "s = 3.1\n",
    "\n",
    "print(HFvarSSH(E0, k0, kc, s))\n",
    "print(HFvargradSSH(E0, k0, kc, s))\n",
    "\n",
    "\n"
   ]
  },
  {
   "cell_type": "code",
   "execution_count": null,
   "id": "1626cdb3-2061-4e86-9999-bf25cef9914d",
   "metadata": {},
   "outputs": [],
   "source": []
  }
 ],
 "metadata": {
  "kernelspec": {
   "display_name": "Python 3 (ipykernel)",
   "language": "python",
   "name": "python3"
  },
  "language_info": {
   "codemirror_mode": {
    "name": "ipython",
    "version": 3
   },
   "file_extension": ".py",
   "mimetype": "text/x-python",
   "name": "python",
   "nbconvert_exporter": "python",
   "pygments_lexer": "ipython3",
   "version": "3.9.18"
  }
 },
 "nbformat": 4,
 "nbformat_minor": 5
}
