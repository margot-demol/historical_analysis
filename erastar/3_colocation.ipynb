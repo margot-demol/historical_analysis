{
 "cells": [
  {
   "cell_type": "markdown",
   "id": "e21694b3",
   "metadata": {},
   "source": [
    "# ERASTAR : Colocalisation d'observations avec le datacube\n",
    "\n",
    "Dans les parties précédentes nous avons construit et testé le datacube. Ici, nous allons réaliser des tests de colocalisation entre le datacube et les points d'observations. Pour chaque point d'observations, nous allons extraire un petit cube et enregistrer les résultats dans des fichiers NetCDF."
   ]
  },
  {
   "cell_type": "code",
   "execution_count": 1,
   "id": "bef39a4f",
   "metadata": {},
   "outputs": [],
   "source": [
    "import os\n",
    "import dask\n",
    "import intake\n",
    "import datetime\n",
    "import numpy as np\n",
    "import pandas as pd\n",
    "import xarray as xr\n",
    "import dask_jobqueue\n",
    "import dask.distributed\n",
    "\n",
    "from pathlib import Path"
   ]
  },
  {
   "cell_type": "markdown",
   "id": "6b03ae87",
   "metadata": {},
   "source": [
    "## Cluster Dask"
   ]
  },
  {
   "cell_type": "raw",
   "id": "a10b4beb",
   "metadata": {},
   "source": [
    "# Création du cluster Dask\n",
    "cluster = dask_jobqueue.PBSCluster(queue='omp', \n",
    "                                   cores=28,\n",
    "                                   memory=\"300GB\", # Essayer avec 500GB\n",
    "                                   walltime=\"01:00:00\",\n",
    "                                   interface='ib0',\n",
    "                                   local_directory='/tmp',\n",
    "                                   log_directory='/home1/scratch/gcaer/dask-logs',\n",
    "                                   #processes=4,\n",
    "                                  )\n",
    "cluster.scale(jobs=2)"
   ]
  },
  {
   "cell_type": "code",
   "execution_count": 2,
   "id": "ec6fce52",
   "metadata": {},
   "outputs": [
    {
     "name": "stderr",
     "output_type": "stream",
     "text": [
      "/home1/datawork/gcaer/conda-env/data-env/lib/python3.11/site-packages/distributed/node.py:182: UserWarning: Port 8787 is already in use.\n",
      "Perhaps you already have a cluster running?\n",
      "Hosting the HTTP server on port 58840 instead\n",
      "  warnings.warn(\n"
     ]
    }
   ],
   "source": [
    "# Création du cluster Dask\n",
    "cluster = dask_jobqueue.PBSCluster(queue='omp', \n",
    "                                   cores=28,\n",
    "                                   memory=\"300GB\", # Essayer avec 500GB\n",
    "                                   walltime=\"01:00:00\",\n",
    "                                   interface='ib0',\n",
    "                                   local_directory='/tmp',\n",
    "                                   log_directory='/home1/scratch/gcaer/dask-logs',\n",
    "                                   #processes=4,\n",
    "                                  )\n",
    "cluster.scale(jobs=2)"
   ]
  },
  {
   "cell_type": "raw",
   "id": "3a5cd049",
   "metadata": {},
   "source": [
    "# Création du cluster Dask\n",
    "cluster = dask.distributed.LocalCluster()"
   ]
  },
  {
   "cell_type": "code",
   "execution_count": 3,
   "id": "605a69a6",
   "metadata": {},
   "outputs": [
    {
     "data": {
      "text/html": [
       "<div>\n",
       "    <div style=\"width: 24px; height: 24px; background-color: #e1e1e1; border: 3px solid #9D9D9D; border-radius: 5px; position: absolute;\"> </div>\n",
       "    <div style=\"margin-left: 48px;\">\n",
       "        <h3 style=\"margin-bottom: 0px;\">Client</h3>\n",
       "        <p style=\"color: #9D9D9D; margin-bottom: 0px;\">Client-318f4417-138a-11ef-a3bd-0cc47a3f7879</p>\n",
       "        <table style=\"width: 100%; text-align: left;\">\n",
       "\n",
       "        <tr>\n",
       "        \n",
       "            <td style=\"text-align: left;\"><strong>Connection method:</strong> Cluster object</td>\n",
       "            <td style=\"text-align: left;\"><strong>Cluster type:</strong> dask_jobqueue.PBSCluster</td>\n",
       "        \n",
       "        </tr>\n",
       "\n",
       "        \n",
       "            <tr>\n",
       "                <td style=\"text-align: left;\">\n",
       "                    <strong>Dashboard: </strong> <a href=\"http://10.148.0.34:58840/status\" target=\"_blank\">http://10.148.0.34:58840/status</a>\n",
       "                </td>\n",
       "                <td style=\"text-align: left;\"></td>\n",
       "            </tr>\n",
       "        \n",
       "\n",
       "        </table>\n",
       "\n",
       "        \n",
       "            <button style=\"margin-bottom: 12px;\" data-commandlinker-command=\"dask:populate-and-launch-layout\" data-commandlinker-args='{\"url\": \"http://10.148.0.34:58840/status\" }'>\n",
       "                Launch dashboard in JupyterLab\n",
       "            </button>\n",
       "        \n",
       "\n",
       "        \n",
       "            <details>\n",
       "            <summary style=\"margin-bottom: 20px;\"><h3 style=\"display: inline;\">Cluster Info</h3></summary>\n",
       "            <div class=\"jp-RenderedHTMLCommon jp-RenderedHTML jp-mod-trusted jp-OutputArea-output\">\n",
       "    <div style=\"width: 24px; height: 24px; background-color: #e1e1e1; border: 3px solid #9D9D9D; border-radius: 5px; position: absolute;\">\n",
       "    </div>\n",
       "    <div style=\"margin-left: 48px;\">\n",
       "        <h3 style=\"margin-bottom: 0px; margin-top: 0px;\">PBSCluster</h3>\n",
       "        <p style=\"color: #9D9D9D; margin-bottom: 0px;\">e11ff854</p>\n",
       "        <table style=\"width: 100%; text-align: left;\">\n",
       "            <tr>\n",
       "                <td style=\"text-align: left;\">\n",
       "                    <strong>Dashboard:</strong> <a href=\"http://10.148.0.34:58840/status\" target=\"_blank\">http://10.148.0.34:58840/status</a>\n",
       "                </td>\n",
       "                <td style=\"text-align: left;\">\n",
       "                    <strong>Workers:</strong> 0\n",
       "                </td>\n",
       "            </tr>\n",
       "            <tr>\n",
       "                <td style=\"text-align: left;\">\n",
       "                    <strong>Total threads:</strong> 0\n",
       "                </td>\n",
       "                <td style=\"text-align: left;\">\n",
       "                    <strong>Total memory:</strong> 0 B\n",
       "                </td>\n",
       "            </tr>\n",
       "            \n",
       "        </table>\n",
       "\n",
       "        <details>\n",
       "            <summary style=\"margin-bottom: 20px;\">\n",
       "                <h3 style=\"display: inline;\">Scheduler Info</h3>\n",
       "            </summary>\n",
       "\n",
       "            <div style=\"\">\n",
       "    <div>\n",
       "        <div style=\"width: 24px; height: 24px; background-color: #FFF7E5; border: 3px solid #FF6132; border-radius: 5px; position: absolute;\"> </div>\n",
       "        <div style=\"margin-left: 48px;\">\n",
       "            <h3 style=\"margin-bottom: 0px;\">Scheduler</h3>\n",
       "            <p style=\"color: #9D9D9D; margin-bottom: 0px;\">Scheduler-1eab25d5-bff3-4b17-bcd7-6c4f6e6771d5</p>\n",
       "            <table style=\"width: 100%; text-align: left;\">\n",
       "                <tr>\n",
       "                    <td style=\"text-align: left;\">\n",
       "                        <strong>Comm:</strong> tcp://10.148.0.34:33431\n",
       "                    </td>\n",
       "                    <td style=\"text-align: left;\">\n",
       "                        <strong>Workers:</strong> 0\n",
       "                    </td>\n",
       "                </tr>\n",
       "                <tr>\n",
       "                    <td style=\"text-align: left;\">\n",
       "                        <strong>Dashboard:</strong> <a href=\"http://10.148.0.34:58840/status\" target=\"_blank\">http://10.148.0.34:58840/status</a>\n",
       "                    </td>\n",
       "                    <td style=\"text-align: left;\">\n",
       "                        <strong>Total threads:</strong> 0\n",
       "                    </td>\n",
       "                </tr>\n",
       "                <tr>\n",
       "                    <td style=\"text-align: left;\">\n",
       "                        <strong>Started:</strong> Just now\n",
       "                    </td>\n",
       "                    <td style=\"text-align: left;\">\n",
       "                        <strong>Total memory:</strong> 0 B\n",
       "                    </td>\n",
       "                </tr>\n",
       "            </table>\n",
       "        </div>\n",
       "    </div>\n",
       "\n",
       "    <details style=\"margin-left: 48px;\">\n",
       "        <summary style=\"margin-bottom: 20px;\">\n",
       "            <h3 style=\"display: inline;\">Workers</h3>\n",
       "        </summary>\n",
       "\n",
       "        \n",
       "\n",
       "    </details>\n",
       "</div>\n",
       "\n",
       "        </details>\n",
       "    </div>\n",
       "</div>\n",
       "            </details>\n",
       "        \n",
       "\n",
       "    </div>\n",
       "</div>"
      ],
      "text/plain": [
       "<Client: 'tcp://10.148.0.34:33431' processes=0 threads=0, memory=0 B>"
      ]
     },
     "execution_count": 3,
     "metadata": {},
     "output_type": "execute_result"
    }
   ],
   "source": [
    "client = dask.distributed.Client(cluster, timeout=600)\n",
    "client"
   ]
  },
  {
   "cell_type": "raw",
   "id": "5559c52d",
   "metadata": {},
   "source": [
    "client.close()\n",
    "cluster.close()"
   ]
  },
  {
   "cell_type": "code",
   "execution_count": 4,
   "id": "e1709d57",
   "metadata": {},
   "outputs": [
    {
     "name": "stdout",
     "output_type": "stream",
     "text": [
      "ssh -N -L 58840:r1i0n33:58840 gcaer@datarmor.ifremer.fr\n",
      "open browser at address of the type: http://localhost:58840\n"
     ]
    }
   ],
   "source": [
    "port = client.scheduler_info()[\"services\"][\"dashboard\"]\n",
    "ssh_command = f'ssh -N -L {port}:{os.environ[\"HOSTNAME\"]}:{port} {os.environ[\"USER\"]}@datarmor.ifremer.fr'\n",
    "\n",
    "print(f\"{ssh_command}\")\n",
    "print(f\"open browser at address of the type: http://localhost:{port}\")"
   ]
  },
  {
   "cell_type": "markdown",
   "id": "34b448b5",
   "metadata": {},
   "source": [
    "## Ouverture des datacubes"
   ]
  },
  {
   "cell_type": "code",
   "execution_count": 5,
   "id": "1546ebd2",
   "metadata": {},
   "outputs": [],
   "source": [
    "# Chemin vers le datacube\n",
    "wrk = Path('/home/datawork-data-terra/odatis/data')\n",
    "name = 'erastar'\n",
    "version = 'datacube-year'\n",
    "output = wrk / name / version"
   ]
  },
  {
   "cell_type": "code",
   "execution_count": 6,
   "id": "8b7b5844",
   "metadata": {},
   "outputs": [
    {
     "name": "stderr",
     "output_type": "stream",
     "text": [
      "/home1/datawork/gcaer/conda-env/data-env/lib/python3.11/site-packages/intake_xarray/base.py:21: FutureWarning: The return type of `Dataset.dims` will be changed to return a set of dimension names in future, in order to be more consistent with `DataArray.dims`. To access a mapping from dimension names to lengths, please use `Dataset.sizes`.\n",
      "  'dims': dict(self._ds.dims),\n",
      "/home1/datawork/gcaer/conda-env/data-env/lib/python3.11/site-packages/intake_xarray/base.py:21: FutureWarning: The return type of `Dataset.dims` will be changed to return a set of dimension names in future, in order to be more consistent with `DataArray.dims`. To access a mapping from dimension names to lengths, please use `Dataset.sizes`.\n",
      "  'dims': dict(self._ds.dims),\n",
      "/home1/datawork/gcaer/conda-env/data-env/lib/python3.11/site-packages/intake_xarray/base.py:21: FutureWarning: The return type of `Dataset.dims` will be changed to return a set of dimension names in future, in order to be more consistent with `DataArray.dims`. To access a mapping from dimension names to lengths, please use `Dataset.sizes`.\n",
      "  'dims': dict(self._ds.dims),\n"
     ]
    }
   ],
   "source": [
    "# Ouverture du datacube\n",
    "start, end = 2018, 2020\n",
    "chunks = {\"time\": 1, \"latitude\": -1, \"longitude\": -1}\n",
    "vars = [\"es_u10s\", \"es_v10s\", \"e5_u10s\", \"e5_v10s\", \"count\", \"quality_flag\"]\n",
    "cat = intake.open_catalog(output / \"reference.yaml\")\n",
    "datacubes = [cat[str(year)](chunks=chunks).to_dask().drop_vars(vars) for year in range(start, end+1)]\n",
    "datacube = xr.concat(datacubes, dim=\"time\")"
   ]
  },
  {
   "cell_type": "markdown",
   "id": "15065392",
   "metadata": {},
   "source": [
    "## Ouverture des matchups"
   ]
  },
  {
   "cell_type": "code",
   "execution_count": 7,
   "id": "62abec51",
   "metadata": {},
   "outputs": [],
   "source": [
    "# Ouverture des matchups\n",
    "label = 'gps_Jason-3_2019'\n",
    "zarr_dir = Path(\"/home/datawork-lops-osi/aponte/margot/historical_coloc\")\n",
    "ds_raw = xr.open_zarr(zarr_dir / f'{label}.zarr')"
   ]
  },
  {
   "cell_type": "markdown",
   "id": "172969c0",
   "metadata": {},
   "source": [
    "## Pré-traitements des matchups"
   ]
  },
  {
   "cell_type": "code",
   "execution_count": 8,
   "id": "c02afe0c",
   "metadata": {},
   "outputs": [],
   "source": [
    "dlon, dlat = 5, 5 # +/- Nombre de degrée à extraire autour du point d'observation\n",
    "dt = (-12, 13) # +/- Nombre d'heure à extraire autour du point d'observation (+/- 12 heure)\n",
    "dl = 0.125 # Pas entre chaque coordonnée longitude/latitude du datacube\n",
    "N_lon, N_lat = int(2*dlon/dl), int(2*dlat/dl) # Nombre de points en longitude/latitude (40,40)"
   ]
  },
  {
   "cell_type": "code",
   "execution_count": 9,
   "id": "a78ce241",
   "metadata": {},
   "outputs": [],
   "source": [
    "def preprocessing(ds, **kwargs):\n",
    "    \"\"\"Pré-traitement du dataset avec les points d'observation pour préparer l'étape de colocalisation.\"\"\"\n",
    "    # Sélection des matchups avec une distance inférieur à 200km ? \n",
    "    ds = ds.where(ds_raw.alti___distance.compute()<2e5, drop=True)\n",
    "\n",
    "    # Sélection uniquement des variables d'intérets\n",
    "    ds = ds[['time', 'lat', 'lon']]\n",
    "\n",
    "    # Pour chaque observation, définition de l'extension à extraire\n",
    "    ds['lon_min'] = (ds.lon - kwargs['dlon'])\n",
    "    ds['lon_max'] = (ds.lon + kwargs['dlon'])\n",
    "    ds['lat_min'] = (ds.lat - kwargs['dlat'])\n",
    "    ds['lat_max'] = (ds.lat + kwargs['dlat'])\n",
    "\n",
    "    def set_spatial_array(_mins, _maxs, **kwargs):\n",
    "        \"\"\"Pour chaque observation, on génère un array de N valeurs entre min et max\"\"\"\n",
    "        return np.array([np.linspace(_min, _max, int(kwargs['N'])) for _min, _max in zip(_mins, _maxs)])\n",
    "\n",
    "    def set_time_array(time_values, **kwargs):\n",
    "        \"\"\"Pour chaque observation, on génère un array de valeurs, allant de time_value - dt[0] à time_value + dt[1]\"\"\"\n",
    "        return np.array([[ (time_value + np.timedelta64(_dt, 'h')).astype(np.int64) for _dt in range(*kwargs['dt'])] for time_value in time_values])\n",
    "\n",
    "    # Pour chaque observation génère un array de N_lon coordonnées à extraire entre lon_min et lon_max\n",
    "    ds['array_lon'] = xr.apply_ufunc(\n",
    "        set_spatial_array, \n",
    "        ds['lon_min'], \n",
    "        ds['lon_max'],\n",
    "        input_core_dims=[[], []],\n",
    "        output_core_dims=[['x']],\n",
    "        output_dtypes=[float],\n",
    "        dask_gufunc_kwargs=dict(output_sizes={'x': kwargs['N_lon']}),\n",
    "        dask='parallelized',\n",
    "        kwargs={'N': kwargs['N_lon']} \n",
    "    )\n",
    "\n",
    "    # Pour chaque observation génère un array de N_lat coordonnées à extraire entre lat_min et lat_max\n",
    "    ds['array_lat'] = xr.apply_ufunc(\n",
    "        set_spatial_array, \n",
    "        ds['lat_min'], \n",
    "        ds['lat_max'],\n",
    "        input_core_dims=[[], []],\n",
    "        output_core_dims=[['y']],\n",
    "        output_dtypes=[float],\n",
    "        dask_gufunc_kwargs=dict(output_sizes={'y': kwargs['N_lat']}),\n",
    "        dask='parallelized',\n",
    "        kwargs={'N': kwargs['N_lat']} \n",
    "    )\n",
    "\n",
    "    # Pour chaque observation génère un array de +/- dt jour à extraire autour de la date du d'observation\n",
    "    ds['array_time'] = xr.apply_ufunc(\n",
    "        set_time_array, \n",
    "        ds['time'], \n",
    "        input_core_dims=[[]],\n",
    "        output_core_dims=[['t']],\n",
    "        output_dtypes=[int],\n",
    "        dask_gufunc_kwargs=dict(output_sizes={'t': len(range(*kwargs['dt']))}),\n",
    "        dask='parallelized',\n",
    "        kwargs={'dt': kwargs['dt']} \n",
    "    ).astype('datetime64[ns]')\n",
    "\n",
    "    ds = ds.rename({'time':'obs_time', 'lon':'obs_lon', 'lat':'obs_lat'})\n",
    "\n",
    "    return ds"
   ]
  },
  {
   "cell_type": "markdown",
   "id": "108c9bba",
   "metadata": {},
   "source": [
    "## Colocalisation"
   ]
  },
  {
   "cell_type": "code",
   "execution_count": 10,
   "id": "ba3f4859",
   "metadata": {},
   "outputs": [
    {
     "name": "stdout",
     "output_type": "stream",
     "text": [
      "CPU times: user 24.6 s, sys: 1.38 s, total: 26 s\n",
      "Wall time: 31.4 s\n"
     ]
    }
   ],
   "source": [
    "%%time\n",
    "# Preprocessing\n",
    "ds = preprocessing(\n",
    "    ds_raw,\n",
    "    dlon=dlon,\n",
    "    dlat=dlat,\n",
    "    dt=dt,\n",
    "    N_lon=N_lon,\n",
    "    N_lat=N_lat,\n",
    ")"
   ]
  },
  {
   "cell_type": "code",
   "execution_count": 11,
   "id": "ab1cc3a0",
   "metadata": {},
   "outputs": [],
   "source": [
    "@dask.delayed\n",
    "def colocalisation(datacube, ds):\n",
    "    \"\"\"Colocalisation des observations avec le Datacube\"\"\"\n",
    "    return datacube.sel(\n",
    "        lon=ds.array_lon,\n",
    "        lat=ds.array_lat,\n",
    "        time=ds.array_time,\n",
    "        method=\"nearest\",\n",
    "        )\n",
    "\n",
    "@dask.delayed\n",
    "def concat(i, results, output, filename):\n",
    "    \"\"\"Concaténation des colocalisation, et sauvegarde sur disque\"\"\"\n",
    "    r = dask.compute(*results)\n",
    "    res = xr.concat(r, \"ids\")\n",
    "    res = res.unstack('ids')\n",
    "    res['obs_lon'] = res['obs_lon'].isel(t=0)\n",
    "    res['obs_lat'] = res['obs_lat'].isel(t=0)\n",
    "    res['obs_time'] = res['obs_time'].isel(t=0)\n",
    "    res = res.drop_vars('t')\n",
    "    res = res.transpose('obs', 't', 'y', 'x')\n",
    "    res = res[['e5_tauu', 'e5_tauv', 'es_tauu', 'es_tauv']]\n",
    "    \n",
    "    res.to_netcdf(output / f'{filename}_{i}.nc')"
   ]
  },
  {
   "cell_type": "code",
   "execution_count": 12,
   "id": "982198a1",
   "metadata": {},
   "outputs": [],
   "source": [
    "def conf(ds, n_obs_per_batch, n_obs_per_file):\n",
    "    n_batches = ds.sizes['obs']//n_obs_per_batch + (1 if ds.sizes['obs'] % n_obs_per_batch > 0 else 0) # Nombre de batch au total\n",
    "    n_batch_per_file = n_obs_per_file // n_obs_per_batch\n",
    "    n_netcdf = n_batches // n_batch_per_file + (1 if n_batches % n_batch_per_file > 0 else 0) # Nombre de fichier netCDF en sortie\n",
    "    print(f\"Nombre d'observation par batch: {n_obs_per_batch}\")\n",
    "    print(f\"Nombre de batch: {n_batches}\")\n",
    "    print(f\"Nombre d'observations par fichier NetCDF: {n_obs_per_file}\")\n",
    "    print(f\"Nombre de batch par fichier netCDF: {n_batch_per_file}\")\n",
    "    print(f\"Nombre de fichier NetCDF: {n_netcdf}\")"
   ]
  },
  {
   "cell_type": "code",
   "execution_count": 13,
   "id": "99205111",
   "metadata": {},
   "outputs": [],
   "source": [
    "def processing(ds, datacube, n_obs_per_batch, n_obs_per_file, output, filename):\n",
    "    \"\"\"\n",
    "    Création des fonctions delayed, repartition en batch, et concaténation dans des fichiers de sorties NetCDF.\n",
    "    n_obs : Nombre d'observation par batch\n",
    "    n_batch : Nombre de batch par fichier netCDF\n",
    "    \"\"\"\n",
    "    batches = []\n",
    "    for i in range(0, ds.sizes['obs'], n_obs_per_batch):\n",
    "        # Sélection des observation dans la tranche\n",
    "        ds_sub = ds.isel(obs=slice(i,i + n_obs_per_batch))\n",
    "        # Mise à plat des indices\n",
    "        ds_sub = ds_sub.stack(ids=('obs', 't'))\n",
    "        # Trier par heure à extraire\n",
    "        ds_sub = ds_sub.sortby('array_time')\n",
    "        time_min, time_max = ds_sub.array_time.min().values, ds_sub.array_time.max().values\n",
    "        # Sélection de la portion du datacube concerné par les observations du batch\n",
    "        datacube_sub = datacube.sel(time=slice(time_min, time_max))\n",
    "        batches.append(colocalisation(datacube_sub, ds_sub))\n",
    "\n",
    "    concats = []\n",
    "    n_batch_per_file = n_obs_per_file // n_obs_per_batch\n",
    "    for idx, i in enumerate(range(0, len(batches), n_batch_per_file)):\n",
    "        r = batches[slice(i,i + n_batch_per_file)]\n",
    "        concats.append(concat(idx, r, output, filename))\n",
    "    return concats"
   ]
  },
  {
   "cell_type": "code",
   "execution_count": 14,
   "id": "f114ef82",
   "metadata": {},
   "outputs": [],
   "source": [
    "n_obs_per_batch = 500\n",
    "n_obs_per_file = 2_500"
   ]
  },
  {
   "cell_type": "code",
   "execution_count": 15,
   "id": "da2b4196",
   "metadata": {},
   "outputs": [
    {
     "name": "stdout",
     "output_type": "stream",
     "text": [
      "Nombre d'observation par batch: 500\n",
      "Nombre de batch: 284\n",
      "Nombre d'observations par fichier NetCDF: 2500\n",
      "Nombre de batch par fichier netCDF: 5\n",
      "Nombre de fichier NetCDF: 57\n"
     ]
    }
   ],
   "source": [
    "conf(ds, n_obs_per_batch, n_obs_per_file)"
   ]
  },
  {
   "cell_type": "code",
   "execution_count": 16,
   "id": "a64eb830",
   "metadata": {},
   "outputs": [
    {
     "name": "stdout",
     "output_type": "stream",
     "text": [
      "CPU times: user 8.02 s, sys: 1.7 s, total: 9.71 s\n",
      "Wall time: 9.21 s\n"
     ]
    }
   ],
   "source": [
    "%%time\n",
    "path = Path('/home1/scratch/gcaer/data/erastar')\n",
    "filename = f\"{label}_coloc\"\n",
    "concats = processing(ds, datacube, n_obs_per_batch, n_obs_per_file, path, filename)"
   ]
  },
  {
   "cell_type": "code",
   "execution_count": 17,
   "id": "016ca014",
   "metadata": {},
   "outputs": [
    {
     "data": {
      "text/plain": [
       "57"
      ]
     },
     "execution_count": 17,
     "metadata": {},
     "output_type": "execute_result"
    }
   ],
   "source": [
    "len(concats)"
   ]
  },
  {
   "cell_type": "code",
   "execution_count": 18,
   "id": "785ededd",
   "metadata": {},
   "outputs": [
    {
     "name": "stderr",
     "output_type": "stream",
     "text": [
      "/home1/datawork/gcaer/conda-env/data-env/lib/python3.11/site-packages/distributed/client.py:3162: UserWarning: Sending large graph of size 164.28 MiB.\n",
      "This may cause some slowdown.\n",
      "Consider scattering data ahead of time and using futures.\n",
      "  warnings.warn(\n"
     ]
    },
    {
     "name": "stdout",
     "output_type": "stream",
     "text": [
      "CPU times: user 13.8 s, sys: 1.6 s, total: 15.4 s\n",
      "Wall time: 1min 17s\n"
     ]
    }
   ],
   "source": [
    "%%time\n",
    "z = dask.compute(concats[:2])"
   ]
  },
  {
   "cell_type": "markdown",
   "id": "9c74d5a2",
   "metadata": {},
   "source": [
    "## Analyse des résultats"
   ]
  },
  {
   "cell_type": "code",
   "execution_count": 19,
   "id": "d7701bcb",
   "metadata": {},
   "outputs": [],
   "source": [
    "n = 0 # Numéro de fichier\n",
    "res = xr.open_dataset(path / f'{filename}_{n}.nc')"
   ]
  },
  {
   "cell_type": "code",
   "execution_count": 20,
   "id": "bca21c56",
   "metadata": {},
   "outputs": [
    {
     "data": {
      "text/html": [
       "<div><svg style=\"position: absolute; width: 0; height: 0; overflow: hidden\">\n",
       "<defs>\n",
       "<symbol id=\"icon-database\" viewBox=\"0 0 32 32\">\n",
       "<path d=\"M16 0c-8.837 0-16 2.239-16 5v4c0 2.761 7.163 5 16 5s16-2.239 16-5v-4c0-2.761-7.163-5-16-5z\"></path>\n",
       "<path d=\"M16 17c-8.837 0-16-2.239-16-5v6c0 2.761 7.163 5 16 5s16-2.239 16-5v-6c0 2.761-7.163 5-16 5z\"></path>\n",
       "<path d=\"M16 26c-8.837 0-16-2.239-16-5v6c0 2.761 7.163 5 16 5s16-2.239 16-5v-6c0 2.761-7.163 5-16 5z\"></path>\n",
       "</symbol>\n",
       "<symbol id=\"icon-file-text2\" viewBox=\"0 0 32 32\">\n",
       "<path d=\"M28.681 7.159c-0.694-0.947-1.662-2.053-2.724-3.116s-2.169-2.030-3.116-2.724c-1.612-1.182-2.393-1.319-2.841-1.319h-15.5c-1.378 0-2.5 1.121-2.5 2.5v27c0 1.378 1.122 2.5 2.5 2.5h23c1.378 0 2.5-1.122 2.5-2.5v-19.5c0-0.448-0.137-1.23-1.319-2.841zM24.543 5.457c0.959 0.959 1.712 1.825 2.268 2.543h-4.811v-4.811c0.718 0.556 1.584 1.309 2.543 2.268zM28 29.5c0 0.271-0.229 0.5-0.5 0.5h-23c-0.271 0-0.5-0.229-0.5-0.5v-27c0-0.271 0.229-0.5 0.5-0.5 0 0 15.499-0 15.5 0v7c0 0.552 0.448 1 1 1h7v19.5z\"></path>\n",
       "<path d=\"M23 26h-14c-0.552 0-1-0.448-1-1s0.448-1 1-1h14c0.552 0 1 0.448 1 1s-0.448 1-1 1z\"></path>\n",
       "<path d=\"M23 22h-14c-0.552 0-1-0.448-1-1s0.448-1 1-1h14c0.552 0 1 0.448 1 1s-0.448 1-1 1z\"></path>\n",
       "<path d=\"M23 18h-14c-0.552 0-1-0.448-1-1s0.448-1 1-1h14c0.552 0 1 0.448 1 1s-0.448 1-1 1z\"></path>\n",
       "</symbol>\n",
       "</defs>\n",
       "</svg>\n",
       "<style>/* CSS stylesheet for displaying xarray objects in jupyterlab.\n",
       " *\n",
       " */\n",
       "\n",
       ":root {\n",
       "  --xr-font-color0: var(--jp-content-font-color0, rgba(0, 0, 0, 1));\n",
       "  --xr-font-color2: var(--jp-content-font-color2, rgba(0, 0, 0, 0.54));\n",
       "  --xr-font-color3: var(--jp-content-font-color3, rgba(0, 0, 0, 0.38));\n",
       "  --xr-border-color: var(--jp-border-color2, #e0e0e0);\n",
       "  --xr-disabled-color: var(--jp-layout-color3, #bdbdbd);\n",
       "  --xr-background-color: var(--jp-layout-color0, white);\n",
       "  --xr-background-color-row-even: var(--jp-layout-color1, white);\n",
       "  --xr-background-color-row-odd: var(--jp-layout-color2, #eeeeee);\n",
       "}\n",
       "\n",
       "html[theme=dark],\n",
       "body[data-theme=dark],\n",
       "body.vscode-dark {\n",
       "  --xr-font-color0: rgba(255, 255, 255, 1);\n",
       "  --xr-font-color2: rgba(255, 255, 255, 0.54);\n",
       "  --xr-font-color3: rgba(255, 255, 255, 0.38);\n",
       "  --xr-border-color: #1F1F1F;\n",
       "  --xr-disabled-color: #515151;\n",
       "  --xr-background-color: #111111;\n",
       "  --xr-background-color-row-even: #111111;\n",
       "  --xr-background-color-row-odd: #313131;\n",
       "}\n",
       "\n",
       ".xr-wrap {\n",
       "  display: block !important;\n",
       "  min-width: 300px;\n",
       "  max-width: 700px;\n",
       "}\n",
       "\n",
       ".xr-text-repr-fallback {\n",
       "  /* fallback to plain text repr when CSS is not injected (untrusted notebook) */\n",
       "  display: none;\n",
       "}\n",
       "\n",
       ".xr-header {\n",
       "  padding-top: 6px;\n",
       "  padding-bottom: 6px;\n",
       "  margin-bottom: 4px;\n",
       "  border-bottom: solid 1px var(--xr-border-color);\n",
       "}\n",
       "\n",
       ".xr-header > div,\n",
       ".xr-header > ul {\n",
       "  display: inline;\n",
       "  margin-top: 0;\n",
       "  margin-bottom: 0;\n",
       "}\n",
       "\n",
       ".xr-obj-type,\n",
       ".xr-array-name {\n",
       "  margin-left: 2px;\n",
       "  margin-right: 10px;\n",
       "}\n",
       "\n",
       ".xr-obj-type {\n",
       "  color: var(--xr-font-color2);\n",
       "}\n",
       "\n",
       ".xr-sections {\n",
       "  padding-left: 0 !important;\n",
       "  display: grid;\n",
       "  grid-template-columns: 150px auto auto 1fr 20px 20px;\n",
       "}\n",
       "\n",
       ".xr-section-item {\n",
       "  display: contents;\n",
       "}\n",
       "\n",
       ".xr-section-item input {\n",
       "  display: none;\n",
       "}\n",
       "\n",
       ".xr-section-item input + label {\n",
       "  color: var(--xr-disabled-color);\n",
       "}\n",
       "\n",
       ".xr-section-item input:enabled + label {\n",
       "  cursor: pointer;\n",
       "  color: var(--xr-font-color2);\n",
       "}\n",
       "\n",
       ".xr-section-item input:enabled + label:hover {\n",
       "  color: var(--xr-font-color0);\n",
       "}\n",
       "\n",
       ".xr-section-summary {\n",
       "  grid-column: 1;\n",
       "  color: var(--xr-font-color2);\n",
       "  font-weight: 500;\n",
       "}\n",
       "\n",
       ".xr-section-summary > span {\n",
       "  display: inline-block;\n",
       "  padding-left: 0.5em;\n",
       "}\n",
       "\n",
       ".xr-section-summary-in:disabled + label {\n",
       "  color: var(--xr-font-color2);\n",
       "}\n",
       "\n",
       ".xr-section-summary-in + label:before {\n",
       "  display: inline-block;\n",
       "  content: '►';\n",
       "  font-size: 11px;\n",
       "  width: 15px;\n",
       "  text-align: center;\n",
       "}\n",
       "\n",
       ".xr-section-summary-in:disabled + label:before {\n",
       "  color: var(--xr-disabled-color);\n",
       "}\n",
       "\n",
       ".xr-section-summary-in:checked + label:before {\n",
       "  content: '▼';\n",
       "}\n",
       "\n",
       ".xr-section-summary-in:checked + label > span {\n",
       "  display: none;\n",
       "}\n",
       "\n",
       ".xr-section-summary,\n",
       ".xr-section-inline-details {\n",
       "  padding-top: 4px;\n",
       "  padding-bottom: 4px;\n",
       "}\n",
       "\n",
       ".xr-section-inline-details {\n",
       "  grid-column: 2 / -1;\n",
       "}\n",
       "\n",
       ".xr-section-details {\n",
       "  display: none;\n",
       "  grid-column: 1 / -1;\n",
       "  margin-bottom: 5px;\n",
       "}\n",
       "\n",
       ".xr-section-summary-in:checked ~ .xr-section-details {\n",
       "  display: contents;\n",
       "}\n",
       "\n",
       ".xr-array-wrap {\n",
       "  grid-column: 1 / -1;\n",
       "  display: grid;\n",
       "  grid-template-columns: 20px auto;\n",
       "}\n",
       "\n",
       ".xr-array-wrap > label {\n",
       "  grid-column: 1;\n",
       "  vertical-align: top;\n",
       "}\n",
       "\n",
       ".xr-preview {\n",
       "  color: var(--xr-font-color3);\n",
       "}\n",
       "\n",
       ".xr-array-preview,\n",
       ".xr-array-data {\n",
       "  padding: 0 5px !important;\n",
       "  grid-column: 2;\n",
       "}\n",
       "\n",
       ".xr-array-data,\n",
       ".xr-array-in:checked ~ .xr-array-preview {\n",
       "  display: none;\n",
       "}\n",
       "\n",
       ".xr-array-in:checked ~ .xr-array-data,\n",
       ".xr-array-preview {\n",
       "  display: inline-block;\n",
       "}\n",
       "\n",
       ".xr-dim-list {\n",
       "  display: inline-block !important;\n",
       "  list-style: none;\n",
       "  padding: 0 !important;\n",
       "  margin: 0;\n",
       "}\n",
       "\n",
       ".xr-dim-list li {\n",
       "  display: inline-block;\n",
       "  padding: 0;\n",
       "  margin: 0;\n",
       "}\n",
       "\n",
       ".xr-dim-list:before {\n",
       "  content: '(';\n",
       "}\n",
       "\n",
       ".xr-dim-list:after {\n",
       "  content: ')';\n",
       "}\n",
       "\n",
       ".xr-dim-list li:not(:last-child):after {\n",
       "  content: ',';\n",
       "  padding-right: 5px;\n",
       "}\n",
       "\n",
       ".xr-has-index {\n",
       "  font-weight: bold;\n",
       "}\n",
       "\n",
       ".xr-var-list,\n",
       ".xr-var-item {\n",
       "  display: contents;\n",
       "}\n",
       "\n",
       ".xr-var-item > div,\n",
       ".xr-var-item label,\n",
       ".xr-var-item > .xr-var-name span {\n",
       "  background-color: var(--xr-background-color-row-even);\n",
       "  margin-bottom: 0;\n",
       "}\n",
       "\n",
       ".xr-var-item > .xr-var-name:hover span {\n",
       "  padding-right: 5px;\n",
       "}\n",
       "\n",
       ".xr-var-list > li:nth-child(odd) > div,\n",
       ".xr-var-list > li:nth-child(odd) > label,\n",
       ".xr-var-list > li:nth-child(odd) > .xr-var-name span {\n",
       "  background-color: var(--xr-background-color-row-odd);\n",
       "}\n",
       "\n",
       ".xr-var-name {\n",
       "  grid-column: 1;\n",
       "}\n",
       "\n",
       ".xr-var-dims {\n",
       "  grid-column: 2;\n",
       "}\n",
       "\n",
       ".xr-var-dtype {\n",
       "  grid-column: 3;\n",
       "  text-align: right;\n",
       "  color: var(--xr-font-color2);\n",
       "}\n",
       "\n",
       ".xr-var-preview {\n",
       "  grid-column: 4;\n",
       "}\n",
       "\n",
       ".xr-index-preview {\n",
       "  grid-column: 2 / 5;\n",
       "  color: var(--xr-font-color2);\n",
       "}\n",
       "\n",
       ".xr-var-name,\n",
       ".xr-var-dims,\n",
       ".xr-var-dtype,\n",
       ".xr-preview,\n",
       ".xr-attrs dt {\n",
       "  white-space: nowrap;\n",
       "  overflow: hidden;\n",
       "  text-overflow: ellipsis;\n",
       "  padding-right: 10px;\n",
       "}\n",
       "\n",
       ".xr-var-name:hover,\n",
       ".xr-var-dims:hover,\n",
       ".xr-var-dtype:hover,\n",
       ".xr-attrs dt:hover {\n",
       "  overflow: visible;\n",
       "  width: auto;\n",
       "  z-index: 1;\n",
       "}\n",
       "\n",
       ".xr-var-attrs,\n",
       ".xr-var-data,\n",
       ".xr-index-data {\n",
       "  display: none;\n",
       "  background-color: var(--xr-background-color) !important;\n",
       "  padding-bottom: 5px !important;\n",
       "}\n",
       "\n",
       ".xr-var-attrs-in:checked ~ .xr-var-attrs,\n",
       ".xr-var-data-in:checked ~ .xr-var-data,\n",
       ".xr-index-data-in:checked ~ .xr-index-data {\n",
       "  display: block;\n",
       "}\n",
       "\n",
       ".xr-var-data > table {\n",
       "  float: right;\n",
       "}\n",
       "\n",
       ".xr-var-name span,\n",
       ".xr-var-data,\n",
       ".xr-index-name div,\n",
       ".xr-index-data,\n",
       ".xr-attrs {\n",
       "  padding-left: 25px !important;\n",
       "}\n",
       "\n",
       ".xr-attrs,\n",
       ".xr-var-attrs,\n",
       ".xr-var-data,\n",
       ".xr-index-data {\n",
       "  grid-column: 1 / -1;\n",
       "}\n",
       "\n",
       "dl.xr-attrs {\n",
       "  padding: 0;\n",
       "  margin: 0;\n",
       "  display: grid;\n",
       "  grid-template-columns: 125px auto;\n",
       "}\n",
       "\n",
       ".xr-attrs dt,\n",
       ".xr-attrs dd {\n",
       "  padding: 0;\n",
       "  margin: 0;\n",
       "  float: left;\n",
       "  padding-right: 10px;\n",
       "  width: auto;\n",
       "}\n",
       "\n",
       ".xr-attrs dt {\n",
       "  font-weight: normal;\n",
       "  grid-column: 1;\n",
       "}\n",
       "\n",
       ".xr-attrs dt:hover span {\n",
       "  display: inline-block;\n",
       "  background: var(--xr-background-color);\n",
       "  padding-right: 10px;\n",
       "}\n",
       "\n",
       ".xr-attrs dd {\n",
       "  grid-column: 2;\n",
       "  white-space: pre-wrap;\n",
       "  word-break: break-all;\n",
       "}\n",
       "\n",
       ".xr-icon-database,\n",
       ".xr-icon-file-text2,\n",
       ".xr-no-icon {\n",
       "  display: inline-block;\n",
       "  vertical-align: middle;\n",
       "  width: 1em;\n",
       "  height: 1.5em !important;\n",
       "  stroke-width: 0;\n",
       "  stroke: currentColor;\n",
       "  fill: currentColor;\n",
       "}\n",
       "</style><pre class='xr-text-repr-fallback'>&lt;xarray.Dataset&gt;\n",
       "Dimensions:   (obs: 2500, t: 25, y: 80, x: 80)\n",
       "Coordinates:\n",
       "  * obs       (obs) int64 1 2 3 4 5 6 7 9 ... 2898 2899 2900 2904 2905 2907 2908\n",
       "    lat       (obs, t, y) float64 ...\n",
       "    lon       (obs, t, x) float64 ...\n",
       "    time      (obs, t) datetime64[ns] ...\n",
       "    obs_time  (obs) datetime64[ns] ...\n",
       "    obs_lat   (obs) float64 ...\n",
       "    obs_lon   (obs) float64 ...\n",
       "Dimensions without coordinates: t, y, x\n",
       "Data variables:\n",
       "    e5_tauu   (obs, t, y, x) float32 ...\n",
       "    e5_tauv   (obs, t, y, x) float32 ...\n",
       "    es_tauu   (obs, t, y, x) float32 ...\n",
       "    es_tauv   (obs, t, y, x) float32 ...\n",
       "Attributes: (12/55)\n",
       "    Conventions:                 CF-1.7, ACDD-1.3, ISO 8601\n",
       "    Metadata_Conventions:        Climate and Forecast (CF) 1.7, Attribute Con...\n",
       "    acknowledgement:             Please acknowledge the use of these data wit...\n",
       "    band:                        C, C, Ku\n",
       "    cdm_data_type:               grid\n",
       "    comment:                     These data were produced at ICM/CSIC as part...\n",
       "    ...                          ...\n",
       "    summary:                     This data set contains the stress equivalent...\n",
       "    technical_support_contact:   cersat@ifremer.fr\n",
       "    time_coverage_end:           20180101T00:00:00\n",
       "    time_coverage_start:         20180101T00:00:00\n",
       "    title:                       hourly stress equivalent model wind componen...\n",
       "    track_id:                    5c0cb21b-ddb0-4e35-b5cf-c6acfd73fd6d</pre><div class='xr-wrap' style='display:none'><div class='xr-header'><div class='xr-obj-type'>xarray.Dataset</div></div><ul class='xr-sections'><li class='xr-section-item'><input id='section-8e47c7e4-ef84-41ac-ab72-b0667d0a9c3d' class='xr-section-summary-in' type='checkbox' disabled ><label for='section-8e47c7e4-ef84-41ac-ab72-b0667d0a9c3d' class='xr-section-summary'  title='Expand/collapse section'>Dimensions:</label><div class='xr-section-inline-details'><ul class='xr-dim-list'><li><span class='xr-has-index'>obs</span>: 2500</li><li><span>t</span>: 25</li><li><span>y</span>: 80</li><li><span>x</span>: 80</li></ul></div><div class='xr-section-details'></div></li><li class='xr-section-item'><input id='section-be915d0e-246e-4b29-be07-8b1e7be3c3b3' class='xr-section-summary-in' type='checkbox'  checked><label for='section-be915d0e-246e-4b29-be07-8b1e7be3c3b3' class='xr-section-summary' >Coordinates: <span>(7)</span></label><div class='xr-section-inline-details'></div><div class='xr-section-details'><ul class='xr-var-list'><li class='xr-var-item'><div class='xr-var-name'><span class='xr-has-index'>obs</span></div><div class='xr-var-dims'>(obs)</div><div class='xr-var-dtype'>int64</div><div class='xr-var-preview xr-preview'>1 2 3 4 5 ... 2904 2905 2907 2908</div><input id='attrs-8a00027d-e35d-42cb-906e-57ac46253114' class='xr-var-attrs-in' type='checkbox' disabled><label for='attrs-8a00027d-e35d-42cb-906e-57ac46253114' title='Show/Hide attributes'><svg class='icon xr-icon-file-text2'><use xlink:href='#icon-file-text2'></use></svg></label><input id='data-556ebef4-d012-4afc-ae6d-0dc0c57082fc' class='xr-var-data-in' type='checkbox'><label for='data-556ebef4-d012-4afc-ae6d-0dc0c57082fc' title='Show/Hide data repr'><svg class='icon xr-icon-database'><use xlink:href='#icon-database'></use></svg></label><div class='xr-var-attrs'><dl class='xr-attrs'></dl></div><div class='xr-var-data'><pre>array([   1,    2,    3, ..., 2905, 2907, 2908])</pre></div></li><li class='xr-var-item'><div class='xr-var-name'><span>lat</span></div><div class='xr-var-dims'>(obs, t, y)</div><div class='xr-var-dtype'>float64</div><div class='xr-var-preview xr-preview'>...</div><input id='attrs-dce44cb2-0391-4b0c-ae82-5c1ad7d7958c' class='xr-var-attrs-in' type='checkbox' ><label for='attrs-dce44cb2-0391-4b0c-ae82-5c1ad7d7958c' title='Show/Hide attributes'><svg class='icon xr-icon-file-text2'><use xlink:href='#icon-file-text2'></use></svg></label><input id='data-cd1a8982-5284-496d-b9e6-f6be2f0944ee' class='xr-var-data-in' type='checkbox'><label for='data-cd1a8982-5284-496d-b9e6-f6be2f0944ee' title='Show/Hide data repr'><svg class='icon xr-icon-database'><use xlink:href='#icon-database'></use></svg></label><div class='xr-var-attrs'><dl class='xr-attrs'><dt><span>long_name :</span></dt><dd>latitude</dd><dt><span>standard_name :</span></dt><dd>latitude</dd><dt><span>units :</span></dt><dd>degrees_north</dd></dl></div><div class='xr-var-data'><pre>[5000000 values with dtype=float64]</pre></div></li><li class='xr-var-item'><div class='xr-var-name'><span>lon</span></div><div class='xr-var-dims'>(obs, t, x)</div><div class='xr-var-dtype'>float64</div><div class='xr-var-preview xr-preview'>...</div><input id='attrs-fb5fbb3b-fe9b-4ebf-a7fb-f182c78b6351' class='xr-var-attrs-in' type='checkbox' ><label for='attrs-fb5fbb3b-fe9b-4ebf-a7fb-f182c78b6351' title='Show/Hide attributes'><svg class='icon xr-icon-file-text2'><use xlink:href='#icon-file-text2'></use></svg></label><input id='data-01acb6aa-39af-4440-a944-3dd3de61cbcc' class='xr-var-data-in' type='checkbox'><label for='data-01acb6aa-39af-4440-a944-3dd3de61cbcc' title='Show/Hide data repr'><svg class='icon xr-icon-database'><use xlink:href='#icon-database'></use></svg></label><div class='xr-var-attrs'><dl class='xr-attrs'><dt><span>long_name :</span></dt><dd>longitude</dd><dt><span>standard_name :</span></dt><dd>longitude</dd><dt><span>units :</span></dt><dd>degrees_east</dd></dl></div><div class='xr-var-data'><pre>[5000000 values with dtype=float64]</pre></div></li><li class='xr-var-item'><div class='xr-var-name'><span>time</span></div><div class='xr-var-dims'>(obs, t)</div><div class='xr-var-dtype'>datetime64[ns]</div><div class='xr-var-preview xr-preview'>...</div><input id='attrs-8a07549f-fb2c-4b09-8123-bea2a214130a' class='xr-var-attrs-in' type='checkbox' ><label for='attrs-8a07549f-fb2c-4b09-8123-bea2a214130a' title='Show/Hide attributes'><svg class='icon xr-icon-file-text2'><use xlink:href='#icon-file-text2'></use></svg></label><input id='data-27155a9e-19e9-4d19-895b-1791ea0713fd' class='xr-var-data-in' type='checkbox'><label for='data-27155a9e-19e9-4d19-895b-1791ea0713fd' title='Show/Hide data repr'><svg class='icon xr-icon-database'><use xlink:href='#icon-database'></use></svg></label><div class='xr-var-attrs'><dl class='xr-attrs'><dt><span>long_name :</span></dt><dd>time</dd><dt><span>standard_name :</span></dt><dd>time</dd></dl></div><div class='xr-var-data'><pre>[62500 values with dtype=datetime64[ns]]</pre></div></li><li class='xr-var-item'><div class='xr-var-name'><span>obs_time</span></div><div class='xr-var-dims'>(obs)</div><div class='xr-var-dtype'>datetime64[ns]</div><div class='xr-var-preview xr-preview'>...</div><input id='attrs-c9930606-b9a6-417b-a472-acdf7f90e429' class='xr-var-attrs-in' type='checkbox' ><label for='attrs-c9930606-b9a6-417b-a472-acdf7f90e429' title='Show/Hide attributes'><svg class='icon xr-icon-file-text2'><use xlink:href='#icon-file-text2'></use></svg></label><input id='data-286bd3ba-62fc-413f-888d-a83956776c71' class='xr-var-data-in' type='checkbox'><label for='data-286bd3ba-62fc-413f-888d-a83956776c71' title='Show/Hide data repr'><svg class='icon xr-icon-database'><use xlink:href='#icon-database'></use></svg></label><div class='xr-var-attrs'><dl class='xr-attrs'><dt><span>long_name :</span></dt><dd>time of the nearest site data</dd><dt><span>standard_name :</span></dt><dd>time</dd></dl></div><div class='xr-var-data'><pre>[2500 values with dtype=datetime64[ns]]</pre></div></li><li class='xr-var-item'><div class='xr-var-name'><span>obs_lat</span></div><div class='xr-var-dims'>(obs)</div><div class='xr-var-dtype'>float64</div><div class='xr-var-preview xr-preview'>...</div><input id='attrs-d9203a7b-641a-49c5-9171-22dadefd45c5' class='xr-var-attrs-in' type='checkbox' ><label for='attrs-d9203a7b-641a-49c5-9171-22dadefd45c5' title='Show/Hide attributes'><svg class='icon xr-icon-file-text2'><use xlink:href='#icon-file-text2'></use></svg></label><input id='data-868daf31-b696-40de-902f-3c4984112ee4' class='xr-var-data-in' type='checkbox'><label for='data-868daf31-b696-40de-902f-3c4984112ee4' title='Show/Hide data repr'><svg class='icon xr-icon-database'><use xlink:href='#icon-database'></use></svg></label><div class='xr-var-attrs'><dl class='xr-attrs'><dt><span>long_name :</span></dt><dd>latitude of the nearest site data</dd><dt><span>standard_name :</span></dt><dd>latitude</dd></dl></div><div class='xr-var-data'><pre>[2500 values with dtype=float64]</pre></div></li><li class='xr-var-item'><div class='xr-var-name'><span>obs_lon</span></div><div class='xr-var-dims'>(obs)</div><div class='xr-var-dtype'>float64</div><div class='xr-var-preview xr-preview'>...</div><input id='attrs-540f956a-7394-4255-ba1d-c77332a2a067' class='xr-var-attrs-in' type='checkbox' ><label for='attrs-540f956a-7394-4255-ba1d-c77332a2a067' title='Show/Hide attributes'><svg class='icon xr-icon-file-text2'><use xlink:href='#icon-file-text2'></use></svg></label><input id='data-1f8232a1-700b-4e4b-bb0a-25cd9f9fd534' class='xr-var-data-in' type='checkbox'><label for='data-1f8232a1-700b-4e4b-bb0a-25cd9f9fd534' title='Show/Hide data repr'><svg class='icon xr-icon-database'><use xlink:href='#icon-database'></use></svg></label><div class='xr-var-attrs'><dl class='xr-attrs'><dt><span>long_name :</span></dt><dd>longitude of the nearest site data</dd><dt><span>standard_name :</span></dt><dd>longitude</dd></dl></div><div class='xr-var-data'><pre>[2500 values with dtype=float64]</pre></div></li></ul></div></li><li class='xr-section-item'><input id='section-8850a827-e5bd-46ba-8842-677062933c4b' class='xr-section-summary-in' type='checkbox'  checked><label for='section-8850a827-e5bd-46ba-8842-677062933c4b' class='xr-section-summary' >Data variables: <span>(4)</span></label><div class='xr-section-inline-details'></div><div class='xr-section-details'><ul class='xr-var-list'><li class='xr-var-item'><div class='xr-var-name'><span>e5_tauu</span></div><div class='xr-var-dims'>(obs, t, y, x)</div><div class='xr-var-dtype'>float32</div><div class='xr-var-preview xr-preview'>...</div><input id='attrs-c72587f4-d6ba-41b4-acf9-1edd915ef942' class='xr-var-attrs-in' type='checkbox' ><label for='attrs-c72587f4-d6ba-41b4-acf9-1edd915ef942' title='Show/Hide attributes'><svg class='icon xr-icon-file-text2'><use xlink:href='#icon-file-text2'></use></svg></label><input id='data-f5e41a9c-ff36-4820-92dc-6c6c8c3365d4' class='xr-var-data-in' type='checkbox'><label for='data-f5e41a9c-ff36-4820-92dc-6c6c8c3365d4' title='Show/Hide data repr'><svg class='icon xr-icon-database'><use xlink:href='#icon-database'></use></svg></label><div class='xr-var-attrs'><dl class='xr-attrs'><dt><span>long_name :</span></dt><dd>era5 eastward wind stress</dd><dt><span>standard_name :</span></dt><dd>surface_downward_eastward_stress</dd><dt><span>units :</span></dt><dd>Pa</dd></dl></div><div class='xr-var-data'><pre>[400000000 values with dtype=float32]</pre></div></li><li class='xr-var-item'><div class='xr-var-name'><span>e5_tauv</span></div><div class='xr-var-dims'>(obs, t, y, x)</div><div class='xr-var-dtype'>float32</div><div class='xr-var-preview xr-preview'>...</div><input id='attrs-5aee8751-6afe-49c5-989b-e03636810fb5' class='xr-var-attrs-in' type='checkbox' ><label for='attrs-5aee8751-6afe-49c5-989b-e03636810fb5' title='Show/Hide attributes'><svg class='icon xr-icon-file-text2'><use xlink:href='#icon-file-text2'></use></svg></label><input id='data-c5b11334-79c6-4d32-ac5e-53bd7ab845cf' class='xr-var-data-in' type='checkbox'><label for='data-c5b11334-79c6-4d32-ac5e-53bd7ab845cf' title='Show/Hide data repr'><svg class='icon xr-icon-database'><use xlink:href='#icon-database'></use></svg></label><div class='xr-var-attrs'><dl class='xr-attrs'><dt><span>long_name :</span></dt><dd>era5 nowthward wind stress</dd><dt><span>standard_name :</span></dt><dd>surface_downward_northward_stress</dd><dt><span>units :</span></dt><dd>Pa</dd></dl></div><div class='xr-var-data'><pre>[400000000 values with dtype=float32]</pre></div></li><li class='xr-var-item'><div class='xr-var-name'><span>es_tauu</span></div><div class='xr-var-dims'>(obs, t, y, x)</div><div class='xr-var-dtype'>float32</div><div class='xr-var-preview xr-preview'>...</div><input id='attrs-5f071554-452c-4516-82ea-88da3e490e0c' class='xr-var-attrs-in' type='checkbox' ><label for='attrs-5f071554-452c-4516-82ea-88da3e490e0c' title='Show/Hide attributes'><svg class='icon xr-icon-file-text2'><use xlink:href='#icon-file-text2'></use></svg></label><input id='data-5ad4adef-28e0-46f1-872e-37b85519a69a' class='xr-var-data-in' type='checkbox'><label for='data-5ad4adef-28e0-46f1-872e-37b85519a69a' title='Show/Hide data repr'><svg class='icon xr-icon-database'><use xlink:href='#icon-database'></use></svg></label><div class='xr-var-attrs'><dl class='xr-attrs'><dt><span>long_name :</span></dt><dd>erastar eastward wind stress</dd><dt><span>standard_name :</span></dt><dd>surface_downward_eastward_stress</dd><dt><span>units :</span></dt><dd>Pa</dd></dl></div><div class='xr-var-data'><pre>[400000000 values with dtype=float32]</pre></div></li><li class='xr-var-item'><div class='xr-var-name'><span>es_tauv</span></div><div class='xr-var-dims'>(obs, t, y, x)</div><div class='xr-var-dtype'>float32</div><div class='xr-var-preview xr-preview'>...</div><input id='attrs-f238db12-6009-4410-8899-6e5bc3ab00e0' class='xr-var-attrs-in' type='checkbox' ><label for='attrs-f238db12-6009-4410-8899-6e5bc3ab00e0' title='Show/Hide attributes'><svg class='icon xr-icon-file-text2'><use xlink:href='#icon-file-text2'></use></svg></label><input id='data-a1486ec3-dd53-4868-8361-7e72a498f42d' class='xr-var-data-in' type='checkbox'><label for='data-a1486ec3-dd53-4868-8361-7e72a498f42d' title='Show/Hide data repr'><svg class='icon xr-icon-database'><use xlink:href='#icon-database'></use></svg></label><div class='xr-var-attrs'><dl class='xr-attrs'><dt><span>long_name :</span></dt><dd>erastar nowthward wind stress</dd><dt><span>standard_name :</span></dt><dd>surface_downward_northward_stress</dd><dt><span>units :</span></dt><dd>Pa</dd></dl></div><div class='xr-var-data'><pre>[400000000 values with dtype=float32]</pre></div></li></ul></div></li><li class='xr-section-item'><input id='section-e93f56e8-4cf8-4a09-8651-5ed61274b8b1' class='xr-section-summary-in' type='checkbox'  ><label for='section-e93f56e8-4cf8-4a09-8651-5ed61274b8b1' class='xr-section-summary' >Indexes: <span>(1)</span></label><div class='xr-section-inline-details'></div><div class='xr-section-details'><ul class='xr-var-list'><li class='xr-var-item'><div class='xr-index-name'><div>obs</div></div><div class='xr-index-preview'>PandasIndex</div><div></div><input id='index-84047b73-d135-476a-a7de-22b7b1188d29' class='xr-index-data-in' type='checkbox'/><label for='index-84047b73-d135-476a-a7de-22b7b1188d29' title='Show/Hide index repr'><svg class='icon xr-icon-database'><use xlink:href='#icon-database'></use></svg></label><div class='xr-index-data'><pre>PandasIndex(Index([   1,    2,    3,    4,    5,    6,    7,    9,   10,   11,\n",
       "       ...\n",
       "       2894, 2895, 2896, 2898, 2899, 2900, 2904, 2905, 2907, 2908],\n",
       "      dtype=&#x27;int64&#x27;, name=&#x27;obs&#x27;, length=2500))</pre></div></li></ul></div></li><li class='xr-section-item'><input id='section-18c7e533-23ce-429c-9802-fc2c3e98739d' class='xr-section-summary-in' type='checkbox'  ><label for='section-18c7e533-23ce-429c-9802-fc2c3e98739d' class='xr-section-summary' >Attributes: <span>(55)</span></label><div class='xr-section-inline-details'></div><div class='xr-section-details'><dl class='xr-attrs'><dt><span>Conventions :</span></dt><dd>CF-1.7, ACDD-1.3, ISO 8601</dd><dt><span>Metadata_Conventions :</span></dt><dd>Climate and Forecast (CF) 1.7, Attribute Convention for Data Discovery (ACDD) 1.3</dd><dt><span>acknowledgement :</span></dt><dd>Please acknowledge the use of these data with the following statement: these data were obtained from the ESA WOC project</dd><dt><span>band :</span></dt><dd>C, C, Ku</dd><dt><span>cdm_data_type :</span></dt><dd>grid</dd><dt><span>comment :</span></dt><dd>These data were produced at ICM/CSIC as part of the ESA WOC project</dd><dt><span>creator_email :</span></dt><dd>makarova@icm.csic.es</dd><dt><span>creator_institution :</span></dt><dd>ICM/CSIC</dd><dt><span>creator_name :</span></dt><dd>Eugenia Makarova</dd><dt><span>creator_url :</span></dt><dd>https://www.icm.csic.es/</dd><dt><span>date_created :</span></dt><dd>2022-04-02T12:32:10</dd><dt><span>date_modified :</span></dt><dd>2022-04-02T12:32:10</dd><dt><span>format_version :</span></dt><dd>WOС v1.0</dd><dt><span>geospatial_lat_max :</span></dt><dd>90</dd><dt><span>geospatial_lat_min :</span></dt><dd>-90</dd><dt><span>geospatial_lat_units :</span></dt><dd>degree_north</dd><dt><span>geospatial_lon_max :</span></dt><dd>179.9375</dd><dt><span>geospatial_lon_min :</span></dt><dd>-179.9375</dd><dt><span>geospatial_lon_units :</span></dt><dd>degree_east</dd><dt><span>id :</span></dt><dd>WOC-L4-SE-ERAstar-H</dd><dt><span>input :</span></dt><dd>nwp_20171231_18_06_125.grib</dd><dt><span>institution :</span></dt><dd>Institut de Ciencies del Mar</dd><dt><span>institution_abreviation :</span></dt><dd>ICM</dd><dt><span>instrument :</span></dt><dd>ASCAT, ASCAT, OSCAT2</dd><dt><span>instrument_type :</span></dt><dd>scatterometer, scatterometer, scatterometer</dd><dt><span>instrument_vocabulary :</span></dt><dd>CEOS</dd><dt><span>key_variable :</span></dt><dd>es_u10s, es_v10s, es_tauu, es_tauv, e5_u10s, e5_v10s, e5_tauu, e5_tauv, count, quality_flag</dd><dt><span>keywords :</span></dt><dd>Earth Science &gt; Oceans &gt; Ocean Winds &gt; Surface &gt; Winds &gt; Wind Stress</dd><dt><span>keywords_vocabulary :</span></dt><dd>NASA Global Change Master Directory (GCMD) Science Keywords</dd><dt><span>licence :</span></dt><dd>ESA WOC Data Policy: free and open access</dd><dt><span>naming_authority :</span></dt><dd>http://cersat.ifremer.fr</dd><dt><span>netcdf_version_id :</span></dt><dd>4.8.1</dd><dt><span>platform :</span></dt><dd>Metop-A, Metop-B, ScatSat-1</dd><dt><span>platform_type :</span></dt><dd>low earth orbit satellite, low earth orbit satellite, low earth orbit satellite</dd><dt><span>platform_vocabulary :</span></dt><dd>CEOS</dd><dt><span>processing_level :</span></dt><dd>L4</dd><dt><span>processing_software :</span></dt><dd>ERA5star</dd><dt><span>product_version :</span></dt><dd>2.0</dd><dt><span>project :</span></dt><dd>World Ocean Circulation (WOC) - European Space Agency</dd><dt><span>publisher_email :</span></dt><dd>cersat@ifremer.fr</dd><dt><span>publisher_institution :</span></dt><dd>Ifremer / Cersat</dd><dt><span>publisher_name :</span></dt><dd>Cersat</dd><dt><span>publisher_url :</span></dt><dd>cersat.ifremer.fr</dd><dt><span>references :</span></dt><dd>doi:10.1109/TGRS.2019.2946019</dd><dt><span>scientific_support_contact :</span></dt><dd>portabella@icm.csic.es</dd><dt><span>source :</span></dt><dd>erastar</dd><dt><span>source_version :</span></dt><dd>1.0</dd><dt><span>spatial_resolution :</span></dt><dd>0.125 degree</dd><dt><span>standard_name_vocabulary :</span></dt><dd>NetCDF Climate and Forecast (CF) Metadata Convention version 1.8</dd><dt><span>summary :</span></dt><dd>This data set contains the stress equivalent wind vector component from ERA* generated with the ERA5 output from ECMWF converted to U10S and corrected using several scaterometer sources</dd><dt><span>technical_support_contact :</span></dt><dd>cersat@ifremer.fr</dd><dt><span>time_coverage_end :</span></dt><dd>20180101T00:00:00</dd><dt><span>time_coverage_start :</span></dt><dd>20180101T00:00:00</dd><dt><span>title :</span></dt><dd>hourly stress equivalent model wind components at 10-m from ERA* for ESA WOC project</dd><dt><span>track_id :</span></dt><dd>5c0cb21b-ddb0-4e35-b5cf-c6acfd73fd6d</dd></dl></div></li></ul></div></div>"
      ],
      "text/plain": [
       "<xarray.Dataset>\n",
       "Dimensions:   (obs: 2500, t: 25, y: 80, x: 80)\n",
       "Coordinates:\n",
       "  * obs       (obs) int64 1 2 3 4 5 6 7 9 ... 2898 2899 2900 2904 2905 2907 2908\n",
       "    lat       (obs, t, y) float64 ...\n",
       "    lon       (obs, t, x) float64 ...\n",
       "    time      (obs, t) datetime64[ns] ...\n",
       "    obs_time  (obs) datetime64[ns] ...\n",
       "    obs_lat   (obs) float64 ...\n",
       "    obs_lon   (obs) float64 ...\n",
       "Dimensions without coordinates: t, y, x\n",
       "Data variables:\n",
       "    e5_tauu   (obs, t, y, x) float32 ...\n",
       "    e5_tauv   (obs, t, y, x) float32 ...\n",
       "    es_tauu   (obs, t, y, x) float32 ...\n",
       "    es_tauv   (obs, t, y, x) float32 ...\n",
       "Attributes: (12/55)\n",
       "    Conventions:                 CF-1.7, ACDD-1.3, ISO 8601\n",
       "    Metadata_Conventions:        Climate and Forecast (CF) 1.7, Attribute Con...\n",
       "    acknowledgement:             Please acknowledge the use of these data wit...\n",
       "    band:                        C, C, Ku\n",
       "    cdm_data_type:               grid\n",
       "    comment:                     These data were produced at ICM/CSIC as part...\n",
       "    ...                          ...\n",
       "    summary:                     This data set contains the stress equivalent...\n",
       "    technical_support_contact:   cersat@ifremer.fr\n",
       "    time_coverage_end:           20180101T00:00:00\n",
       "    time_coverage_start:         20180101T00:00:00\n",
       "    title:                       hourly stress equivalent model wind componen...\n",
       "    track_id:                    5c0cb21b-ddb0-4e35-b5cf-c6acfd73fd6d"
      ]
     },
     "execution_count": 20,
     "metadata": {},
     "output_type": "execute_result"
    }
   ],
   "source": [
    "res"
   ]
  },
  {
   "cell_type": "code",
   "execution_count": 21,
   "id": "da72cdd6",
   "metadata": {},
   "outputs": [
    {
     "data": {
      "text/plain": [
       "<matplotlib.collections.QuadMesh at 0x2aac185dff10>"
      ]
     },
     "execution_count": 21,
     "metadata": {},
     "output_type": "execute_result"
    },
    {
     "data": {
      "image/png": "[encoded data removed]",
      "text/plain": [
       "<Figure size 640x480 with 2 Axes>"
      ]
     },
     "metadata": {},
     "output_type": "display_data"
    }
   ],
   "source": [
    "n_obs = 50\n",
    "n_hour = 0\n",
    "obs = res.isel(obs=n_obs)\n",
    "obs.isel(t=n_hour).e5_tauv.plot()"
   ]
  },
  {
   "cell_type": "code",
   "execution_count": 22,
   "id": "3fd84d30",
   "metadata": {},
   "outputs": [
    {
     "data": {
      "text/plain": [
       "<matplotlib.collections.QuadMesh at 0x2aac1854ae50>"
      ]
     },
     "execution_count": 22,
     "metadata": {},
     "output_type": "execute_result"
    },
    {
     "data": {
      "image/png": "[encoded data removed]",
      "text/plain": [
       "<Figure size 640x480 with 2 Axes>"
      ]
     },
     "metadata": {},
     "output_type": "display_data"
    }
   ],
   "source": [
    "datacube.sel(\n",
    "    time=obs.time.values[n_hour],\n",
    "    lon=slice(obs.obs_lon.values-dlon, obs.obs_lon.values+dlon),\n",
    "    lat=slice(obs.obs_lat.values-dlat, obs.obs_lat.values+dlat)\n",
    ").e5_tauv.plot()"
   ]
  },
  {
   "cell_type": "code",
   "execution_count": 23,
   "id": "5c3f9794",
   "metadata": {},
   "outputs": [
    {
     "name": "stdout",
     "output_type": "stream",
     "text": [
      "Tailles des variables individuelles :\n",
      "e5_tauu: 1600000000 bytes\n",
      "e5_tauv: 1600000000 bytes\n",
      "es_tauu: 1600000000 bytes\n",
      "es_tauv: 1600000000 bytes\n",
      "obs: 20000 bytes\n",
      "lat: 40000000 bytes\n",
      "lon: 40000000 bytes\n",
      "time: 500000 bytes\n",
      "obs_time: 20000 bytes\n",
      "obs_lat: 20000 bytes\n",
      "obs_lon: 20000 bytes\n",
      "Taille totale du dataset : 6480580000 bytes\n",
      "Taille totale du dataset : 6.035510450601578 Go\n"
     ]
    }
   ],
   "source": [
    "# Calculer la taille en mémoire de chaque variable\n",
    "tailles_variables = {var: res[var].nbytes for var in res.variables}\n",
    "\n",
    "# Calculer la taille totale du dataset\n",
    "taille_totale = sum(tailles_variables.values())\n",
    "\n",
    "print(\"Tailles des variables individuelles :\")\n",
    "for var, taille in tailles_variables.items():\n",
    "    print(f\"{var}: {taille} bytes\")\n",
    "\n",
    "print(f\"Taille totale du dataset : {taille_totale} bytes\")\n",
    "print(f\"Taille totale du dataset : {taille_totale / (1024 ** 3)} Go\")"
   ]
  },
  {
   "cell_type": "code",
   "execution_count": null,
   "id": "e1af634b",
   "metadata": {},
   "outputs": [],
   "source": []
  }
 ],
 "metadata": {
  "kernelspec": {
   "display_name": "Python [conda env:data-env]",
   "language": "python",
   "name": "conda-env-data-env-py"
  },
  "language_info": {
   "codemirror_mode": {
    "name": "ipython",
    "version": 3
   },
   "file_extension": ".py",
   "mimetype": "text/x-python",
   "name": "python",
   "nbconvert_exporter": "python",
   "pygments_lexer": "ipython3",
   "version": "3.11.7"
  }
 },
 "nbformat": 4,
 "nbformat_minor": 5
}
