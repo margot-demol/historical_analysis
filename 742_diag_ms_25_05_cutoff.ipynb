{
 "cells": [
  {
   "cell_type": "markdown",
   "id": "5f90127d-5c1e-4139-9522-a6293b1a6531",
   "metadata": {},
   "source": [
    "# Global ms diagnosis on main combination\n",
    "- compute residual\n",
    "- compute correlated and uncorrelated part of each term -> evaluate contribution in th H1 hypothesis (correlated part = physical signal)\n",
    "- evaluate H1"
   ]
  },
  {
   "cell_type": "code",
   "execution_count": 1,
   "id": "ab82decf-7f76-4734-802c-9648c2c7063c",
   "metadata": {},
   "outputs": [
    {
     "name": "stderr",
     "output_type": "stream",
     "text": [
      "/home1/datahome/mdemol/.miniconda3/envs/histenv2/lib/python3.9/site-packages/dask/config.py:742: FutureWarning: Dask configuration key 'distributed.scheduler.transition-log-length' has been deprecated; please use 'distributed.admin.low-level-log-length' instead\n",
      "  warnings.warn(\n",
      "/home1/datahome/mdemol/.miniconda3/envs/histenv2/lib/python3.9/site-packages/dask/config.py:742: FutureWarning: Dask configuration key 'distributed.comm.recent-messages-log-length' has been deprecated; please use 'distributed.admin.low-level-log-length' instead\n",
      "  warnings.warn(\n"
     ]
    }
   ],
   "source": [
    "import numpy as np\n",
    "import pandas as pd\n",
    "import xarray as xr\n",
    "\n",
    "import os\n",
    "from glob import glob\n",
    "\n",
    "import matplotlib.pyplot as plt\n",
    "\n",
    "import histlib.matchup as match\n",
    "import histlib.diagnosis as diag\n",
    "from histlib.cstes import labels, zarr_dir, matchup_dir, var\n",
    "from histlib.matchup import _data_var, _stress_var, _aviso_var"
   ]
  },
  {
   "cell_type": "code",
   "execution_count": 2,
   "id": "0f189a04-11a0-42ae-b97d-c61348721361",
   "metadata": {},
   "outputs": [],
   "source": [
    "DL =25*1e3 #meters\n",
    "DT = 1800.0 #seconds\n",
    "id_aviso = 'aviso__0__adt__es_cstrio_z15__alti_x'\n",
    "id_co = 'co__0__adt_filtered_ocean_tide_internal_tide__es_cstrio_z15__alti_x'"
   ]
  },
  {
   "cell_type": "markdown",
   "id": "1d56008e-ff4b-4c6f-ad0f-cde17431e51e",
   "metadata": {},
   "source": [
    "# Datasets "
   ]
  },
  {
   "cell_type": "code",
   "execution_count": 3,
   "id": "21e53b60-ccee-41f2-a5ff-ae19a6b0140c",
   "metadata": {},
   "outputs": [],
   "source": [
    "def global_ms_drifter_sat_year(dsmean, dsms, alpha):\n",
    "    #global ms\n",
    "    ms = (((dsms*dsms.nb_coloc).sum('drifter_sat_year'))/(dsms.nb_coloc.sum('drifter_sat_year'))).drop('nb_coloc')\n",
    "    print(dsms.nb_coloc.sum('drifter_sat_year'))\n",
    "    for v in dsms.keys():\n",
    "        if v != 'nb_coloc':\n",
    "            ms[v].attrs=dsms[v].attrs\n",
    "    #global mean and var\n",
    "    mean = (((dsmean*dsmean.nb_coloc).sum('drifter_sat_year'))/(dsmean.nb_coloc.sum('drifter_sat_year'))).drop('nb_coloc')\n",
    "    var = ms-mean**2\n",
    "    \n",
    "    #nb_coloc\n",
    "    nb_coloc = dsms.nb_coloc.sum('drifter_sat_year')\n",
    "\n",
    "    #error\n",
    "    from scipy.stats import ncx2\n",
    "    def get_xlow(mean, var, nb_coloc, alpha):\n",
    "        df = nb_coloc -1\n",
    "        nc = df*(mean**2)/var\n",
    "        norm = df/var\n",
    "        return ncx2.ppf(alpha/2, df, nc)/norm\n",
    "\n",
    "    def get_xup(mean, var, nb_coloc, alpha):\n",
    "        df = nb_coloc -1\n",
    "        nc = df*(mean**2)/var\n",
    "        norm = df/var\n",
    "        return ncx2.ppf(1-alpha/2, df, nc)/norm\n",
    "\n",
    "    mslow = xr.apply_ufunc(get_xlow, mean, var, nb_coloc, alpha)\n",
    "    msup = xr.apply_ufunc(get_xup, mean, var, nb_coloc, alpha)\n",
    "    \n",
    "    return ms, mslow, msup"
   ]
  },
  {
   "cell_type": "code",
   "execution_count": 4,
   "id": "03f1bbcb-2b1a-4139-9384-71ae7050030f",
   "metadata": {},
   "outputs": [
    {
     "name": "stdout",
     "output_type": "stream",
     "text": [
      "<xarray.DataArray 'nb_coloc' ()>\n",
      "array(131411)\n"
     ]
    }
   ],
   "source": [
    "dsms = xr.open_dataset(os.path.join(zarr_dir+'_ok','global',f'ms_{int(DL//1000)}_{DT}_drogued.zarr'))\n",
    "gps = [l for l in dsms.drifter_sat_year.values if 'gps' in l]\n",
    "dsmean = xr.open_dataset(os.path.join(zarr_dir+'_ok','global',f'mean_{int(DL//1000)}_{DT}_drogued.zarr'))\n",
    "\n",
    "ds_ms, mslow, msup = global_ms_drifter_sat_year(dsmean.sel(drifter_sat_year=gps), dsms.sel(drifter_sat_year=gps), alpha=0.01)\n",
    "mserr = (msup-mslow)/2"
   ]
  },
  {
   "cell_type": "code",
   "execution_count": 5,
   "id": "9fe7c03e-d9f2-4d22-b2e8-092bd4c54db9",
   "metadata": {},
   "outputs": [],
   "source": [
    "co = [v for v in ds_ms if 'sum_co__' in v and '__adt_filtered_ocean_tide_internal_tide__es_cstrio_z15__alti_x' in v]\n",
    "aviso = [v for v in ds_ms if 'sum_aviso__' in v and '__es_cstrio_z15__alti_x' in v]\n",
    "def cutoff_name(sum_str):\n",
    "    cutoff_str = {'0':'No filter', '01':'0.1', '02':'0.2', '05':'0.5', '1':'1', '15':'1.5', '2':'2', '25':'2.5'}\n",
    "    a = sum_str.split('__')[1]\n",
    "    return cutoff_str[a]\n",
    "cutoff = [cutoff_name(v) for v in co] \n",
    "\n",
    "def compute_sum_ms(ds, id_):\n",
    "    dic = ds['sum_'+id_].attrs\n",
    "    return ds[dic['acc']]+ds[dic['coriolis']]+ds[dic['ggrad']]+ds[dic['wind']]\n",
    "\n",
    "\n",
    "df = pd.DataFrame({'cutoff':cutoff,\n",
    "                   'alongtrack':[float(ds_ms[v].values) for v in co],\n",
    "                   'alongtrack_error':[float(mserr[v].values) for v in co],\n",
    "                    'alg_initial_ms':[float(compute_sum_ms(ds_ms, v.replace('sum_','')).values) for v in co],\n",
    "                   'aviso':[float(ds_ms[v].values) for v in aviso],\n",
    "                   'aviso_error':[float(mserr[v].values) for v in aviso],\n",
    "                   'aviso_initial_ms':[float(compute_sum_ms(ds_ms, v.replace('sum_','')).values) for v in aviso],\n",
    "                  }\n",
    "                 ).sort_values('cutoff').set_index('cutoff')\n",
    "df['alongtrack_TER']= df.alongtrack/df.alg_initial_ms*100\n",
    "df['aviso_TER']= df.aviso/df.aviso_initial_ms*100"
   ]
  },
  {
   "cell_type": "code",
   "execution_count": 6,
   "id": "aae34f7f-6105-46f0-872f-37cf071caada",
   "metadata": {},
   "outputs": [
    {
     "data": {
      "text/html": [
       "<div>\n",
       "<style scoped>\n",
       "    .dataframe tbody tr th:only-of-type {\n",
       "        vertical-align: middle;\n",
       "    }\n",
       "\n",
       "    .dataframe tbody tr th {\n",
       "        vertical-align: top;\n",
       "    }\n",
       "\n",
       "    .dataframe thead th {\n",
       "        text-align: right;\n",
       "    }\n",
       "</style>\n",
       "<table border=\"1\" class=\"dataframe\">\n",
       "  <thead>\n",
       "    <tr style=\"text-align: right;\">\n",
       "      <th></th>\n",
       "      <th>alongtrack</th>\n",
       "      <th>alongtrack_error</th>\n",
       "      <th>alg_initial_ms</th>\n",
       "      <th>aviso</th>\n",
       "      <th>aviso_error</th>\n",
       "      <th>aviso_initial_ms</th>\n",
       "      <th>alongtrack_TER</th>\n",
       "      <th>aviso_TER</th>\n",
       "    </tr>\n",
       "    <tr>\n",
       "      <th>cutoff</th>\n",
       "      <th></th>\n",
       "      <th></th>\n",
       "      <th></th>\n",
       "      <th></th>\n",
       "      <th></th>\n",
       "      <th></th>\n",
       "      <th></th>\n",
       "      <th></th>\n",
       "    </tr>\n",
       "  </thead>\n",
       "  <tbody>\n",
       "    <tr>\n",
       "      <th>0.1</th>\n",
       "      <td>2.064337e-10</td>\n",
       "      <td>2.074428e-12</td>\n",
       "      <td>4.817372e-10</td>\n",
       "      <td>1.030688e-10</td>\n",
       "      <td>1.035727e-12</td>\n",
       "      <td>3.549247e-10</td>\n",
       "      <td>42.851940</td>\n",
       "      <td>29.039630</td>\n",
       "    </tr>\n",
       "    <tr>\n",
       "      <th>0.2</th>\n",
       "      <td>1.846718e-10</td>\n",
       "      <td>1.855746e-12</td>\n",
       "      <td>5.501225e-10</td>\n",
       "      <td>9.768334e-11</td>\n",
       "      <td>9.816084e-13</td>\n",
       "      <td>4.233101e-10</td>\n",
       "      <td>33.569222</td>\n",
       "      <td>23.076073</td>\n",
       "    </tr>\n",
       "    <tr>\n",
       "      <th>0.5</th>\n",
       "      <td>1.911481e-10</td>\n",
       "      <td>1.920825e-12</td>\n",
       "      <td>6.182359e-10</td>\n",
       "      <td>1.215515e-10</td>\n",
       "      <td>1.221457e-12</td>\n",
       "      <td>4.914234e-10</td>\n",
       "      <td>30.918314</td>\n",
       "      <td>24.734579</td>\n",
       "    </tr>\n",
       "    <tr>\n",
       "      <th>1</th>\n",
       "      <td>2.031285e-10</td>\n",
       "      <td>2.041215e-12</td>\n",
       "      <td>6.411308e-10</td>\n",
       "      <td>1.383538e-10</td>\n",
       "      <td>1.390302e-12</td>\n",
       "      <td>5.143184e-10</td>\n",
       "      <td>31.682849</td>\n",
       "      <td>26.900427</td>\n",
       "    </tr>\n",
       "    <tr>\n",
       "      <th>1.5</th>\n",
       "      <td>2.091361e-10</td>\n",
       "      <td>2.101584e-12</td>\n",
       "      <td>6.869211e-10</td>\n",
       "      <td>1.471959e-10</td>\n",
       "      <td>1.479154e-12</td>\n",
       "      <td>5.601086e-10</td>\n",
       "      <td>30.445430</td>\n",
       "      <td>26.279884</td>\n",
       "    </tr>\n",
       "    <tr>\n",
       "      <th>2</th>\n",
       "      <td>1.962379e-10</td>\n",
       "      <td>1.971972e-12</td>\n",
       "      <td>7.706020e-10</td>\n",
       "      <td>1.663514e-10</td>\n",
       "      <td>1.671645e-12</td>\n",
       "      <td>6.437895e-10</td>\n",
       "      <td>25.465538</td>\n",
       "      <td>25.839401</td>\n",
       "    </tr>\n",
       "    <tr>\n",
       "      <th>2.5</th>\n",
       "      <td>1.995959e-10</td>\n",
       "      <td>2.005716e-12</td>\n",
       "      <td>8.042594e-10</td>\n",
       "      <td>1.808654e-10</td>\n",
       "      <td>1.817495e-12</td>\n",
       "      <td>6.774469e-10</td>\n",
       "      <td>24.817360</td>\n",
       "      <td>26.698090</td>\n",
       "    </tr>\n",
       "    <tr>\n",
       "      <th>No filter</th>\n",
       "      <td>2.362872e-10</td>\n",
       "      <td>2.374422e-12</td>\n",
       "      <td>8.487367e-10</td>\n",
       "      <td>2.191077e-10</td>\n",
       "      <td>2.201788e-12</td>\n",
       "      <td>7.219242e-10</td>\n",
       "      <td>27.839871</td>\n",
       "      <td>30.350515</td>\n",
       "    </tr>\n",
       "  </tbody>\n",
       "</table>\n",
       "</div>"
      ],
      "text/plain": [
       "             alongtrack  alongtrack_error  alg_initial_ms         aviso  \\\n",
       "cutoff                                                                    \n",
       "0.1        2.064337e-10      2.074428e-12    4.817372e-10  1.030688e-10   \n",
       "0.2        1.846718e-10      1.855746e-12    5.501225e-10  9.768334e-11   \n",
       "0.5        1.911481e-10      1.920825e-12    6.182359e-10  1.215515e-10   \n",
       "1          2.031285e-10      2.041215e-12    6.411308e-10  1.383538e-10   \n",
       "1.5        2.091361e-10      2.101584e-12    6.869211e-10  1.471959e-10   \n",
       "2          1.962379e-10      1.971972e-12    7.706020e-10  1.663514e-10   \n",
       "2.5        1.995959e-10      2.005716e-12    8.042594e-10  1.808654e-10   \n",
       "No filter  2.362872e-10      2.374422e-12    8.487367e-10  2.191077e-10   \n",
       "\n",
       "            aviso_error  aviso_initial_ms  alongtrack_TER  aviso_TER  \n",
       "cutoff                                                                \n",
       "0.1        1.035727e-12      3.549247e-10       42.851940  29.039630  \n",
       "0.2        9.816084e-13      4.233101e-10       33.569222  23.076073  \n",
       "0.5        1.221457e-12      4.914234e-10       30.918314  24.734579  \n",
       "1          1.390302e-12      5.143184e-10       31.682849  26.900427  \n",
       "1.5        1.479154e-12      5.601086e-10       30.445430  26.279884  \n",
       "2          1.671645e-12      6.437895e-10       25.465538  25.839401  \n",
       "2.5        1.817495e-12      6.774469e-10       24.817360  26.698090  \n",
       "No filter  2.201788e-12      7.219242e-10       27.839871  30.350515  "
      ]
     },
     "execution_count": 6,
     "metadata": {},
     "output_type": "execute_result"
    }
   ],
   "source": [
    "df"
   ]
  },
  {
   "cell_type": "code",
   "execution_count": 7,
   "id": "20bfde49-8d8f-429c-8820-e255b4c94110",
   "metadata": {},
   "outputs": [
    {
     "data": {
      "text/plain": [
       "Text(0.5, 0, 'Cut off frequency [cpd]')"
      ]
     },
     "execution_count": 7,
     "metadata": {},
     "output_type": "execute_result"
    },
    {
     "data": {
      "image/png": "[encoded data removed]",
      "text/plain": [
       "<Figure size 640x480 with 1 Axes>"
      ]
     },
     "metadata": {},
     "output_type": "display_data"
    }
   ],
   "source": [
    "fig, ax = plt.subplots()\n",
    "df.plot.bar(y='alongtrack',yerr='alongtrack_error', alpha=0.5, color = 'teal', ax=ax)\n",
    "df.plot.bar(y='aviso', yerr='aviso_error',alpha=0.5, color ='salmon', ax=ax)\n",
    "plt.ylabel(r'ReMS $[m^2/s^4]$')\n",
    "plt.xlabel(r'Cut off frequency [cpd]')"
   ]
  },
  {
   "cell_type": "code",
   "execution_count": 8,
   "id": "dbc59ed6-3f12-4a78-aa13-515fe2c8c0f0",
   "metadata": {},
   "outputs": [
    {
     "data": {
      "text/plain": [
       "Text(0.5, 0, 'Cut off frequency [cpd]')"
      ]
     },
     "execution_count": 8,
     "metadata": {},
     "output_type": "execute_result"
    },
    {
     "data": {
      "image/png": "[encoded data removed]",
      "text/plain": [
       "<Figure size 640x480 with 1 Axes>"
      ]
     },
     "metadata": {},
     "output_type": "display_data"
    }
   ],
   "source": [
    "fig, ax = plt.subplots()\n",
    "df.plot.bar(y='alg_initial_ms', alpha=0.5, color = 'teal', ax=ax)\n",
    "df.plot.bar(y='aviso_initial_ms', alpha=0.5, color ='salmon', ax=ax)\n",
    "plt.ylabel(r'Total initial variances sum $[m^2/s^4]$')\n",
    "plt.xlabel(r'Cut off frequency [cpd]')"
   ]
  },
  {
   "cell_type": "code",
   "execution_count": 13,
   "id": "56665d7c-6dc7-4e13-9770-10b6cb83c7de",
   "metadata": {},
   "outputs": [
    {
     "data": {
      "text/plain": [
       "Text(0.5, 0, 'Cut off frequency [cpd]')"
      ]
     },
     "execution_count": 13,
     "metadata": {},
     "output_type": "execute_result"
    },
    {
     "data": {
      "image/png": "[encoded data removed]",
      "text/plain": [
       "<Figure size 640x480 with 1 Axes>"
      ]
     },
     "metadata": {},
     "output_type": "display_data"
    }
   ],
   "source": [
    "fig, ax = plt.subplots()\n",
    "df.plot.bar(y='alongtrack_TER', alpha=0.5, color = 'teal', ax=ax)\n",
    "df.plot.bar(y='aviso_TER',alpha=0.5, color ='salmon', ax=ax)\n",
    "plt.ylabel('TER [%]')\n",
    "plt.xlabel('Cut off frequency [cpd]')"
   ]
  }
 ],
 "metadata": {
  "kernelspec": {
   "display_name": "Python 3 (ipykernel)",
   "language": "python",
   "name": "python3"
  },
  "language_info": {
   "codemirror_mode": {
    "name": "ipython",
    "version": 3
   },
   "file_extension": ".py",
   "mimetype": "text/x-python",
   "name": "python",
   "nbconvert_exporter": "python",
   "pygments_lexer": "ipython3",
   "version": "3.9.18"
  }
 },
 "nbformat": 4,
 "nbformat_minor": 5
}
