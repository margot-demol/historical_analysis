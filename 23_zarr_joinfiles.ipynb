{
 "cells": [
  {
   "cell_type": "markdown",
   "id": "af39c755-3598-45c7-aa67-175bf838ef60",
   "metadata": {},
   "source": [
    "# CONCAT _0, _1 zarr to have only on file per type"
   ]
  },
  {
   "cell_type": "code",
   "execution_count": 2,
   "id": "1dd82636-1dca-4256-9a8f-cfdf8cfa9c5a",
   "metadata": {},
   "outputs": [],
   "source": [
    "import numpy as np\n",
    "import pandas as pd\n",
    "import xarray as xr\n",
    "import pyproj\n",
    "from rasterio.transform import Affine\n",
    "\n",
    "import matplotlib.pyplot as plt\n",
    "import matplotlib.colors as cl\n",
    "\n",
    "import cartopy.crs as ccrs\n",
    "import cartopy.feature as cfeature\n",
    "import cartopy.geodesic as cgeo\n",
    "crs = ccrs.PlateCarree()\n",
    "import cmocean.cm as cm\n",
    "\n",
    "from xgcm import Grid\n",
    "from xhistogram.xarray import histogram\n",
    "import warnings\n",
    "warnings.filterwarnings(\"ignore\")\n",
    "\n",
    "import os\n",
    "from glob import glob\n",
    "\n",
    "import histlib.box as box\n",
    "import histlib.aviso as aviso\n",
    "import histlib.cstes as cstes\n",
    "from histlib.cstes import labels, zarr_dir"
   ]
  },
  {
   "cell_type": "code",
   "execution_count": 3,
   "id": "4ea90f96-a73a-4e1e-99a2-b7439366e809",
   "metadata": {},
   "outputs": [],
   "source": [
    "zarr_dir_ok = zarr_dir+'_ok'"
   ]
  },
  {
   "cell_type": "markdown",
   "id": "13be6fd6-deb6-4958-a29e-10aa474b4e38",
   "metadata": {},
   "source": [
    "- i=0,1 :  jobs=6, cores = 26 \n",
    "- i=2,3 :  jobs=1, cores = 26 \n",
    "- i=4 :    jobs=1, cores = 10\n",
    "- i=5 :    jobs=1, cores = 26\n",
    "- i=6 :    jobs=4, cores = 26"
   ]
  },
  {
   "cell_type": "code",
   "execution_count": 4,
   "id": "101fbfca-32ad-4e59-a311-882099a992f8",
   "metadata": {
    "tags": []
   },
   "outputs": [
    {
     "data": {
      "text/html": [
       "<div>\n",
       "    <div style=\"width: 24px; height: 24px; background-color: #e1e1e1; border: 3px solid #9D9D9D; border-radius: 5px; position: absolute;\"> </div>\n",
       "    <div style=\"margin-left: 48px;\">\n",
       "        <h3 style=\"margin-bottom: 0px;\">Client</h3>\n",
       "        <p style=\"color: #9D9D9D; margin-bottom: 0px;\">Client-66a7b657-951d-11ee-8fa2-0cc47a3f7839</p>\n",
       "        <table style=\"width: 100%; text-align: left;\">\n",
       "\n",
       "        <tr>\n",
       "        \n",
       "            <td style=\"text-align: left;\"><strong>Connection method:</strong> Cluster object</td>\n",
       "            <td style=\"text-align: left;\"><strong>Cluster type:</strong> dask_jobqueue.PBSCluster</td>\n",
       "        \n",
       "        </tr>\n",
       "\n",
       "        \n",
       "            <tr>\n",
       "                <td style=\"text-align: left;\">\n",
       "                    <strong>Dashboard: </strong> <a href=\"http://10.148.1.70:8787/status\" target=\"_blank\">http://10.148.1.70:8787/status</a>\n",
       "                </td>\n",
       "                <td style=\"text-align: left;\"></td>\n",
       "            </tr>\n",
       "        \n",
       "\n",
       "        </table>\n",
       "\n",
       "        \n",
       "\n",
       "        \n",
       "            <details>\n",
       "            <summary style=\"margin-bottom: 20px;\"><h3 style=\"display: inline;\">Cluster Info</h3></summary>\n",
       "            <div class=\"jp-RenderedHTMLCommon jp-RenderedHTML jp-mod-trusted jp-OutputArea-output\">\n",
       "    <div style=\"width: 24px; height: 24px; background-color: #e1e1e1; border: 3px solid #9D9D9D; border-radius: 5px; position: absolute;\">\n",
       "    </div>\n",
       "    <div style=\"margin-left: 48px;\">\n",
       "        <h3 style=\"margin-bottom: 0px; margin-top: 0px;\">PBSCluster</h3>\n",
       "        <p style=\"color: #9D9D9D; margin-bottom: 0px;\">e5382ff6</p>\n",
       "        <table style=\"width: 100%; text-align: left;\">\n",
       "            <tr>\n",
       "                <td style=\"text-align: left;\">\n",
       "                    <strong>Dashboard:</strong> <a href=\"http://10.148.1.70:8787/status\" target=\"_blank\">http://10.148.1.70:8787/status</a>\n",
       "                </td>\n",
       "                <td style=\"text-align: left;\">\n",
       "                    <strong>Workers:</strong> 0\n",
       "                </td>\n",
       "            </tr>\n",
       "            <tr>\n",
       "                <td style=\"text-align: left;\">\n",
       "                    <strong>Total threads:</strong> 0\n",
       "                </td>\n",
       "                <td style=\"text-align: left;\">\n",
       "                    <strong>Total memory:</strong> 0 B\n",
       "                </td>\n",
       "            </tr>\n",
       "            \n",
       "        </table>\n",
       "\n",
       "        <details>\n",
       "            <summary style=\"margin-bottom: 20px;\">\n",
       "                <h3 style=\"display: inline;\">Scheduler Info</h3>\n",
       "            </summary>\n",
       "\n",
       "            <div style=\"\">\n",
       "    <div>\n",
       "        <div style=\"width: 24px; height: 24px; background-color: #FFF7E5; border: 3px solid #FF6132; border-radius: 5px; position: absolute;\"> </div>\n",
       "        <div style=\"margin-left: 48px;\">\n",
       "            <h3 style=\"margin-bottom: 0px;\">Scheduler</h3>\n",
       "            <p style=\"color: #9D9D9D; margin-bottom: 0px;\">Scheduler-eef110c4-776f-4e7f-9f26-675cfacd2bae</p>\n",
       "            <table style=\"width: 100%; text-align: left;\">\n",
       "                <tr>\n",
       "                    <td style=\"text-align: left;\">\n",
       "                        <strong>Comm:</strong> tcp://10.148.1.70:40301\n",
       "                    </td>\n",
       "                    <td style=\"text-align: left;\">\n",
       "                        <strong>Workers:</strong> 0\n",
       "                    </td>\n",
       "                </tr>\n",
       "                <tr>\n",
       "                    <td style=\"text-align: left;\">\n",
       "                        <strong>Dashboard:</strong> <a href=\"http://10.148.1.70:8787/status\" target=\"_blank\">http://10.148.1.70:8787/status</a>\n",
       "                    </td>\n",
       "                    <td style=\"text-align: left;\">\n",
       "                        <strong>Total threads:</strong> 0\n",
       "                    </td>\n",
       "                </tr>\n",
       "                <tr>\n",
       "                    <td style=\"text-align: left;\">\n",
       "                        <strong>Started:</strong> Just now\n",
       "                    </td>\n",
       "                    <td style=\"text-align: left;\">\n",
       "                        <strong>Total memory:</strong> 0 B\n",
       "                    </td>\n",
       "                </tr>\n",
       "            </table>\n",
       "        </div>\n",
       "    </div>\n",
       "\n",
       "    <details style=\"margin-left: 48px;\">\n",
       "        <summary style=\"margin-bottom: 20px;\">\n",
       "            <h3 style=\"display: inline;\">Workers</h3>\n",
       "        </summary>\n",
       "\n",
       "        \n",
       "\n",
       "    </details>\n",
       "</div>\n",
       "\n",
       "        </details>\n",
       "    </div>\n",
       "</div>\n",
       "            </details>\n",
       "        \n",
       "\n",
       "    </div>\n",
       "</div>"
      ],
      "text/plain": [
       "<Client: 'tcp://10.148.1.70:40301' processes=0 threads=0, memory=0 B>"
      ]
     },
     "execution_count": 4,
     "metadata": {},
     "output_type": "execute_result"
    }
   ],
   "source": [
    "if True:\n",
    "    from dask.distributed import Client\n",
    "    from dask_jobqueue import PBSCluster\n",
    "    #cluster = PBSCluster(cores=56, processes=28, walltime='04:00:00')\n",
    "    #cluster = PBSCluster(cores=7, processes=7, walltime='04:00:00')\n",
    "    cluster = PBSCluster(cores=10, processes=10, walltime='04:00:00')\n",
    "    w = cluster.scale(jobs=3)\n",
    "else:\n",
    "    from dask.distributed import Client, LocalCluster\n",
    "    cluster = LocalCluster()\n",
    "\n",
    "client = Client(cluster)\n",
    "client"
   ]
  },
  {
   "cell_type": "markdown",
   "id": "9b343906-1d3c-4df1-ad27-385173214d8d",
   "metadata": {},
   "source": [
    "# AVISO"
   ]
  },
  {
   "cell_type": "code",
   "execution_count": 5,
   "id": "ba12e3c9-e287-48bd-87dc-4bfc4b2c1724",
   "metadata": {},
   "outputs": [],
   "source": [
    "for l in labels:\n",
    "    files = sorted(glob(os.path.join(zarr_dir, f'aviso_{l}_*.zarr')))\n",
    "    for f in files :\n",
    "        ds = xr.open_dataset(f).chunk({'obs':500})\n",
    "        if ds.dims['aviso_time'] ==25 :#keep only five days of aviso (error for first drifter type, corrected after because too long)\n",
    "            ds = ds.isel(aviso_time=slice(10, 15))\n",
    "        if '_0.' in f :#overwrite\n",
    "            ds.to_zarr(os.path.join(zarr_dir_ok, 'aviso', f'aviso_{l}.zarr'), mode = 'w')\n",
    "        else : #append_dim\n",
    "            ds.to_zarr(os.path.join(zarr_dir_ok,'aviso', f'aviso_{l}.zarr'), append_dim='obs')\n",
    "    print(l)"
   ]
  },
  {
   "cell_type": "markdown",
   "id": "6bc9f8c2-065e-4fb5-b8c9-d21db3d19123",
   "metadata": {},
   "source": [
    "# ERASTAR"
   ]
  },
  {
   "cell_type": "code",
   "execution_count": null,
   "id": "ce8884d8-76dc-45b1-92c2-fe4a300c994f",
   "metadata": {},
   "outputs": [],
   "source": [
    "for l in labels:\n",
    "    files = sorted(glob(os.path.join(zarr_dir, f'erastar_{l}_*.zarr')))\n",
    "    for f in files :\n",
    "        ds = xr.open_dataset(f).chunk({'obs':500})\n",
    "        if '_0.' in f :#overwrite\n",
    "            ds.to_zarr(os.path.join(zarr_dir_ok, 'erastar', f'erastar_{l}.zarr'), mode = 'w')\n",
    "        else : #append_dim\n",
    "            ds.to_zarr(os.path.join(zarr_dir_ok,'erastar', f'erastar_{l}.zarr'), append_dim='obs')\n",
    "    print(l)"
   ]
  },
  {
   "cell_type": "markdown",
   "id": "3e4fbd57-6cd6-4e82-9c11-db3788ed5fe1",
   "metadata": {},
   "source": [
    "# TEST"
   ]
  },
  {
   "cell_type": "code",
   "execution_count": 15,
   "id": "a979c817-a907-4441-a33b-7be5577f0037",
   "metadata": {},
   "outputs": [],
   "source": [
    "ds = xr.open_dataset(os.path.join(zarr_dir_ok,f'aviso_{l}.zarr')).chunk({'obs':500}).persist()"
   ]
  },
  {
   "cell_type": "code",
   "execution_count": 6,
   "id": "055f56f5-abe6-43c2-b10b-870e9439b5e1",
   "metadata": {},
   "outputs": [],
   "source": [
    "cluster.close()"
   ]
  },
  {
   "cell_type": "code",
   "execution_count": null,
   "id": "f6481348-686d-4f64-b443-cca6228640b0",
   "metadata": {},
   "outputs": [],
   "source": [
    "ds=xr"
   ]
  }
 ],
 "metadata": {
  "kernelspec": {
   "display_name": "Python 3 (ipykernel)",
   "language": "python",
   "name": "python3"
  },
  "language_info": {
   "codemirror_mode": {
    "name": "ipython",
    "version": 3
   },
   "file_extension": ".py",
   "mimetype": "text/x-python",
   "name": "python",
   "nbconvert_exporter": "python",
   "pygments_lexer": "ipython3",
   "version": "3.9.18"
  }
 },
 "nbformat": 4,
 "nbformat_minor": 5
}
