{
 "cells": [
  {
   "cell_type": "markdown",
   "id": "af39c755-3598-45c7-aa67-175bf838ef60",
   "metadata": {},
   "source": [
    "# CONCAT _0, _1 zarr to have only on file per type"
   ]
  },
  {
   "cell_type": "code",
   "execution_count": 1,
   "id": "1dd82636-1dca-4256-9a8f-cfdf8cfa9c5a",
   "metadata": {},
   "outputs": [
    {
     "name": "stderr",
     "output_type": "stream",
     "text": [
      "/home1/datahome/mdemol/.miniconda3/envs/histenv2/lib/python3.9/site-packages/dask/config.py:742: FutureWarning: Dask configuration key 'distributed.scheduler.transition-log-length' has been deprecated; please use 'distributed.admin.low-level-log-length' instead\n",
      "  warnings.warn(\n",
      "/home1/datahome/mdemol/.miniconda3/envs/histenv2/lib/python3.9/site-packages/dask/config.py:742: FutureWarning: Dask configuration key 'distributed.comm.recent-messages-log-length' has been deprecated; please use 'distributed.admin.low-level-log-length' instead\n",
      "  warnings.warn(\n"
     ]
    }
   ],
   "source": [
    "import numpy as np\n",
    "import pandas as pd\n",
    "import xarray as xr\n",
    "import pyproj\n",
    "from rasterio.transform import Affine\n",
    "\n",
    "import matplotlib.pyplot as plt\n",
    "import matplotlib.colors as cl\n",
    "\n",
    "import cartopy.crs as ccrs\n",
    "import cartopy.feature as cfeature\n",
    "import cartopy.geodesic as cgeo\n",
    "crs = ccrs.PlateCarree()\n",
    "import cmocean.cm as cm\n",
    "\n",
    "from xgcm import Grid\n",
    "from xhistogram.xarray import histogram\n",
    "import warnings\n",
    "warnings.filterwarnings(\"ignore\")\n",
    "\n",
    "import os\n",
    "from glob import glob\n",
    "\n",
    "import histlib.box as box\n",
    "import histlib.aviso as aviso\n",
    "import histlib.cstes as cstes\n",
    "from histlib.cstes import labels, zarr_dir"
   ]
  },
  {
   "cell_type": "code",
   "execution_count": 2,
   "id": "4ea90f96-a73a-4e1e-99a2-b7439366e809",
   "metadata": {},
   "outputs": [],
   "source": [
    "zarr_dir_ok = zarr_dir+'_ok'"
   ]
  },
  {
   "cell_type": "markdown",
   "id": "13be6fd6-deb6-4958-a29e-10aa474b4e38",
   "metadata": {},
   "source": [
    "- i=0,1 :  jobs=6, cores = 26 \n",
    "- i=2,3 :  jobs=1, cores = 26 \n",
    "- i=4 :    jobs=1, cores = 10\n",
    "- i=5 :    jobs=1, cores = 26\n",
    "- i=6 :    jobs=4, cores = 26"
   ]
  },
  {
   "cell_type": "code",
   "execution_count": 3,
   "id": "101fbfca-32ad-4e59-a311-882099a992f8",
   "metadata": {
    "tags": []
   },
   "outputs": [
    {
     "data": {
      "text/html": [
       "<div>\n",
       "    <div style=\"width: 24px; height: 24px; background-color: #e1e1e1; border: 3px solid #9D9D9D; border-radius: 5px; position: absolute;\"> </div>\n",
       "    <div style=\"margin-left: 48px;\">\n",
       "        <h3 style=\"margin-bottom: 0px;\">Client</h3>\n",
       "        <p style=\"color: #9D9D9D; margin-bottom: 0px;\">Client-e44cfc63-902b-11ee-b923-0cc47a3f705d</p>\n",
       "        <table style=\"width: 100%; text-align: left;\">\n",
       "\n",
       "        <tr>\n",
       "        \n",
       "            <td style=\"text-align: left;\"><strong>Connection method:</strong> Cluster object</td>\n",
       "            <td style=\"text-align: left;\"><strong>Cluster type:</strong> dask_jobqueue.PBSCluster</td>\n",
       "        \n",
       "        </tr>\n",
       "\n",
       "        \n",
       "            <tr>\n",
       "                <td style=\"text-align: left;\">\n",
       "                    <strong>Dashboard: </strong> <a href=\"http://10.148.1.62:8787/status\" target=\"_blank\">http://10.148.1.62:8787/status</a>\n",
       "                </td>\n",
       "                <td style=\"text-align: left;\"></td>\n",
       "            </tr>\n",
       "        \n",
       "\n",
       "        </table>\n",
       "\n",
       "        \n",
       "\n",
       "        \n",
       "            <details>\n",
       "            <summary style=\"margin-bottom: 20px;\"><h3 style=\"display: inline;\">Cluster Info</h3></summary>\n",
       "            <div class=\"jp-RenderedHTMLCommon jp-RenderedHTML jp-mod-trusted jp-OutputArea-output\">\n",
       "    <div style=\"width: 24px; height: 24px; background-color: #e1e1e1; border: 3px solid #9D9D9D; border-radius: 5px; position: absolute;\">\n",
       "    </div>\n",
       "    <div style=\"margin-left: 48px;\">\n",
       "        <h3 style=\"margin-bottom: 0px; margin-top: 0px;\">PBSCluster</h3>\n",
       "        <p style=\"color: #9D9D9D; margin-bottom: 0px;\">6a246ce9</p>\n",
       "        <table style=\"width: 100%; text-align: left;\">\n",
       "            <tr>\n",
       "                <td style=\"text-align: left;\">\n",
       "                    <strong>Dashboard:</strong> <a href=\"http://10.148.1.62:8787/status\" target=\"_blank\">http://10.148.1.62:8787/status</a>\n",
       "                </td>\n",
       "                <td style=\"text-align: left;\">\n",
       "                    <strong>Workers:</strong> 0\n",
       "                </td>\n",
       "            </tr>\n",
       "            <tr>\n",
       "                <td style=\"text-align: left;\">\n",
       "                    <strong>Total threads:</strong> 0\n",
       "                </td>\n",
       "                <td style=\"text-align: left;\">\n",
       "                    <strong>Total memory:</strong> 0 B\n",
       "                </td>\n",
       "            </tr>\n",
       "            \n",
       "        </table>\n",
       "\n",
       "        <details>\n",
       "            <summary style=\"margin-bottom: 20px;\">\n",
       "                <h3 style=\"display: inline;\">Scheduler Info</h3>\n",
       "            </summary>\n",
       "\n",
       "            <div style=\"\">\n",
       "    <div>\n",
       "        <div style=\"width: 24px; height: 24px; background-color: #FFF7E5; border: 3px solid #FF6132; border-radius: 5px; position: absolute;\"> </div>\n",
       "        <div style=\"margin-left: 48px;\">\n",
       "            <h3 style=\"margin-bottom: 0px;\">Scheduler</h3>\n",
       "            <p style=\"color: #9D9D9D; margin-bottom: 0px;\">Scheduler-66d59bae-1aec-4dc6-8dd2-15048cb7b6e8</p>\n",
       "            <table style=\"width: 100%; text-align: left;\">\n",
       "                <tr>\n",
       "                    <td style=\"text-align: left;\">\n",
       "                        <strong>Comm:</strong> tcp://10.148.1.62:57558\n",
       "                    </td>\n",
       "                    <td style=\"text-align: left;\">\n",
       "                        <strong>Workers:</strong> 0\n",
       "                    </td>\n",
       "                </tr>\n",
       "                <tr>\n",
       "                    <td style=\"text-align: left;\">\n",
       "                        <strong>Dashboard:</strong> <a href=\"http://10.148.1.62:8787/status\" target=\"_blank\">http://10.148.1.62:8787/status</a>\n",
       "                    </td>\n",
       "                    <td style=\"text-align: left;\">\n",
       "                        <strong>Total threads:</strong> 0\n",
       "                    </td>\n",
       "                </tr>\n",
       "                <tr>\n",
       "                    <td style=\"text-align: left;\">\n",
       "                        <strong>Started:</strong> Just now\n",
       "                    </td>\n",
       "                    <td style=\"text-align: left;\">\n",
       "                        <strong>Total memory:</strong> 0 B\n",
       "                    </td>\n",
       "                </tr>\n",
       "            </table>\n",
       "        </div>\n",
       "    </div>\n",
       "\n",
       "    <details style=\"margin-left: 48px;\">\n",
       "        <summary style=\"margin-bottom: 20px;\">\n",
       "            <h3 style=\"display: inline;\">Workers</h3>\n",
       "        </summary>\n",
       "\n",
       "        \n",
       "\n",
       "    </details>\n",
       "</div>\n",
       "\n",
       "        </details>\n",
       "    </div>\n",
       "</div>\n",
       "            </details>\n",
       "        \n",
       "\n",
       "    </div>\n",
       "</div>"
      ],
      "text/plain": [
       "<Client: 'tcp://10.148.1.62:57558' processes=0 threads=0, memory=0 B>"
      ]
     },
     "execution_count": 3,
     "metadata": {},
     "output_type": "execute_result"
    }
   ],
   "source": [
    "if True:\n",
    "    from dask.distributed import Client\n",
    "    from dask_jobqueue import PBSCluster\n",
    "    #cluster = PBSCluster(cores=56, processes=28, walltime='04:00:00')\n",
    "    #cluster = PBSCluster(cores=7, processes=7, walltime='04:00:00')\n",
    "    cluster = PBSCluster(cores=10, processes=10, walltime='04:00:00')\n",
    "    w = cluster.scale(jobs=1)\n",
    "else:\n",
    "    from dask.distributed import Client, LocalCluster\n",
    "    cluster = LocalCluster()\n",
    "\n",
    "client = Client(cluster)\n",
    "client"
   ]
  },
  {
   "cell_type": "code",
   "execution_count": 14,
   "id": "ba12e3c9-e287-48bd-87dc-4bfc4b2c1724",
   "metadata": {},
   "outputs": [
    {
     "name": "stdout",
     "output_type": "stream",
     "text": [
      "Frozen({'obs': 40000, 'box_y': 80, 'box_x': 120, 'aviso_time': 5, 'site_obs': 1489})\n",
      "Frozen({'obs': 40000, 'box_y': 80, 'box_x': 120, 'aviso_time': 5, 'site_obs': 1489})\n",
      "Frozen({'obs': 5718, 'box_y': 80, 'box_x': 120, 'aviso_time': 5, 'site_obs': 1489})\n"
     ]
    }
   ],
   "source": [
    "for l in [\"gps_Sentinel-3_A_2020\"]:#labels:\n",
    "    files = sorted(glob(os.path.join(zarr_dir, f'aviso_{l}_*.zarr')))\n",
    "    for f in files :\n",
    "        ds = xr.open_dataset(f).chunk({'obs':500})\n",
    "        if ds.dims['aviso_time'] ==25 :#keep only five days of aviso (error for first drifter type, corrected after because too long)\n",
    "            ds = ds.isel(aviso_time=slice(10, 15))\n",
    "        if '_0.' in f :#overwrite\n",
    "            ds.to_zarr(os.path.join(zarr_dir_ok,f'aviso_{l}.zarr'), mode = 'w')\n",
    "        else : #append_dim\n",
    "            ds.to_zarr(os.path.join(zarr_dir_ok,f'aviso_{l}.zarr'), append_dim='obs')"
   ]
  },
  {
   "cell_type": "code",
   "execution_count": 15,
   "id": "a979c817-a907-4441-a33b-7be5577f0037",
   "metadata": {},
   "outputs": [],
   "source": [
    "ds = xr.open_dataset(os.path.join(zarr_dir_ok,f'aviso_{l}.zarr')).chunk({'obs':500}).persist()"
   ]
  },
  {
   "cell_type": "code",
   "execution_count": 25,
   "id": "055f56f5-abe6-43c2-b10b-870e9439b5e1",
   "metadata": {},
   "outputs": [],
   "source": [
    "cluster.close()"
   ]
  },
  {
   "cell_type": "code",
   "execution_count": null,
   "id": "f6481348-686d-4f64-b443-cca6228640b0",
   "metadata": {},
   "outputs": [],
   "source": [
    "ds=xr"
   ]
  }
 ],
 "metadata": {
  "kernelspec": {
   "display_name": "Python 3 (ipykernel)",
   "language": "python",
   "name": "python3"
  },
  "language_info": {
   "codemirror_mode": {
    "name": "ipython",
    "version": 3
   },
   "file_extension": ".py",
   "mimetype": "text/x-python",
   "name": "python",
   "nbconvert_exporter": "python",
   "pygments_lexer": "ipython3",
   "version": "3.9.18"
  }
 },
 "nbformat": 4,
 "nbformat_minor": 5
}
