{
 "cells": [
  {
   "cell_type": "markdown",
   "id": "5f90127d-5c1e-4139-9522-a6293b1a6531",
   "metadata": {},
   "source": [
    "# SAtellite differences"
   ]
  },
  {
   "cell_type": "code",
   "execution_count": 1,
   "id": "ab82decf-7f76-4734-802c-9648c2c7063c",
   "metadata": {},
   "outputs": [
    {
     "name": "stderr",
     "output_type": "stream",
     "text": [
      "/home1/datahome/mdemol/.miniconda3/envs/histenv2/lib/python3.9/site-packages/dask/config.py:742: FutureWarning: Dask configuration key 'distributed.scheduler.transition-log-length' has been deprecated; please use 'distributed.admin.low-level-log-length' instead\n",
      "  warnings.warn(\n",
      "/home1/datahome/mdemol/.miniconda3/envs/histenv2/lib/python3.9/site-packages/dask/config.py:742: FutureWarning: Dask configuration key 'distributed.comm.recent-messages-log-length' has been deprecated; please use 'distributed.admin.low-level-log-length' instead\n",
      "  warnings.warn(\n"
     ]
    }
   ],
   "source": [
    "import numpy as np\n",
    "import pandas as pd\n",
    "import xarray as xr\n",
    "\n",
    "import os\n",
    "from glob import glob\n",
    "\n",
    "import matplotlib.pyplot as plt\n",
    "import matplotlib.transforms as mtransforms\n",
    "\n",
    "import histlib.matchup as match\n",
    "import histlib.diagnosis as diag\n",
    "from histlib.cstes import labels, zarr_dir, matchup_dir, var\n",
    "from histlib.matchup import _data_var, _stress_var, _aviso_var"
   ]
  },
  {
   "cell_type": "code",
   "execution_count": 2,
   "id": "0f189a04-11a0-42ae-b97d-c61348721361",
   "metadata": {},
   "outputs": [],
   "source": [
    "DL =25*1e3 #meters\n",
    "DT = 0.5*3600 #seconds\n",
    "id_aviso = 'aviso__25__adt__es_cstrio_z15__drifter_x'\n",
    "id_co = 'co__25__adt_filtered_ocean_tide_internal_tide__es_cstrio_z15__drifter_x'"
   ]
  },
  {
   "cell_type": "code",
   "execution_count": 3,
   "id": "21e53b60-ccee-41f2-a5ff-ae19a6b0140c",
   "metadata": {},
   "outputs": [],
   "source": [
    "def global_ms_drifter_sat_year(dsms):\n",
    "    ds = (((dsms*dsms.nb_coloc).sum('drifter_sat_year'))/(dsms.nb_coloc.sum('drifter_sat_year'))).drop('nb_coloc')\n",
    "    print(dsms.nb_coloc.sum('drifter_sat_year'))\n",
    "    for v in dsms.keys():\n",
    "        if v != 'nb_coloc':\n",
    "            ds[v].attrs=dsms[v].attrs\n",
    "    return ds\n",
    "\n",
    "def put_fig_letter(ax, letter):\n",
    "    trans = mtransforms.ScaledTranslation(10/72, -5/72, fig.dpi_scale_trans)\n",
    "    ax.text(0.0, 1.0, letter+')', transform=ax.transAxes+trans,\n",
    "            fontsize='medium', verticalalignment='top', fontfamily='serif',\n",
    "            bbox=dict(facecolor='0.7', edgecolor='none', pad=3.0))"
   ]
  },
  {
   "cell_type": "code",
   "execution_count": 4,
   "id": "7555ced4-9b72-4cf5-9193-225b486e97e9",
   "metadata": {},
   "outputs": [],
   "source": [
    "def get_drifter_sat_year_from_label(l):\n",
    "    L = l.split('_')\n",
    "    if 'Sentinel' in l:\n",
    "        return [L[0], L[1]+'_'+L[2], L[-1]]\n",
    "    else :\n",
    "        return L"
   ]
  },
  {
   "cell_type": "code",
   "execution_count": 9,
   "id": "42b4a198-58d5-4e6b-b0e3-793547f7b387",
   "metadata": {},
   "outputs": [],
   "source": [
    "Ls = np.unique([get_drifter_sat_year_from_label(l)[1] for l in labels])"
   ]
  },
  {
   "cell_type": "code",
   "execution_count": 10,
   "id": "54e2339f-e576-42f8-a324-43fd22176d99",
   "metadata": {},
   "outputs": [
    {
     "data": {
      "text/plain": [
       "array(['Cryosat-2', 'Jason-2', 'Jason-3', 'SARAL', 'Sentinel-3_A',\n",
       "       'Sentinel-3_B'], dtype='<U12')"
      ]
     },
     "execution_count": 10,
     "metadata": {},
     "output_type": "execute_result"
    }
   ],
   "source": [
    "Ls"
   ]
  },
  {
   "cell_type": "markdown",
   "id": "1d56008e-ff4b-4c6f-ad0f-cde17431e51e",
   "metadata": {},
   "source": [
    "# Datasets "
   ]
  },
  {
   "cell_type": "code",
   "execution_count": 13,
   "id": "03f1bbcb-2b1a-4139-9384-71ae7050030f",
   "metadata": {},
   "outputs": [
    {
     "name": "stdout",
     "output_type": "stream",
     "text": [
      "<xarray.DataArray 'nb_coloc' ()>\n",
      "array(65445)\n",
      "<xarray.DataArray 'nb_coloc' ()>\n",
      "array(44373)\n",
      "<xarray.DataArray 'nb_coloc' ()>\n",
      "array(27620)\n",
      "<xarray.DataArray 'nb_coloc' ()>\n",
      "array(52322)\n",
      "<xarray.DataArray 'nb_coloc' ()>\n",
      "array(38763)\n",
      "<xarray.DataArray 'nb_coloc' ()>\n",
      "array(9337)\n"
     ]
    }
   ],
   "source": [
    "dsd = xr.open_dataset(os.path.join(zarr_dir+'_ok','global', f'ms_{int(DL//1000)}_{DT}_drogued.zarr'))\n",
    "Ls = np.unique([get_drifter_sat_year_from_label(l)[1] for l in labels])\n",
    "dic_sat = {ls :[l for l in dsd.drifter_sat_year.values if ls in l] for ls in Ls}\n",
    "DS_sat = {ls : global_ms_drifter_sat_year(dsd.sel(drifter_sat_year=dic_sat[ls])).persist() for ls in Ls}"
   ]
  },
  {
   "cell_type": "code",
   "execution_count": 24,
   "id": "36ea204e-8ebd-459c-8edf-5fd0cff12b90",
   "metadata": {},
   "outputs": [
    {
     "data": {
      "text/plain": [
       "[Text(0, 0, 'Cryosat-2'),\n",
       " Text(1, 0, 'Jason-2'),\n",
       " Text(2, 0, 'Jason-3'),\n",
       " Text(3, 0, 'SARAL'),\n",
       " Text(4, 0, 'Sentinel-3_A'),\n",
       " Text(5, 0, 'Sentinel-3_B')]"
      ]
     },
     "execution_count": 24,
     "metadata": {},
     "output_type": "execute_result"
    },
    {
     "data": {
      "image/png": "[encoded data removed]",
      "text/plain": [
       "<Figure size 640x480 with 1 Axes>"
      ]
     },
     "metadata": {},
     "output_type": "display_data"
    }
   ],
   "source": [
    "fig, ax = plt.subplots(1,1)\n",
    "for i in range(len(Ls)):\n",
    "    ax.bar(i, DS_sat[Ls[i]]['sum_'+id_co])\n",
    "ax.set_xticks([0, 1, 2, 3, 4, 5])\n",
    "ax.set_xticklabels(Ls)"
   ]
  }
 ],
 "metadata": {
  "kernelspec": {
   "display_name": "Python 3 (ipykernel)",
   "language": "python",
   "name": "python3"
  },
  "language_info": {
   "codemirror_mode": {
    "name": "ipython",
    "version": 3
   },
   "file_extension": ".py",
   "mimetype": "text/x-python",
   "name": "python",
   "nbconvert_exporter": "python",
   "pygments_lexer": "ipython3",
   "version": "3.9.18"
  }
 },
 "nbformat": 4,
 "nbformat_minor": 5
}
